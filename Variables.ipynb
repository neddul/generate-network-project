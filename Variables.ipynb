{
 "cells": [
  {
   "cell_type": "markdown",
   "id": "761f205d",
   "metadata": {},
   "source": [
    "### Variable creation"
   ]
  },
  {
   "cell_type": "code",
   "execution_count": 32,
   "id": "84e43481",
   "metadata": {},
   "outputs": [],
   "source": [
    "\n",
    "from datetime import date, timedelta\n",
    "from random import choices\n",
    "import random\n",
    "import pandas as pd\n",
    "import numpy as np"
   ]
  },
  {
   "cell_type": "code",
   "execution_count": 13,
   "id": "b94585d3",
   "metadata": {},
   "outputs": [
    {
     "name": "stdout",
     "output_type": "stream",
     "text": [
      "['19521223-5807', '19290524-8987', '19681030-8733', '19541021-5205', '19620309-8222', '19230613-5067', '19010710-8469']\n"
     ]
    }
   ],
   "source": [
    "### person nummer creation \n",
    "\n",
    " \n",
    "# initializing dates ranges \n",
    "test_date1, test_date2 = date(1900, 1, 1), date(2005, 1, 1)\n",
    " \n",
    "\n",
    "# initializing K\n",
    "K = 7\n",
    " \n",
    "res_dates = [test_date1]\n",
    " \n",
    "# loop to get each date till end date\n",
    "while test_date1 != test_date2:\n",
    "    test_date1 += timedelta(days=1)\n",
    "    res_dates.append(test_date1)\n",
    "res = choices(res_dates, k=K)\n",
    "# random K dates from pack\n",
    "\n",
    "person_nummer = []\n",
    "for i in range(K):\n",
    "    #not perfect for now\n",
    "    rand_num = random.randint(1000, 9999) \n",
    "    num_string = str(rand_num)\n",
    "    current = res[i]\n",
    "    current_string = current.strftime(\"%Y%m%d-\")\n",
    "    person_nummer.append(current_string + num_string)\n",
    "# printing \n",
    "print(person_nummer)"
   ]
  },
  {
   "cell_type": "markdown",
   "id": "f58c82cc",
   "metadata": {},
   "source": [
    "## Number of Children"
   ]
  },
  {
   "cell_type": "code",
   "execution_count": 53,
   "id": "737c0810",
   "metadata": {},
   "outputs": [
    {
     "name": "stdout",
     "output_type": "stream",
     "text": [
      "[2 1 3 0 1 0 0 1 0 1 2 0 0 0 4 0 1 0 7 0 3 1 1 5 0 0 8 6 0 5 0 7 0 0 1 3 6\n",
      " 0 1 1 0 4 1 1 1 0 1 6 0 4 2 5 1 0 3 0 7 1 4 3 6 0 0 0 0 2 0 6 3 5 0 0 5 0\n",
      " 2 0 5 0 0 3 7 3 0 0 0 0 1 2 2 1 1 0 2 1 1 2 5 0 0 0]\n",
      "[0, 0, 0, 0, 0, 0, 0, 0, 0, 1, 0, 0, 0, 0, 0, 0, 0, 0, 0, 0, 0, 0, 0, 1, 0, 0, 1, 0, 0, 2, 0, 2, 0, 0, 1, 1, 2, 0, 1, 0, 0, 2, 0, 0, 0, 0, 0, 2, 0, 0, 1, 2, 0, 0, 1, 0, 0, 1, 0, 0, 0, 0, 0, 0, 0, 0, 0, 1, 0, 2, 0, 0, 2, 0, 1, 0, 1, 0, 0, 0, 1, 0, 0, 0, 0, 0, 0, 1, 0, 0, 0, 0, 0, 0, 1, 0, 1, 0, 0, 0]\n",
      "[0, 1, 1, 0, 0, 0, 0, 0, 0, 0, 1, 0, 0, 0, 1, 0, 0, 0, 0, 0, 1, 0, 0, 0, 0, 0, 0, 2, 0, 0, 0, 3, 0, 0, 0, 0, 1, 0, 0, 0, 0, 1, 1, 0, 0, 0, 0, 1, 0, 1, 0, 2, 0, 0, 1, 0, 0, 0, 0, 0, 1, 0, 0, 0, 0, 0, 0, 2, 2, 0, 0, 0, 1, 0, 0, 0, 0, 0, 0, 0, 1, 1, 0, 0, 0, 0, 0, 0, 0, 0, 1, 0, 0, 0, 0, 1, 1, 0, 0, 0]\n"
     ]
    }
   ],
   "source": [
    "##number of children \n",
    "\n",
    "\n",
    "#1.6 children per women --> difference to foreign born were its about 2 children per woman --> should I take that into accoumt\n",
    "# would make sense for trial analysis\n",
    "#uniform\n",
    "def random_sampler(start, end, number):\n",
    "    output = []\n",
    "    for k in range(number):\n",
    "        output.append(random.randint(start, end))\n",
    "        \n",
    "    return output\n",
    "\n",
    "\n",
    "#maybe make certain values less likely\n",
    "\n",
    "\n",
    "\n",
    "#distribution of children: \n",
    "# Parameters for the truncated normal distribution\n",
    "mean = 1.16  # Mean of the normal distribution -- lower than what is given as it most likely is not an actual normal\n",
    "stddev = 3  # Standard deviation of the normal distribution\n",
    "lower_bound = 0.0  # Minimum value (never below 0)\n",
    "# Number of samples you want to generate\n",
    "num_samples = 100\n",
    "\n",
    "# Generate num_samples samples from a standard normal distribution\n",
    "samples = np.random.normal(loc=mean, scale=stddev, size=num_samples)\n",
    "\n",
    "# Discretize the samples by rounding to the nearest integer\n",
    "discretized_samples = np.round(samples).astype(int)\n",
    "#should i make them dependent on each other?\n",
    "discretized_samples[discretized_samples < 0] = 0\n",
    "print(discretized_samples)\n",
    "\n",
    "#how do i translate this now into these categories\n",
    "barn0_3 = []\n",
    "barn4_6 = []\n",
    "barn7_10 = []\n",
    "barn11_15 = []\n",
    "barn16_17 = []\n",
    "barn18plus= []\n",
    "barn18_19 = []\n",
    "\n",
    "options = [\"barn0_3\", \"barn4_6\", \"barn7_10\", \"barn_11_15\", \"barn16_17\", \"barn18plus\", \"barn18_19\"]\n",
    "for i in range(len(discretized_samples)):\n",
    "    count = discretized_samples[i]\n",
    "    barn0_3.append(0)\n",
    "    barn4_6.append(0)\n",
    "    barn7_10.append(0)\n",
    "    barn11_15.append(0)\n",
    "    barn16_17.append(0)\n",
    "    barn18plus.append(0)\n",
    "    barn18_19.append(0)\n",
    "    if count >0:\n",
    "        children = choices(options, k= count)\n",
    "        #make sure people dont have too many children\n",
    "        for c in children:\n",
    "            if c == \"barn0_3\": \n",
    "                barn0_3[-1] += 1\n",
    "            elif c == \"barn4_6\":\n",
    "                barn4_6[-1] += 1\n",
    "            elif c == \"barn7_10\":\n",
    "                barn7_10[-1] += 1\n",
    "            elif c == \"barn_11_15\":\n",
    "                barn11_15[-1] += 1\n",
    "            elif c == \"barn16_17\":\n",
    "                barn16_17[-1] += 1\n",
    "            elif c == \"barn18plus\":\n",
    "                barn18plus[-1] += 1\n",
    "            elif c == \"barn18_19\":\n",
    "                barn18_19[-1] += 1\n",
    "        \n",
    "\n",
    "print(barn11_15)\n",
    "print(barn18plus)"
   ]
  },
  {
   "cell_type": "code",
   "execution_count": null,
   "id": "701854c9",
   "metadata": {},
   "outputs": [],
   "source": []
  },
  {
   "cell_type": "code",
   "execution_count": null,
   "id": "54135e19",
   "metadata": {},
   "outputs": [],
   "source": []
  },
  {
   "cell_type": "code",
   "execution_count": null,
   "id": "1f4db4e0",
   "metadata": {},
   "outputs": [],
   "source": []
  },
  {
   "cell_type": "markdown",
   "id": "b8ef3f00",
   "metadata": {},
   "source": [
    "## FamID"
   ]
  },
  {
   "cell_type": "code",
   "execution_count": 17,
   "id": "0a56c801",
   "metadata": {},
   "outputs": [
    {
     "name": "stdout",
     "output_type": "stream",
     "text": [
      "['19521223-5807', '19290524-8987', '19681030-8733', '19541021-5205', '19620309-8222', '19230613-5067', '19010710-8469']\n"
     ]
    }
   ],
   "source": [
    "# personnummer\n",
    "\n",
    "#percentage where we just take the persons personnummer\n",
    "# percentage were we sample from other peoples personnummer --> need to make sure that if people are connected it is\n",
    "# the same personnummer for all people in a family\n",
    "\n",
    "# maybe choose a random list of a family leaders and assign them --> need to check age though\n",
    "\n",
    "#first copy and past\n",
    "\n",
    "\n",
    "\n",
    "#shuffle group --> currently not taking into account where they live --> we should do \n",
    "#everyone is their own family\n",
    "def create_famID(person_nummer): \n",
    "    famID= []\n",
    "    \n",
    "    for i in range(len(person_nummer)):\n",
    "        famID.append(person_nummer[i])\n",
    "    return famID\n",
    "famID = create_famID(person_nummer)\n",
    "\n",
    "print(famID)\n",
    "\n",
    "#randomely create groups? and take oldest or youngest member?\n",
    "\n",
    "#average household size 2.15 --> distribution of household sizes(?)"
   ]
  },
  {
   "cell_type": "markdown",
   "id": "3f9e2f28",
   "metadata": {},
   "source": [
    "## Utbildning"
   ]
  },
  {
   "cell_type": "markdown",
   "id": "700d73d4",
   "metadata": {},
   "source": [
    "#SUN2000Niva --> and old utbildningsvivå \n",
    "\n",
    "\n",
    "Sun2000niva_old Utbildningsnivå, högsta, aggregerad\n",
    "till 7 'svenska' nivåer\n",
    "1990-2019 Lisa UReg\n",
    "Sun2000niva Utbildningsnivå, högsta avslutade,\n",
    "SUN2000\n",
    "1990-2019 Lisa UReg\n",
    "Sun2000Inr Utbildningsinriktning, högsta\n",
    "avslutade, SUN2000\n",
    "1990-2019 Lisa UReg\n",
    "Sun2000Grp Utbildningsgrupp, högsta avslutade,\n",
    "SUN2000\n",
    "1990-2019 Lisa UReg\n",
    "ExamAr Utbildningsår (avslutningsår högsta\n",
    "utbildning)\n",
    "1990-2019 Lisa UReg\n",
    "ExamKommun Utbildningskommun (avslutningsår\n",
    "högsta utbildning)\n",
    "2000-2019 Lisa UR\n",
    "\n",
    "\n"
   ]
  },
  {
   "cell_type": "code",
   "execution_count": 29,
   "id": "40070953",
   "metadata": {},
   "outputs": [
    {
     "data": {
      "text/plain": [
       "0     Folkskoleutbildning och motsvarande           ...\n",
       "1     Grundskoleutbildning och motsvarande          ...\n",
       "2     Samhällsvetenskaplig, social och humanistisk g...\n",
       "3     Naturvetenskaplig gymnasieutbildning          ...\n",
       "4     Gymnasial utbildning inom pedagogik och läraru...\n",
       "                            ...                        \n",
       "92    Transportutbildning på eftergymnasial nivå    ...\n",
       "93    Övrig eftergymnasial utbildning inom tjänster ...\n",
       "94    Gymnasial utbildning, okänd inriktning        ...\n",
       "95    Eftergymnasial utbildning, okänd inriktning   ...\n",
       "96                                                  NaN\n",
       "Name: 1, Length: 97, dtype: object"
      ]
     },
     "execution_count": 29,
     "metadata": {},
     "output_type": "execute_result"
    }
   ],
   "source": [
    "grupper = pd.read_excel(\"variable_data/grupper.xlsx\", header=None).iloc[:,1]\n",
    "\n",
    "#get rid of spaces\n",
    "grupper"
   ]
  },
  {
   "cell_type": "code",
   "execution_count": 30,
   "id": "ffd3856f",
   "metadata": {},
   "outputs": [
    {
     "name": "stdout",
     "output_type": "stream",
     "text": [
      "[15683, 43461, 58189, 68680, 36208, 56985, 64691, 78482, 94658, 30710]\n",
      "[389, 714, 280, 880, 934, 752, 383, 917, 721, 763]\n",
      "['Samhällsvetenskaplig, social och humanistisk gymnasieutbildning                                     ', 'Tandhygienistutbildning                                                                             ', 'Lantbruksvetenskaplig högskoleutbildning (minst 3 år)                                               ', 'Tandläkarutbildning                                                                                 ', 'Gymnasial utbildning, okänd inriktning                                                                 ', 'Gymnasieutbildning inom energi och VVS       ', 'Tandläkarutbildning                                                                                 ', 'Ingenjörsutbildning inom elektroteknik, teknisk fysik och datateknik (eftergymnasial)                                ', 'Minst 30 högskolepoäng inom samhällsvetenskap, ekonomi och juridik, ej examen                              ', 'Minst 30 högskolepoäng inom tjänster, ej examen                                         ']\n"
     ]
    }
   ],
   "source": [
    "\n",
    "#basic random creation of the numbers \n",
    "\n",
    "\n",
    "\n",
    "\n",
    "#probably not numbers because we save 000 as well --> do we need to make sure it matches --> question matteo, do we have both\n",
    "#or just one each\n",
    "Sun2000niva_old = random_sampler(10000,99999, 10)\n",
    "\n",
    "#numbers of three --> not all numbers are possible but does it really matter?\n",
    "SUN2000Niva = random_sampler(100,999, 10)\n",
    "\n",
    "#more complex\n",
    "\n",
    "#three numbers and a letter \n",
    "\n",
    "#maybe sample each value and then go by percentage in public\n",
    "#SUN2000Inr = \n",
    "\n",
    "\n",
    "#name of the groups maybe sample from a file \n",
    "\n",
    "\n",
    "SUN2000Grp = choices(grupper, k=10)\n",
    "print(Sun2000niva_old)\n",
    "print(SUN2000Niva)\n",
    "print(SUN2000Grp)"
   ]
  },
  {
   "cell_type": "code",
   "execution_count": 17,
   "id": "3842e6eb",
   "metadata": {},
   "outputs": [],
   "source": [
    "#CfarNr_LISA\n",
    "\n",
    "CfarNr_LISA = random_sampler(100000,999999, 10)\n",
    "\n",
    "\n",
    "#CFARNrJ\n",
    "\n",
    "#unsure about format\n",
    "\n",
    "#arbstId connecting the different components\n",
    "\n",
    "#ArbstIdJ \n",
    "\n",
    "\n",
    "#arbnr for companies that work under multiple adresses to get a number for the company #and special numbers 999...\n",
    "\n",
    "AstNr_LISA = random_sampler(10000, 99999, 10)\n",
    "\n",
    "AstKommun # based on the place the company is at \n",
    "\n",
    "#astkommunJ\n",
    "\n",
    "#astlän\n",
    "#astlänj\n",
    "                                "
   ]
  },
  {
   "cell_type": "markdown",
   "id": "95e5a5b9",
   "metadata": {},
   "source": [
    "### demographic economic variables\n",
    "\n"
   ]
  },
  {
   "cell_type": "code",
   "execution_count": 18,
   "id": "431c88f3",
   "metadata": {},
   "outputs": [
    {
     "data": {
      "text/plain": [
       "['1991', '1971', '2004', '2004', '1921', '1977', '1921']"
      ]
     },
     "execution_count": 18,
     "metadata": {},
     "output_type": "execute_result"
    }
   ],
   "source": [
    "#födelsear\n",
    "fodelseAr = []\n",
    "for i in person_nummer:\n",
    "    fodelseAr.append(i[:4])\n",
    "    \n",
    "fodelseAr"
   ]
  },
  {
   "cell_type": "code",
   "execution_count": 26,
   "id": "5b495712",
   "metadata": {},
   "outputs": [
    {
     "data": {
      "text/plain": [
       "[0, 0, 0, 0, 0, 0, 0]"
      ]
     },
     "execution_count": 26,
     "metadata": {},
     "output_type": "execute_result"
    }
   ],
   "source": [
    "#dödsdatum \n",
    "\n",
    "import numpy as np\n",
    "\n",
    "DodDatum = []\n",
    "for i in fodelseAr:\n",
    "    death = np.random.binomial(n=1, p=.001)\n",
    "    if death == 1:\n",
    "        \n",
    "        #missing the check that death must happen after birth \n",
    "        DodDatum.append(choices(res_dates))\n",
    "    else: \n",
    "        DodDatum.append(0)\n",
    "\n",
    "\n",
    "DodDatum\n",
    "# random chance and data must be above date of birth"
   ]
  },
  {
   "cell_type": "code",
   "execution_count": 21,
   "id": "a7546d5a",
   "metadata": {},
   "outputs": [
    {
     "data": {
      "text/plain": [
       "[28, 48, 15, 15, 98, 42, 98]"
      ]
     },
     "execution_count": 21,
     "metadata": {},
     "output_type": "execute_result"
    }
   ],
   "source": [
    "#alder \n",
    "\n",
    "current_year = 2019\n",
    "alder = []\n",
    "for i in fodelseAr:\n",
    "    alder.append(current_year-int(i))\n",
    "     \n",
    "alder\n",
    "\n",
    "#we need to restrict to older than 16"
   ]
  },
  {
   "cell_type": "code",
   "execution_count": null,
   "id": "39010bb2",
   "metadata": {},
   "outputs": [],
   "source": [
    "#havent found Kon yet"
   ]
  },
  {
   "cell_type": "code",
   "execution_count": 29,
   "id": "af3e352b",
   "metadata": {},
   "outputs": [],
   "source": [
    "#InvUtvLand  sample from country list\n",
    "\n",
    "#currently just to fill \n",
    "\n",
    "#currently dummy variables\n",
    "InvUtvLand = []\n",
    "FodelseLandnamn = []\n",
    "for i in range(10):\n",
    "    immigration = np.random.binomial(n=1, p=.001)\n",
    "    if immigration == 1:\n",
    "        \n",
    "        #missing the check that death must happen after birth \n",
    "        InvUtvLand.append(\"Denmark\")\n",
    "        FodelseLandnamn.append(\"Denmark\")\n",
    "        #InvUtManad\n",
    "    else: \n",
    "        InvUtvLand.append(\"Sverige\")\n",
    "        \n",
    "        #invUtManad\n",
    "        \n",
    "        \n",
    "        #FodelseLandnamn\n",
    "        FodelseLandnamn.append(\"Sverige\")\n",
    "\n",
    "\n",
    "\n",
    "\n",
    "#if there is a country wi will sample data of it\n"
   ]
  },
  {
   "cell_type": "code",
   "execution_count": null,
   "id": "c754cd71",
   "metadata": {},
   "outputs": [],
   "source": [
    "#postTpy?!\n",
    "\n",
    "#FodelseTidMo\n",
    "\n",
    "\n",
    "#FodelseLandNamnMor\n"
   ]
  },
  {
   "cell_type": "code",
   "execution_count": null,
   "id": "a43f6361",
   "metadata": {},
   "outputs": [],
   "source": [
    "\n",
    "\n"
   ]
  }
 ],
 "metadata": {
  "kernelspec": {
   "display_name": "Python 3 (ipykernel)",
   "language": "python",
   "name": "python3"
  },
  "language_info": {
   "codemirror_mode": {
    "name": "ipython",
    "version": 3
   },
   "file_extension": ".py",
   "mimetype": "text/x-python",
   "name": "python",
   "nbconvert_exporter": "python",
   "pygments_lexer": "ipython3",
   "version": "3.11.4"
  }
 },
 "nbformat": 4,
 "nbformat_minor": 5
}
