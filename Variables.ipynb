{
 "cells": [
  {
   "cell_type": "markdown",
   "id": "4d81887c",
   "metadata": {},
   "source": [
    "### Variable creation"
   ]
  },
  {
   "cell_type": "code",
   "execution_count": 8,
   "id": "9fa68e30",
   "metadata": {},
   "outputs": [
    {
     "name": "stdout",
     "output_type": "stream",
     "text": [
      "['19910910-1027', '19710729-6292', '20041119-5325', '20040808-3547', '19210921-9475', '19770314-7214', '19210103-7627']\n"
     ]
    }
   ],
   "source": [
    "### person nummer creation \n",
    "\n",
    "from datetime import date, timedelta\n",
    "from random import choices\n",
    "import random\n",
    " \n",
    "# initializing dates ranges \n",
    "test_date1, test_date2 = date(1900, 1, 1), date(2005, 1, 1)\n",
    " \n",
    "\n",
    "# initializing K\n",
    "K = 7\n",
    " \n",
    "res_dates = [test_date1]\n",
    " \n",
    "# loop to get each date till end date\n",
    "while test_date1 != test_date2:\n",
    "    test_date1 += timedelta(days=1)\n",
    "    res_dates.append(test_date1)\n",
    "res = choices(res_dates, k=K)\n",
    "# random K dates from pack\n",
    "\n",
    "person_nummer = []\n",
    "for i in range(K):\n",
    "    #not perfect for now\n",
    "    rand_num = random.randint(1000, 9999) \n",
    "    num_string = str(rand_num)\n",
    "    current = res[i]\n",
    "    current_string = current.strftime(\"%Y%m%d-\")\n",
    "    person_nummer.append(current_string + num_string)\n",
    "# printing \n",
    "print(person_nummer)"
   ]
  },
  {
   "cell_type": "code",
   "execution_count": 14,
   "id": "4aa9488a",
   "metadata": {},
   "outputs": [],
   "source": [
    "##number of children \n",
    "\n",
    "def random_sampler(start, end, number):\n",
    "    output = []\n",
    "    for k in range(number):\n",
    "        output.append(random.randint(start, end))\n",
    "        \n",
    "    return output\n",
    "\n",
    "\n",
    "#maybe make certain values less likely\n",
    "\n",
    "barn0_3 = random_sampler(0,3,10)\n",
    "barn4_6 = random_sampler(0,3,10)\n",
    "barn7_10 = random_sampler(0,3,10)\n",
    "barn11_15 = random_sampler(0,3,10)\n",
    "barn16_17 = random_sampler(0,3,10)\n",
    "barn18plus = random_sampler(0,7, 10)\n",
    "barn18_19 = random_sampler(0,3,10)"
   ]
  },
  {
   "cell_type": "code",
   "execution_count": 15,
   "id": "cff443fd",
   "metadata": {},
   "outputs": [
    {
     "data": {
      "text/plain": [
       "[1, 3, 2, 1, 2, 2, 0, 2, 0, 2]"
      ]
     },
     "execution_count": 15,
     "metadata": {},
     "output_type": "execute_result"
    }
   ],
   "source": [
    "barn0_3"
   ]
  },
  {
   "cell_type": "code",
   "execution_count": null,
   "id": "10976a8a",
   "metadata": {},
   "outputs": [],
   "source": [
    "#family id is more complicated --> person number of the oldest number person (or the youngest generation) for \n",
    "# people living in the same property\n",
    "# more complex --> maybe ask Matteo about that\n",
    "\n",
    "#people need to live close togeter\n"
   ]
  },
  {
   "cell_type": "markdown",
   "id": "0df9c949",
   "metadata": {},
   "source": [
    "#SUN2000Niva --> and old utbildningsvivå \n",
    "\n",
    "\n",
    "Sun2000niva_old Utbildningsnivå, högsta, aggregerad\n",
    "till 7 'svenska' nivåer\n",
    "1990-2019 Lisa UReg\n",
    "Sun2000niva Utbildningsnivå, högsta avslutade,\n",
    "SUN2000\n",
    "1990-2019 Lisa UReg\n",
    "Sun2000Inr Utbildningsinriktning, högsta\n",
    "avslutade, SUN2000\n",
    "1990-2019 Lisa UReg\n",
    "Sun2000Grp Utbildningsgrupp, högsta avslutade,\n",
    "SUN2000\n",
    "1990-2019 Lisa UReg\n",
    "ExamAr Utbildningsår (avslutningsår högsta\n",
    "utbildning)\n",
    "1990-2019 Lisa UReg\n",
    "ExamKommun Utbildningskommun (avslutningsår\n",
    "högsta utbildning)\n",
    "2000-2019 Lisa UR\n",
    "\n",
    "\n"
   ]
  },
  {
   "cell_type": "code",
   "execution_count": 17,
   "id": "32fcaf40",
   "metadata": {},
   "outputs": [],
   "source": [
    "#CfarNr_LISA\n",
    "\n",
    "CfarNr_LISA = random_sampler(100000,999999, 10)\n",
    "\n",
    "\n",
    "#CFARNrJ\n",
    "\n",
    "#unsure about format\n",
    "\n",
    "#arbstId connecting the different components\n",
    "\n",
    "#ArbstIdJ \n",
    "\n",
    "\n",
    "#arbnr for companies that work under multiple adresses to get a number for the company #and special numbers 999...\n",
    "\n",
    "AstNr_LISA = random_sampler(10000, 99999, 10)\n",
    "\n",
    "AstKommun # based on the place the company is at \n",
    "\n",
    "#astkommunJ\n",
    "\n",
    "#astlän\n",
    "#astlänj\n",
    "                                "
   ]
  },
  {
   "cell_type": "markdown",
   "id": "cf88d559",
   "metadata": {},
   "source": [
    "### demographic economic variables\n",
    "\n"
   ]
  },
  {
   "cell_type": "code",
   "execution_count": 18,
   "id": "a5d61b4a",
   "metadata": {},
   "outputs": [
    {
     "data": {
      "text/plain": [
       "['1991', '1971', '2004', '2004', '1921', '1977', '1921']"
      ]
     },
     "execution_count": 18,
     "metadata": {},
     "output_type": "execute_result"
    }
   ],
   "source": [
    "#födelsear\n",
    "fodelseAr = []\n",
    "for i in person_nummer:\n",
    "    fodelseAr.append(i[:4])\n",
    "    \n",
    "fodelseAr"
   ]
  },
  {
   "cell_type": "code",
   "execution_count": 26,
   "id": "e948b5fb",
   "metadata": {},
   "outputs": [
    {
     "data": {
      "text/plain": [
       "[0, 0, 0, 0, 0, 0, 0]"
      ]
     },
     "execution_count": 26,
     "metadata": {},
     "output_type": "execute_result"
    }
   ],
   "source": [
    "#dödsdatum \n",
    "\n",
    "import numpy as np\n",
    "\n",
    "DodDatum = []\n",
    "for i in fodelseAr:\n",
    "    death = np.random.binomial(n=1, p=.001)\n",
    "    if death == 1:\n",
    "        \n",
    "        #missing the check that death must happen after birth \n",
    "        DodDatum.append(choices(res_dates))\n",
    "    else: \n",
    "        DodDatum.append(0)\n",
    "\n",
    "\n",
    "DodDatum\n",
    "# random chance and data must be above date of birth"
   ]
  },
  {
   "cell_type": "code",
   "execution_count": 21,
   "id": "b92a052f",
   "metadata": {},
   "outputs": [
    {
     "data": {
      "text/plain": [
       "[28, 48, 15, 15, 98, 42, 98]"
      ]
     },
     "execution_count": 21,
     "metadata": {},
     "output_type": "execute_result"
    }
   ],
   "source": [
    "#alder \n",
    "\n",
    "current_year = 2019\n",
    "alder = []\n",
    "for i in fodelseAr:\n",
    "    alder.append(current_year-int(i))\n",
    "     \n",
    "alder\n",
    "\n",
    "#we need to restrict to older than 16"
   ]
  },
  {
   "cell_type": "code",
   "execution_count": null,
   "id": "040566ca",
   "metadata": {},
   "outputs": [],
   "source": [
    "#havent found Kon yet"
   ]
  },
  {
   "cell_type": "code",
   "execution_count": 29,
   "id": "9b169420",
   "metadata": {},
   "outputs": [],
   "source": [
    "#InvUtvLand  sample from country list\n",
    "\n",
    "#currently just to fill \n",
    "\n",
    "#currently dummy variables\n",
    "InvUtvLand = []\n",
    "FodelseLandnamn = []\n",
    "for i in range(10):\n",
    "    immigration = np.random.binomial(n=1, p=.001)\n",
    "    if immigration == 1:\n",
    "        \n",
    "        #missing the check that death must happen after birth \n",
    "        InvUtvLand.append(\"Denmark\")\n",
    "        FodelseLandnamn.append(\"Denmark\")\n",
    "        #InvUtManad\n",
    "    else: \n",
    "        InvUtvLand.append(\"Sverige\")\n",
    "        \n",
    "        #invUtManad\n",
    "        \n",
    "        \n",
    "        #FodelseLandnamn\n",
    "        FodelseLandnamn.append(\"Sverige\")\n",
    "\n",
    "\n",
    "\n",
    "\n",
    "#if there is a country wi will sample data of it\n"
   ]
  },
  {
   "cell_type": "code",
   "execution_count": null,
   "id": "2eb2ff73",
   "metadata": {},
   "outputs": [],
   "source": [
    "#postTpy?!\n",
    "\n",
    "#FodelseTidMo\n",
    "\n",
    "\n",
    "#FodelseLandNamnMor\n"
   ]
  },
  {
   "cell_type": "code",
   "execution_count": null,
   "id": "64f584df",
   "metadata": {},
   "outputs": [],
   "source": [
    "\n",
    "\n"
   ]
  }
 ],
 "metadata": {
  "kernelspec": {
   "display_name": "Python 3 (ipykernel)",
   "language": "python",
   "name": "python3"
  },
  "language_info": {
   "codemirror_mode": {
    "name": "ipython",
    "version": 3
   },
   "file_extension": ".py",
   "mimetype": "text/x-python",
   "name": "python",
   "nbconvert_exporter": "python",
   "pygments_lexer": "ipython3",
   "version": "3.11.4"
  }
 },
 "nbformat": 4,
 "nbformat_minor": 5
}
