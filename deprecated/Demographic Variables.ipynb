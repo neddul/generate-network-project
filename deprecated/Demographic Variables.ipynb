{
 "cells": [
  {
   "cell_type": "markdown",
   "id": "5d3c3922",
   "metadata": {},
   "source": [
    "## Variable Generation"
   ]
  },
  {
   "cell_type": "markdown",
   "id": "9150e36d",
   "metadata": {},
   "source": [
    "#### 1. FodelseAr\n",
    "This is the birth year it is extracted from the personnummer"
   ]
  },
  {
   "cell_type": "code",
   "execution_count": 1939,
   "id": "cefd93ec",
   "metadata": {},
   "outputs": [],
   "source": [
    "#extract first 4 values of personnummer to get the age\n",
    "def fodelse_ar(personnummer):\n",
    "    return personnummer[:4]"
   ]
  },
  {
   "cell_type": "markdown",
   "id": "8722c821",
   "metadata": {},
   "source": [
    "#### 2. DodDatum\n",
    "Date of death (year,month,day)"
   ]
  },
  {
   "cell_type": "code",
   "execution_count": 1940,
   "id": "2595e2c1",
   "metadata": {},
   "outputs": [],
   "source": [
    "import random\n",
    "from random import randint\n",
    "from datetime import datetime, timedelta\n",
    "\n",
    "today = datetime.now()\n",
    "\n",
    "#generate date of death by adding random number of days to the birthday\n",
    "def dod_datum(personnummer, end_year=2019):\n",
    "    if randint(1,100) <= 5:\n",
    "        year, month, day = int(personnummer[:4]), int(personnummer[4:6]), int(personnummer[6:8])\n",
    "        birthday = datetime(year, month, day)\n",
    "        min_days = 1 #minimum number of days to be added to birthday\n",
    "        max_days = (datetime(end_year, 12, 31) - birthday).days #maximum number of days to be added to birthday (using end of previous year)\n",
    "        random_days = random.randint(min_days, max_days)\n",
    "        deathday = birthday + timedelta(days=random_days)\n",
    "        return str(deathday.strftime('%Y%m%d'))\n",
    "    else:\n",
    "        return None"
   ]
  },
  {
   "cell_type": "markdown",
   "id": "ae008ff5",
   "metadata": {},
   "source": [
    "#### 3. Alder\n",
    "This is the age and can be calculated from birth year in personnummer."
   ]
  },
  {
   "cell_type": "code",
   "execution_count": 1941,
   "id": "b394ca4c",
   "metadata": {},
   "outputs": [],
   "source": [
    "from datetime import datetime\n",
    "import dateutil.relativedelta\n",
    "\n",
    "#calcuate age using birthday from personnummer\n",
    "def alder(personnummer):\n",
    "    today = datetime.now()\n",
    "    year, month, day = int(personnummer[:4]), int(personnummer[4:6]), int(personnummer[6:8])\n",
    "    birthday = datetime(year, month, day)\n",
    "    age = dateutil.relativedelta.relativedelta(today, birthday)\n",
    "    years = age.years\n",
    "    return years"
   ]
  },
  {
   "cell_type": "markdown",
   "id": "fcdec3d3",
   "metadata": {},
   "source": [
    "#### 4. Kon: \n",
    "Sex (Male/Female) - based on 2022 statistics 10.52 million people, 5.3 million men & 5.22 million women so assign 50.38% of the values as M and 49.62% as F."
   ]
  },
  {
   "cell_type": "code",
   "execution_count": 1942,
   "id": "e5bd36b5",
   "metadata": {},
   "outputs": [],
   "source": [
    "import random\n",
    "\n",
    "def kon():\n",
    "    m_pop = 50.38\n",
    "    f_pop = 49.62\n",
    "    \n",
    "    gender = random.choices(population = ['M', 'F'],weights = [m_pop, f_pop],k=1)[0]\n",
    "\n",
    "    return gender"
   ]
  },
  {
   "cell_type": "markdown",
   "id": "8b9c47bb",
   "metadata": {},
   "source": [
    "#### 5. InvUtvLand: \n",
    "In the case of immigration, the information refers to the country from which the person emigrated and in the case of emigration, the country to which the person immigrates."
   ]
  },
  {
   "cell_type": "code",
   "execution_count": 1943,
   "id": "c087eb6a",
   "metadata": {},
   "outputs": [],
   "source": [
    "import random\n",
    "\n",
    "def inv_utv_land():\n",
    "    countries = ['Sweden', 'India', 'Poland', 'Germany', 'Syria', 'Pakistan', 'Iran', 'Afghanistan', 'Turkey', 'Romania', 'China', 'Iraq', 'Finland', 'USA', 'Russia', 'Netherlands', 'Brazil', 'Denmark', 'UK', 'Italy']\n",
    "    random_country = random.choice(countries)\n",
    "    return random_country  "
   ]
  },
  {
   "cell_type": "markdown",
   "id": "d8849824",
   "metadata": {},
   "source": [
    "#### 6. InvUtvManad: \n",
    "Year and month for immigration to Sweden and year and month for emigration from Sweden."
   ]
  },
  {
   "cell_type": "code",
   "execution_count": 1944,
   "id": "4bacbca6",
   "metadata": {},
   "outputs": [],
   "source": [
    "def inv_ut_manad(personnummer, end_year=2019):\n",
    "    year, month = int(personnummer[:4]), int(personnummer[4:6])\n",
    "    date = datetime(year, month, 1)\n",
    "    min_days = 1 #minimum number of days to be added to birthday\n",
    "    max_days = (datetime(end_year, 12, 31) - date).days #maximum number of days to be added to birthday (using end of previous year)\n",
    "    random_days = random.randint(min_days, max_days)\n",
    "    inv_ut_manad = date + timedelta(days=random_days)\n",
    "    return inv_ut_manad.strftime('%Y-%m')"
   ]
  },
  {
   "cell_type": "markdown",
   "id": "3c35c37f",
   "metadata": {},
   "source": [
    "#### 7. PostTyp"
   ]
  },
  {
   "cell_type": "markdown",
   "id": "d68450fc",
   "metadata": {},
   "source": []
  },
  {
   "cell_type": "code",
   "execution_count": 1945,
   "id": "8e056a00",
   "metadata": {},
   "outputs": [],
   "source": [
    "def post_typ(): #either immigration or emmigration\n",
    "    values = ['Inv', 'Utv']\n",
    "    return random.choice(values)"
   ]
  },
  {
   "cell_type": "markdown",
   "id": "4cf10e7a",
   "metadata": {},
   "source": [
    "#### 8. FodelseLandnamn\n",
    "SCB 2022 list - Sweden, India, Poland, Germany, Syria, Pakistan, Iran, Afghanistan, Turkey, Romania, China, Iraq, Finland, USA, Russia, Netherlands, Brazil, Denmark, UK, Italy, Other "
   ]
  },
  {
   "cell_type": "code",
   "execution_count": 1946,
   "id": "6bf7daff",
   "metadata": {},
   "outputs": [],
   "source": [
    "import random\n",
    "\n",
    "def fodelse_landnamn():\n",
    "    countries = ['Sweden', 'India', 'Poland', 'Germany', 'Syria', 'Pakistan', 'Iran', 'Afghanistan', 'Turkey', 'Romania', 'China', 'Iraq', 'Finland', 'USA', 'Russia', 'Netherlands', 'Brazil', 'Denmark', 'UK', 'Italy']\n",
    "    random_country = random.choice(countries)\n",
    "    return random_country"
   ]
  },
  {
   "cell_type": "markdown",
   "id": "54af5dce",
   "metadata": {},
   "source": [
    "#### 9. FodelseTidMor"
   ]
  },
  {
   "cell_type": "code",
   "execution_count": 1947,
   "id": "313ea0e9",
   "metadata": {},
   "outputs": [],
   "source": [
    "def fodelse_tid_mor(personnummer):\n",
    "    today = datetime.now()\n",
    "    year, month, day = int(personnummer[:4]), int(personnummer[4:6]), int(personnummer[6:8])\n",
    "    birthday = datetime(year, month, day)\n",
    "    return birthday.date()"
   ]
  },
  {
   "cell_type": "markdown",
   "id": "38033fff",
   "metadata": {},
   "source": [
    "#### 10. FodelseLandnamnMor"
   ]
  },
  {
   "cell_type": "code",
   "execution_count": 1948,
   "id": "26da47f9",
   "metadata": {},
   "outputs": [],
   "source": [
    "import random\n",
    "\n",
    "def fodelse_landnamn_mor():\n",
    "    countries = ['Sweden', 'India', 'Poland', 'Germany', 'Syria', 'Pakistan', 'Iran', 'Afghanistan', 'Turkey', 'Romania', 'China', 'Iraq', 'Finland', 'USA', 'Russia', 'Netherlands', 'Brazil', 'Denmark', 'UK', 'Italy']\n",
    "    random_country = random.choice(countries)\n",
    "    return random_country"
   ]
  },
  {
   "cell_type": "markdown",
   "id": "ebf8d557",
   "metadata": {},
   "source": [
    "#### 11. FodelseTidFar"
   ]
  },
  {
   "cell_type": "code",
   "execution_count": 1949,
   "id": "5859795d",
   "metadata": {},
   "outputs": [],
   "source": [
    "def fodelse_tid_far(personnummer):\n",
    "    today = datetime.now()\n",
    "    year, month, day = int(personnummer[:4]), int(personnummer[4:6]), int(personnummer[6:8])\n",
    "    birthday = datetime(year, month, day)\n",
    "    return birthday.date()"
   ]
  },
  {
   "cell_type": "markdown",
   "id": "12286023",
   "metadata": {},
   "source": [
    "#### 12. FodelseLandnamnFar"
   ]
  },
  {
   "cell_type": "code",
   "execution_count": 1950,
   "id": "9a39721e",
   "metadata": {},
   "outputs": [],
   "source": [
    "import random\n",
    "\n",
    "def fodelse_landnamn_far():\n",
    "    countries = ['Sweden', 'India', 'Poland', 'Germany', 'Syria', 'Pakistan', 'Iran', 'Afghanistan', 'Turkey', 'Romania', 'China', 'Iraq', 'Finland', 'USA', 'Russia', 'Netherlands', 'Brazil', 'Denmark', 'UK', 'Italy']\n",
    "    random_country = random.choice(countries)\n",
    "    return random_country"
   ]
  },
  {
   "cell_type": "markdown",
   "id": "7053cac5",
   "metadata": {},
   "source": [
    "#### 13. UtlSVBackg\n",
    "1. Person with a foreign background: 11 Born abroad, 12 Domestically born with two foreign-born parents\n",
    "2. Person with Swedish background: 21 Domestic born with one domestic and one foreign-born parent, 22 Domestic born with two domestic-born parents\n",
    "When information about the parent's country of birth is missing, the following applies:\n",
    "- For a person who was born in Sweden, the parent is assumed to be born in Sweden\n",
    "- For a person who was born abroad, the parent is assumed to be born abroad\n"
   ]
  },
  {
   "cell_type": "code",
   "execution_count": 1951,
   "id": "11c46e8d",
   "metadata": {},
   "outputs": [],
   "source": [
    "import random\n",
    "\n",
    "def utl_sv_bakg(fodelselandnamn, fodelselandnamnfar, fodelselandnamnmor):\n",
    "    if fodelselandnamn != 'Sweden':\n",
    "        born_abroad = True\n",
    "    if fodelselandnamnfar != 'Sweden' or fodelselandnamnmor != 'Sweden':\n",
    "        has_foreign_parents = True\n",
    "    \n",
    "    if born_abroad:\n",
    "        return 11 \n",
    "    elif has_foreign_parents:\n",
    "        if born_abroad and has_foreign_parents:\n",
    "            return 12 \n",
    "        else:\n",
    "            return 21 \n",
    "    else:\n",
    "        return 22"
   ]
  },
  {
   "cell_type": "code",
   "execution_count": 1952,
   "id": "7747e1de",
   "metadata": {},
   "outputs": [
    {
     "name": "stdout",
     "output_type": "stream",
     "text": [
      "Year of Birth: 1992\n",
      "Date of Death: 19931123\n",
      "Age: 31\n",
      "Gender: M\n",
      "Country of Im/Em: Denmark\n",
      "Month of Im/Em: 2019-08\n",
      "Immigration/Emmigration: Inv\n",
      "Country of Birth: Denmark\n",
      "Mother's Country of Birth: Romania\n",
      "Father's Country of Birth: Poland\n",
      "Father's Birthday: 1979-01-02\n",
      "Mother's Birthday: 1982-01-02\n",
      "Country Background: 11\n"
     ]
    }
   ],
   "source": [
    "import pandas as pd\n",
    "class Person:\n",
    "    def __init__(self, name):\n",
    "        #self.name = name\n",
    "        self.year_of_birth = fodelse_ar('199201028936')\n",
    "        self.date_of_death = dod_datum('199201028936')\n",
    "        self.age = alder('199201028936')\n",
    "        self.gender = kon()\n",
    "        self.in_ut = inv_utv_land()\n",
    "        self.in_ut_date = inv_ut_manad('199201028936')\n",
    "        self.inv_status = post_typ()\n",
    "        self.birth_country = fodelse_landnamn()\n",
    "        self.birth_country_mother = fodelse_landnamn_mor()\n",
    "        self.birth_country_father = fodelse_landnamn_far()\n",
    "        self.birthday_mother = fodelse_tid_mor('198201028936')\n",
    "        self.birthday_father = fodelse_tid_far('197901028936')\n",
    "        self.country_background = utl_sv_bakg(self.birth_country, self.birth_country_father, self.birth_country_mother)\n",
    "\n",
    "    def display_info(self):\n",
    "        #print(f\"Name: {self.name}\")\n",
    "        print(f\"Year of Birth: {self.year_of_birth}\")\n",
    "        print(f\"Date of Death: {self.date_of_death}\")\n",
    "        print(f\"Age: {self.age}\")\n",
    "        print(f\"Gender: {self.gender}\")\n",
    "        print(f\"Country of Im/Em: {self.in_ut}\")\n",
    "        print(f\"Month of Im/Em: {self.in_ut_date}\")\n",
    "        print(f\"Immigration/Emmigration: {self.inv_status}\")\n",
    "        print(f\"Country of Birth: {self.birth_country}\")\n",
    "        print(f\"Mother's Country of Birth: {self.birth_country_mother}\")\n",
    "        print(f\"Father's Country of Birth: {self.birth_country_father}\")\n",
    "        print(f\"Father's Birthday: {self.birthday_father}\")\n",
    "        print(f\"Mother's Birthday: {self.birthday_mother}\")\n",
    "        print(f\"Country Background: {self.country_background}\")\n",
    "\n",
    "    #def get_info_as_dataframe(self):\n",
    "            #return pd.DataFrame({'Date of Birth': [self.date_of_birth], 'Gender': [self.gender]}) \n",
    "#for _ in range(0,10000):\n",
    "person = Person(\"John Doe\")\n",
    "person.display_info()\n",
    "#print(person.get_info_as_dataframe())\n"
   ]
  },
  {
   "cell_type": "code",
   "execution_count": 1953,
   "metadata": {},
   "outputs": [
    {
     "data": {
      "text/plain": [
       "str"
      ]
     },
     "execution_count": 1953,
     "metadata": {},
     "output_type": "execute_result"
    }
   ],
   "source": [
    "type(person.date_of_death)"
   ]
  },
  {
   "cell_type": "code",
   "execution_count": null,
   "id": "0131c31d",
   "metadata": {},
   "outputs": [],
   "source": []
  },
  {
   "cell_type": "code",
   "execution_count": 1954,
   "id": "09371646",
   "metadata": {},
   "outputs": [
    {
     "name": "stdout",
     "output_type": "stream",
     "text": [
      "3\n",
      "Year of Birth: 1992\n",
      "Date of Death: None\n",
      "Age: 31\n",
      "Gender: 1\n",
      "Country of Im/Em: Romania\n",
      "Month of Im/Em: 2010-03\n",
      "Immigration/Emmigration: Utv\n",
      "Country of Birth: China\n",
      "Mother's Country of Birth: Germany\n",
      "Father's Country of Birth: India\n",
      "Father's Birthday: 1979-01-02\n",
      "Mother's Birthday: 1982-01-02\n",
      "Country Background: 11\n"
     ]
    }
   ],
   "source": [
    "# ## Variable Generation\n",
    "# #### 1. FodelseAr\n",
    "# This is the birth year it is extracted from the personnummer\n",
    "\n",
    "\n",
    "#extract first 4 values of personnummer to get the age\n",
    "def fodelse_ar(personnummer):\n",
    "    return personnummer[:4]\n",
    "\n",
    "\n",
    "# #### 2. DodDatum\n",
    "# Date of death (year,month,day)\n",
    "import random\n",
    "from datetime import datetime, timedelta\n",
    "\n",
    "today = datetime.now()\n",
    "\n",
    "#generate date of death by adding random number of days to the birthday\n",
    "def dod_datum(personnummer, end_year=2019):\n",
    "    if random.randint(1,100) <= 5:\n",
    "        year, month, day = int(personnummer[:4]), int(personnummer[4:6]), int(personnummer[6:8])\n",
    "        birthday = datetime(year, month, day)\n",
    "        min_days = 1 #minimum number of days to be added to birthday\n",
    "        max_days = (datetime(end_year, 12, 31) - birthday).days #maximum number of days to be added to birthday (using end of previous year)\n",
    "        random_days = random.randint(min_days, max_days)\n",
    "        deathday = birthday + timedelta(days=random_days)\n",
    "        return deathday.strftime('%Y%m%d')\n",
    "    else:\n",
    "        return None\n",
    "\n",
    "# #### 3. Alder\n",
    "# This is the age and can be calculated from birth year in personnummer.\n",
    "import dateutil.relativedelta\n",
    "\n",
    "#calcuate age using birthday from personnummer\n",
    "def alder(personnummer):\n",
    "    today = datetime.now()\n",
    "    year, month, day = int(personnummer[:4]), int(personnummer[4:6]), int(personnummer[6:8])\n",
    "    birthday = datetime(year, month, day)\n",
    "    age = dateutil.relativedelta.relativedelta(today, birthday)\n",
    "    years = age.years\n",
    "    return years\n",
    "\n",
    "# #### 4. Kon: \n",
    "# Sex (Male/Female) - based on 2022 statistics 10.52 million people, 5.3 million men & 5.22 million women so assign 50.38% of the values as M and 49.62% as F.\n",
    "def kon(personnummer):\n",
    "    secondlast_digit = int(personnummer[-2])\n",
    "    print(secondlast_digit)\n",
    "    woman = [0,2,4,6,8] \n",
    "    if secondlast_digit in woman:\n",
    "        return 2\n",
    "    else:\n",
    "        return 1\n",
    "\n",
    "\n",
    "# #### 5. InvUtvLand: \n",
    "# In the case of immigration, the information refers to the country from which the person emigrated and in the case of emigration, the country to which the person immigrates.\n",
    "def inv_utv_land():\n",
    "    countries = ['Sweden', 'India', 'Poland', 'Germany', 'Syria', 'Pakistan', 'Iran', 'Afghanistan', 'Turkey', 'Romania', 'China', 'Iraq', 'Finland', 'USA', 'Russia', 'Netherlands', 'Brazil', 'Denmark', 'UK', 'Italy']\n",
    "    random_country = random.choice(countries)\n",
    "    return random_country  \n",
    "\n",
    "# #### 6. InvUtvManad: \n",
    "# Year and month for immigration to Sweden and year and month for emigration from Sweden.\n",
    "def inv_ut_manad(personnummer, end_year=2019):\n",
    "    year, month = int(personnummer[:4]), int(personnummer[4:6])\n",
    "    date = datetime(year, month, 1)\n",
    "    min_days = 1 #minimum number of days to be added to birthday\n",
    "    max_days = (datetime(end_year, 12, 31) - date).days #maximum number of days to be added to birthday (using end of previous year)\n",
    "    random_days = random.randint(min_days, max_days)\n",
    "    inv_ut_manad = date + timedelta(days=random_days)\n",
    "    return inv_ut_manad.strftime('%Y-%m')\n",
    "\n",
    "# #### 7. PostTyp\n",
    "def post_typ(): #either immigration or emmigration\n",
    "    values = ['Inv', 'Utv']\n",
    "    return random.choice(values)\n",
    "\n",
    "\n",
    "# #### 8. FodelseLandnamn\n",
    "# SCB 2022 list - Sweden, India, Poland, Germany, Syria, Pakistan, Iran, Afghanistan, Turkey, Romania, China, Iraq, Finland, USA, Russia, Netherlands, Brazil, Denmark, UK, Italy, Other \n",
    "def fodelse_landnamn():\n",
    "    countries = ['Sweden', 'India', 'Poland', 'Germany', 'Syria', 'Pakistan', 'Iran', 'Afghanistan', 'Turkey', 'Romania', 'China', 'Iraq', 'Finland', 'USA', 'Russia', 'Netherlands', 'Brazil', 'Denmark', 'UK', 'Italy']\n",
    "    random_country = random.choice(countries)\n",
    "    return random_country\n",
    "\n",
    "\n",
    "# #### 9. FodelseTidMor\n",
    "def fodelse_tid_mor(personnummer):\n",
    "    today = datetime.now()\n",
    "    year, month, day = int(personnummer[:4]), int(personnummer[4:6]), int(personnummer[6:8])\n",
    "    birthday = datetime(year, month, day)\n",
    "    return birthday.date()\n",
    "\n",
    "\n",
    "# #### 10. FodelseLandnamnMor\n",
    "def fodelse_landnamn_mor():\n",
    "    countries = ['Sweden', 'India', 'Poland', 'Germany', 'Syria', 'Pakistan', 'Iran', 'Afghanistan', 'Turkey', 'Romania', 'China', 'Iraq', 'Finland', 'USA', 'Russia', 'Netherlands', 'Brazil', 'Denmark', 'UK', 'Italy']\n",
    "    random_country = random.choice(countries)\n",
    "    return random_country\n",
    "\n",
    "\n",
    "# #### 11. FodelseTidFar\n",
    "def fodelse_tid_far(personnummer):\n",
    "    today = datetime.now()\n",
    "    year, month, day = int(personnummer[:4]), int(personnummer[4:6]), int(personnummer[6:8])\n",
    "    birthday = datetime(year, month, day)\n",
    "    return birthday.date()\n",
    "\n",
    "# #### 12. FodelseLandnamnFar\n",
    "def fodelse_landnamn_far():\n",
    "    countries = ['Sweden', 'India', 'Poland', 'Germany', 'Syria', 'Pakistan', 'Iran', 'Afghanistan', 'Turkey', 'Romania', 'China', 'Iraq', 'Finland', 'USA', 'Russia', 'Netherlands', 'Brazil', 'Denmark', 'UK', 'Italy']\n",
    "    random_country = random.choice(countries)\n",
    "    return random_country\n",
    "\n",
    "\n",
    "# #### 13. UtlSVBackg\n",
    "# 1. Person with a foreign background: 11 Born abroad, 12 Domestically born with two foreign-born parents\n",
    "# 2. Person with Swedish background: 21 Domestic born with one domestic and one foreign-born parent, 22 Domestic born with two domestic-born parents\n",
    "# When information about the parent's country of birth is missing, the following applies:\n",
    "# - For a person who was born in Sweden, the parent is assumed to be born in Sweden\n",
    "# - For a person who was born abroad, the parent is assumed to be born abroad\n",
    "def utl_sv_bakg(fodelselandnamn, fodelselandnamnfar, fodelselandnamnmor):\n",
    "    if fodelselandnamn != 'Sweden':\n",
    "        born_abroad = True\n",
    "    if fodelselandnamnfar != 'Sweden' or fodelselandnamnmor != 'Sweden':\n",
    "        has_foreign_parents = True\n",
    "    \n",
    "    if born_abroad:\n",
    "        return 11 \n",
    "    elif has_foreign_parents:\n",
    "        if born_abroad and has_foreign_parents:\n",
    "            return 12 \n",
    "        else:\n",
    "            return 21 \n",
    "    else:\n",
    "        return 22\n",
    "\n",
    "\n",
    "\n",
    "import pandas as pd\n",
    "class Person:\n",
    "    def __init__(self, name):\n",
    "        #self.name = name\n",
    "        self.year_of_birth = fodelse_ar('199201028936')\n",
    "        self.date_of_death = dod_datum('199201028936')\n",
    "        self.age = alder('199201028936')\n",
    "        self.gender = kon('199201028936')\n",
    "        self.in_ut = inv_utv_land()\n",
    "        self.in_ut_date = inv_ut_manad('199201028936')\n",
    "        self.inv_status = post_typ()\n",
    "        self.birth_country = fodelse_landnamn()\n",
    "        self.birth_country_mother = fodelse_landnamn_mor()\n",
    "        self.birth_country_father = fodelse_landnamn_far()\n",
    "        self.birthday_mother = fodelse_tid_mor('198201028936')\n",
    "        self.birthday_father = fodelse_tid_far('197901028936')\n",
    "        self.country_background = utl_sv_bakg(self.birth_country, self.birth_country_father, self.birth_country_mother)\n",
    "\n",
    "    def display_info(self):\n",
    "        #print(f\"Name: {self.name}\")\n",
    "        print(f\"Year of Birth: {self.year_of_birth}\")\n",
    "        print(f\"Date of Death: {self.date_of_death}\")\n",
    "        print(f\"Age: {self.age}\")\n",
    "        print(f\"Gender: {self.gender}\")\n",
    "        print(f\"Country of Im/Em: {self.in_ut}\")\n",
    "        print(f\"Month of Im/Em: {self.in_ut_date}\")\n",
    "        print(f\"Immigration/Emmigration: {self.inv_status}\")\n",
    "        print(f\"Country of Birth: {self.birth_country}\")\n",
    "        print(f\"Mother's Country of Birth: {self.birth_country_mother}\")\n",
    "        print(f\"Father's Country of Birth: {self.birth_country_father}\")\n",
    "        print(f\"Father's Birthday: {self.birthday_father}\")\n",
    "        print(f\"Mother's Birthday: {self.birthday_mother}\")\n",
    "        print(f\"Country Background: {self.country_background}\")\n",
    "\n",
    "    #def get_info_as_dataframe(self):\n",
    "            #return pd.DataFrame({'Date of Birth': [self.date_of_birth], 'Gender': [self.gender]}) \n",
    "#for _ in range(0,10000):\n",
    "person = Person(\"John Doe\")\n",
    "person.display_info()\n",
    "#print(person.get_info_as_dataframe())\n",
    "\n"
   ]
  }
 ],
 "metadata": {
  "kernelspec": {
   "display_name": "Python 3 (ipykernel)",
   "language": "python",
   "name": "python3"
  },
  "language_info": {
   "codemirror_mode": {
    "name": "ipython",
    "version": 3
   },
   "file_extension": ".py",
   "mimetype": "text/x-python",
   "name": "python",
   "nbconvert_exporter": "python",
   "pygments_lexer": "ipython3",
   "version": "3.10.9"
  }
 },
 "nbformat": 4,
 "nbformat_minor": 5
}
