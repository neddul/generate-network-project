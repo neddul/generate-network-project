{
 "cells": [
  {
   "cell_type": "code",
   "execution_count": 1,
   "metadata": {},
   "outputs": [
    {
     "name": "stdout",
     "output_type": "stream",
     "text": [
      "Note: you may need to restart the kernel to use updated packages.\n"
     ]
    }
   ],
   "source": [
    "%pip install -q pyscbwrapper"
   ]
  },
  {
   "cell_type": "code",
   "execution_count": 2,
   "metadata": {},
   "outputs": [],
   "source": [
    "from pyscbwrapper import SCB\n",
    "import json\n",
    "import pandas as pd\n",
    "import random"
   ]
  },
  {
   "cell_type": "code",
   "execution_count": 3,
   "metadata": {},
   "outputs": [
    {
     "data": {
      "text/plain": [
       "[{'id': 'BefolkningNy',\n",
       "  'type': 't',\n",
       "  'text': 'Folkmängden efter region, civilstånd, ålder och kön. År 1968 - 2022',\n",
       "  'updated': '2023-02-22T08:00:00'},\n",
       " {'id': 'FolkmangdNov',\n",
       "  'type': 't',\n",
       "  'text': 'Folkmängden den 1 november efter region, ålder och kön. År 2002 - 2022',\n",
       "  'updated': '2022-12-09T08:00:00'},\n",
       " {'id': 'FolkmangdDistrikt',\n",
       "  'type': 't',\n",
       "  'text': 'Folkmängden per distrikt, landskap, landsdel eller riket efter kön. År 2015 - 2022',\n",
       "  'updated': '2023-03-22T08:00:00'},\n",
       " {'id': 'BefolkManad',\n",
       "  'type': 't',\n",
       "  'text': 'Folkmängden per månad efter region, ålder och kön. År 2000M01 - 2023M09',\n",
       "  'updated': '2023-11-10T08:00:00'},\n",
       " {'id': 'BefolkningR1860N',\n",
       "  'type': 't',\n",
       "  'text': 'Folkmängden efter ålder och kön . År 1860 - 2022',\n",
       "  'updated': '2023-02-22T08:00:00'}]"
      ]
     },
     "execution_count": 3,
     "metadata": {},
     "output_type": "execute_result"
    }
   ],
   "source": [
    "scb = SCB('sv', 'BE', 'BE0101', 'BE0101A')\n",
    "scb.info()"
   ]
  },
  {
   "cell_type": "code",
   "execution_count": 4,
   "metadata": {},
   "outputs": [],
   "source": [
    "befolkningNy = SCB('en', 'BE', 'BE0101', 'BE0101A', 'BefolkningNy')\n",
    "befolkningNy.info()\n",
    "lan = befolkningNy.get_variables()"
   ]
  },
  {
   "cell_type": "code",
   "execution_count": 5,
   "metadata": {},
   "outputs": [
    {
     "name": "stdout",
     "output_type": "stream",
     "text": [
      "munkfors = 201\n"
     ]
    }
   ],
   "source": [
    "counties_and_municipals_in_sweden = lan['region']\n",
    "counties_and_municipals_in_sweden = counties_and_municipals_in_sweden[1:]\n",
    "\n",
    "swedish_lan = [s for s in counties_and_municipals_in_sweden if \"county\" in s.lower()]\n",
    "swedish_kommun = [s for s in counties_and_municipals_in_sweden if \"county\" not in s.lower()]\n",
    "\n",
    "swedish_kommun2 = swedish_kommun[0:188] + swedish_kommun[189:]\n",
    "for i in range(len(swedish_kommun2)):\n",
    "    if swedish_kommun2[i] == \"Munkfors\":\n",
    "        print(i)\n",
    "\n",
    "for i in range(len(counties_and_municipals_in_sweden)):\n",
    "    if counties_and_municipals_in_sweden[i] == \"Munkfors\":\n",
    "        print(f\"munkfors = {i}\")\n",
    "\n",
    "counties_and_municipals_in_sweden = counties_and_municipals_in_sweden[0:201] + counties_and_municipals_in_sweden[202:] #Removing Munkfors\n",
    "\n",
    "county_dict = {}\n",
    "current_key = None\n",
    "\n",
    "for item in counties_and_municipals_in_sweden:\n",
    "    if \"county\" in item.lower():\n",
    "        current_key = item\n",
    "        county_dict[current_key] = []\n",
    "    elif current_key is not None:\n",
    "        county_dict[current_key].append(item)\n",
    "\n",
    "\n",
    "with open('variable_data/selfmade_dictionaries/county_dict.json', 'w') as json_file:\n",
    "    json.dump(county_dict, json_file)"
   ]
  },
  {
   "cell_type": "code",
   "execution_count": 6,
   "metadata": {},
   "outputs": [
    {
     "name": "stdout",
     "output_type": "stream",
     "text": [
      "{'Upplands Väsby': ['011401', '011402', '011403'], 'Vallentuna': ['011501', '011507'], 'Österåker': ['011702', '011703'], 'Värmdö': ['012001', '012003', '012006'], 'Järfälla': ['012304'], 'Ekerö': ['012501', '012503', '012504', '012509'], 'Huddinge': ['012601', '012602', '012603', '012604'], 'Botkyrka': ['012701', '012702'], 'Salem': ['012801'], 'Haninge': ['013601', '013605', '013606'], 'Tyresö': ['013801'], 'Upplands-Bro': ['013901', '013903'], 'Nykvarn': ['014001'], 'Täby': ['016001'], 'Danderyd': ['016201'], 'Sollentuna': ['016301'], 'Stockholm': ['018001', '018004', '018005', '018006', '018007', '018009', '018010', '018011', '018013', '018014', '018015', '018017', '018019', '018021', '018023', '018025', '018027', '018029', '018031', '018034', '018036', '018038', '018039', '018040', '018041', '018090', '018092', '018093'], 'Södertälje': ['018101', '018102', '018104', '018106', '018107', '018108', '018110'], 'Nacka': ['018201', '018202', '018203'], 'Sundbyberg': ['018301'], 'Solna': ['018401'], 'Lidingö': ['018601'], 'Vaxholm': ['018701'], 'Norrtälje': ['018801', '018803', '018805', '018808', '018809', '018810', '018812', '018814', '018815', '018817', '018818', '018820', '018822', '018823', '018824', '018825', '018826'], 'Sigtuna': ['019101', '019106', '019108', '019109', '019112'], 'Nynäshamn': ['019201', '019202', '019204'], 'Håbo': ['030501', '030503', '030504', '030505'], 'Älvkarleby': ['031902'], 'Knivsta': ['033001', '033002', '033003', '033004', '033005', '033006'], 'Heby': ['033101', '033102', '033103', '033104', '033105', '033106', '033107'], 'Tierp': ['036001', '036003', '036005', '036007', '036008'], 'Uppsala': ['038001', '038002', '038003', '038004', '038005', '038007', '038008', '038009', '038010', '038011', '038012', '038014', '038021', '038022', '038023', '038024', '038025', '038026', '038027', '038028', '038030', '038031', '038038', '038039', '038040', '038041'], 'Enköping': ['038101', '038105', '038107', '038111', '038114', '038117', '038130', '038131'], 'Östhammar': ['038204', '038207', '038209', '038210', '038211', '038213'], 'Vingåker': ['042801', '042802'], 'Gnesta': ['046101', '046104'], 'Nyköping': ['048002', '048005', '048007', '048010', '048019', '048020'], 'Oxelösund': ['048101'], 'Flen': ['048201', '048205', '048207', '048208'], 'Katrineholm': ['048301', '048302'], 'Eskilstuna': ['048402', '048403', '048410', '048413', '048417', '048418', '048420', '048421', '048422', '048423'], 'Strängnäs': ['048601', '048604', '048606', '048607', '048614'], 'Trosa': ['048802'], 'Ödeshög': ['050902'], 'Ydre': ['051201', '051203', '051204'], 'Kinda': ['051301', '051302', '051303', '051304', '051305', '051309'], 'Boxholm': ['056002'], 'Åtvidaberg': ['056101'], 'Finspång': ['056201'], 'Valdemarsvik': ['056301', '056302'], 'Linköping': ['058001', '058002', '058003', '058004', '058005', '058008', '058009', '058010', '058011', '058012', '058018', '058019', '058024', '058033', '058034', '058035', '058036', '058037', '058038', '058039'], 'Norrköping': ['058102', '058104', '058105', '058106', '058119', '058125', '058127'], 'Söderköping': ['058201', '058204'], 'Motala': ['058301', '058303', '058304', '058306', '058307', '058309', '058322', '058324'], 'Vadstena': ['058401', '058408'], 'Mjölby': ['058601', '058603', '058612', '058616', '058618'], 'Aneby': ['060402', '060403', '060405', '060406', '060408'], 'Gnosjö': ['061701', '061702', '061703', '061704', '061705'], 'Mullsjö': ['064203'], 'Habo': ['064301', '064302', '064303'], 'Gislaved': ['066201', '066202', '066203', '066204', '066208', '066209', '066210', '066216'], 'Vaggeryd': ['066501', '066503', '066506'], 'Jönköping': ['068002', '068005', '068006', '068007', '068008', '068009', '068010', '068014', '068015', '068016', '068019', '068020', '068021'], 'Nässjö': ['068201', '068203', '068204', '068205', '068207', '068209', '068210'], 'Värnamo': ['068301', '068302', '068306', '068309', '068310', '068311', '068312', '068313'], 'Sävsjö': ['068401', '068403', '068406'], 'Vetlanda': ['068501', '068503', '068504', '068509', '068514', '068515', '068519', '068520', '068521', '068524'], 'Eksjö': ['068601', '068602', '068605', '068606', '068608', '068609'], 'Tranås': ['068701', '068702', '068703'], 'Uppvidinge': ['076001', '076003', '076004', '076005'], 'Lessebo': ['076102'], 'Tingsryd': ['076301', '076302', '076303', '076304', '076305', '076306', '076307'], 'Alvesta': ['076401', '076405', '076406', '076407', '076409', '076410', '076411'], 'Älmhult': ['076501', '076503', '076504', '076505', '076506', '076507'], 'Markaryd': ['076701', '076702', '076703'], 'Växjö': ['078001', '078003', '078006', '078007', '078008', '078012', '078013', '078015', '078016', '078018', '078020', '078021', '078024'], 'Ljungby': ['078101', '078102', '078103', '078104', '078107', '078108', '078109', '078110', '078111', '078112', '078114', '078115', '078116', '078117', '078118', '078119', '078120'], 'Högsby': ['082101', '082102', '082103', '082104'], 'Torsås': ['083401', '083402', '083404'], 'Mörbylånga': ['084001', '084003', '084005', '084008', '084014', '084015', '084016'], 'Hultsfred': ['086001', '086002', '086003', '086004', '086005', '086006', '086008'], 'Mönsterås': ['086101', '086102', '086103'], 'Emmaboda': ['086201', '086202', '086203', '086204'], 'Kalmar': ['088001', '088002', '088003', '088004', '088005', '088006', '088008', '088009', '088011', '088013', '088015', '088016', '088017', '088018'], 'Nybro': ['088101', '088102', '088103', '088104', '088105', '088106', '088108', '088109'], 'Oskarshamn': ['088201', '088203', '088205'], 'Västervik': ['088301', '088302', '088303', '088305', '088306', '088307', '088308', '088309', '088310', '088311', '088312', '088314', '088315'], 'Vimmerby': ['088401', '088403', '088404', '088405', '088406', '088408', '088409'], 'Borgholm': ['088501', '088502', '088507', '088509', '088510', '088514'], 'Gotland': ['098001', '098002', '098004', '098005', '098010', '098015', '098018', '098025', '098029', '098030', '098031', '098032', '098033', '098034', '098035', '098036', '098040', '098047', '098048', '098050', '098055', '098057', '098059', '098060', '098061', '098062', '098063', '098064', '098065', '098071', '098073', '098074', '098075', '098076', '098079', '098080', '098081', '098084', '098089'], 'Olofström': ['106002', '106003'], 'Karlskrona': ['108001', '108002', '108004', '108006', '108008', '108009', '108010', '108011', '108012', '108014', '108015', '108018'], 'Ronneby': ['108101', '108110'], 'Karlshamn': ['108201', '108205', '108206'], 'Sölvesborg': ['108301', '108304'], 'Svalöv': ['121402', '121405', '121408', '121410'], 'Staffanstorp': ['123006', '123013'], 'Burlöv': ['123101'], 'Vellinge': ['123304', '123305', '123309'], 'Östra Göinge': ['125601', '125603', '125604', '125606'], 'Örkelljunga': ['125701', '125702', '125703'], 'Bjuv': ['126001'], 'Kävlinge': ['126101', '126103', '126104', '126112'], 'Lomma': ['126201', '126205'], 'Svedala': ['126301', '126307'], 'Skurup': ['126401', '126406', '126412'], 'Sjöbo': ['126503', '126505', '126510', '126511'], 'Hörby': ['126602'], 'Höör': ['126702', '126704'], 'Tomelilla': ['127005', '127009', '127014'], 'Bromölla': ['127201', '127203'], 'Osby': ['127301', '127302', '127303'], 'Perstorp': ['127501'], 'Klippan': ['127601', '127605', '127607'], 'Åstorp': ['127701', '127703'], 'Båstad': ['127801', '127802', '127804', '127806'], 'Malmö': ['128002', '128006', '128007', '128008', '128010', '128016'], 'Lund': ['128101', '128102', '128104', '128105', '128113', '128116', '128120', '128121', '128124', '128125', '128127'], 'Landskrona': ['128201', '128204'], 'Helsingborg': ['128301', '128302', '128303', '128305', '128306', '128307', '128309', '128316'], 'Höganäs': ['128401', '128402', '128403', '128404', '128405'], 'Eslöv': ['128501', '128502', '128511'], 'Ystad': ['128601', '128605', '128611', '128617'], 'Trelleborg': ['128701', '128706', '128715', '128721', '128731'], 'Kristianstad': ['129001', '129002', '129005', '129007', '129008', '129009', '129014', '129015', '129024', '129029', '129032', '129035'], 'Simrishamn': ['129101', '129107', '129119'], 'Ängelholm': ['129201', '129205', '129206', '129209', '129211'], 'Hässleholm': ['129301', '129305', '129310', '129311', '129312', '129313', '129314', '129315', '129319'], 'Hylte': ['131501', '131504', '131505', '131506', '131507'], 'Halmstad': ['138002', '138003', '138005', '138009', '138011', '138014', '138015', '138019'], 'Laholm': ['138101', '138103', '138105', '138107', '138109', '138111'], 'Falkenberg': ['138201', '138202', '138206', '138208', '138209', '138211', '138213', '138217', '138218', '138219', '138220', '138221', '138222', '138223', '138224'], 'Varberg': ['138301', '138302', '138305', '138310', '138311', '138312', '138313', '138319', '138320'], 'Kungsbacka': ['138401', '138402', '138403', '138404', '138405', '138406', '138407', '138408', '138409', '138410', '138412', '138414', '138415'], 'Härryda': ['140101', '140102', '140103', '140104'], 'Partille': ['140201', '140203', '140204'], 'Öckerö': ['140701'], 'Stenungsund': ['141502', '141503', '141504', '141505'], 'Tjörn': ['141901', '141902', '141903', '141905'], 'Orust': ['142101', '142102', '142103', '142104', '142105', '142106', '142110'], 'Sotenäs': ['142701', '142705', '142706'], 'Munkedal': ['143001'], 'Tanum': ['143502', '143503', '143504', '143506', '143507', '143508', '143509'], 'Dals-Ed': ['143803'], 'Färgelanda': ['143901'], 'Ale': ['144001', '144003', '144005'], 'Lerum': ['144101', '144102', '144103', '144104'], 'Vårgårda': ['144201', '144206', '144208', '144210', '144214'], 'Bollebygd': ['144301', '144302'], 'Grästorp': ['144403', '144408', '144409', '144410', '144412'], 'Essunga': ['144502', '144504'], 'Karlsborg': ['144601', '144602', '144603', '144604'], 'Gullspång': ['144701'], 'Tranemo': ['145201', '145206', '145208'], 'Bengtsfors': ['146001', '146003', '146005', '146006'], 'Mellerud': ['146101', '146103', '146107', '146109'], 'Lilla Edet': ['146201', '146204', '146206', '146207'], 'Mark': ['146301', '146303', '146304', '146305', '146307', '146312', '146313', '146314', '146315', '146316', '146317', '146318'], 'Svenljunga': ['146501', '146503', '146506', '146512'], 'Herrljunga': ['146606'], 'Vara': ['147001'], 'Götene': ['147101', '147102', '147112', '147118'], 'Tibro': ['147201', '147202'], 'Töreboda': ['147301', '147302', '147307', '147313'], 'Göteborg': ['148001', '148004', '148005', '148006', '148007', '148008', '148009', '148010', '148011', '148012', '148013', '148016', '148017', '148020', '148021', '148022', '148023', '148024', '148025', '148028', '148031', '148032', '148033', '148034', '148036', '148037', '148038', '148041'], 'Mölndal': ['148101', '148102', '148103', '148104'], 'Kungälv': ['148201', '148203', '148204', '148205', '148206', '148208', '148209', '148210', '148211'], 'Lysekil': ['148401', '148402', '148403', '148404', '148405'], 'Uddevalla': ['148501', '148503', '148509', '148510', '148511', '148512', '148513'], 'Strömstad': ['148601', '148602', '148606'], 'Vänersborg': ['148701', '148703', '148704', '148705', '148706', '148707', '148709'], 'Trollhättan': ['148801', '148803', '148804', '148805', '148807'], 'Alingsås': ['148901', '148908', '148909', '148910'], 'Borås': ['149001', '149002', '149003', '149006', '149011', '149016', '149019', '149020'], 'Ulricehamn': ['149101', '149105', '149110', '149116', '149120', '149128', '149129'], 'Åmål': ['149201'], 'Mariestad': ['149301', '149303', '149312', '149318'], 'Lidköping': ['149401', '149403', '149405', '149413', '149424', '149431'], 'Skara': ['149501', '149508', '149516'], 'Skövde': ['149601', '149608', '149614', '149615', '149617', '149620', '149624', '149627'], 'Hjo': ['149701', '149704', '149706', '149708'], 'Tidaholm': ['149801', '149803', '149807', '149812', '149816'], 'Falköping': ['149901', '149902', '149905', '149916', '149921', '149924', '149928', '149933', '149934', '149941', '149947', '149951'], 'Kil': ['171501', '171502', '171503'], 'Eda': ['173001', '173003', '173005'], 'Torsby': ['173701', '173702', '173703', '173705', '173708'], 'Storfors': ['176001'], 'Hammarö': ['176101'], 'Forshaga': ['176301'], 'Grums': ['176401', '176403', '176404'], 'Årjäng': ['176501', '176502', '176503', '176505', '176506', '176507', '176508', '176509'], 'Sunne': ['176601', '176602', '176603', '176604', '176605'], 'Karlstad': ['178001', '178002', '178003', '178006', '178008', '178009', '178011'], 'Kristinehamn': ['178101', '178103', '178104', '178105', '178106'], 'Filipstad': ['178201'], 'Hagfors': ['178301', '178302', '178304'], 'Arvika': ['178401', '178402', '178403', '178405', '178407', '178408', '178409', '178410', '178411'], 'Säffle': ['178501', '178502', '178503', '178504', '178508', '178509', '178510', '178511', '178512'], 'Lekeberg': ['181402', '181405'], 'Laxå': ['186001', '186002', '186004'], 'Hallsberg': ['186101', '186102', '186104'], 'Degerfors': ['186201'], 'Hällefors': ['186301', '186302'], 'Ljusnarsberg': ['186401'], 'Örebro': ['188001', '188002', '188003', '188004', '188005', '188008', '188013', '188015', '188016', '188027', '188030', '188031'], 'Kumla': ['188101', '188102', '188103'], 'Askersund': ['188201', '188203', '188204'], 'Karlskoga': ['188301'], 'Nora': ['188404'], 'Lindesberg': ['188502', '188504', '188505'], 'Skinnskatteberg': ['190402'], 'Surahammar': ['190701'], 'Kungsör': ['196001'], 'Hallstahammar': ['196101'], 'Norberg': ['196201'], 'Västerås': ['198001', '198002', '198003', '198007', '198009', '198010', '198011', '198016', '198020', '198022', '198023', '198024', '198025'], 'Sala': ['198101', '198102', '198104', '198105', '198106', '198107', '198108'], 'Fagersta': ['198201'], 'Köping': ['198301', '198304'], 'Arboga': ['198401'], 'Vansbro': ['202101'], 'Malung-Sälen': ['202302', '202303'], 'Gagnef': ['202601', '202602', '202603'], 'Leksand': ['202901', '202902', '202903', '202904'], 'Rättvik': ['203101', '203103', '203104'], 'Orsa': ['203402'], 'Älvdalen': ['203902', '203905'], 'Smedjebacken': ['206101', '206102'], 'Mora': ['206201'], 'Falun': ['208001', '208002', '208003', '208004', '208006', '208007', '208008', '208010', '208011'], 'Borlänge': ['208102', '208103'], 'Säter': ['208201'], 'Hedemora': ['208301'], 'Avesta': ['208401', '208403', '208404', '208406'], 'Ludvika': ['208501', '208503'], 'Ockelbo': ['210102'], 'Hofors': ['210401', '210402'], 'Ovanåker': ['212101'], 'Nordanstig': ['213202', '213205'], 'Ljusdal': ['216101', '216103', '216104', '216107'], 'Gävle': ['218001', '218003', '218004', '218005', '218006'], 'Sandviken': ['218101', '218102', '218103', '218104'], 'Söderhamn': ['218201', '218203', '218204', '218205', '218206', '218209'], 'Bollnäs': ['218303', '218304', '218306', '218309'], 'Hudiksvall': ['218401', '218405', '218408', '218409', '218411'], 'Ånge': ['226002', '226004'], 'Timrå': ['226201', '226202', '226203', '226204'], 'Härnösand': ['228001', '228002', '228003', '228004', '228005', '228006', '228007'], 'Sundsvall': ['228101', '228103', '228104', '228105', '228106', '228107', '228108', '228110', '228111', '228112', '228113'], 'Kramfors': ['228201', '228202', '228204', '228205', '228206', '228207', '228208', '228209', '228210', '228211'], 'Sollefteå': ['228301', '228302', '228303', '228304', '228305', '228306', '228307', '228308', '228309', '228311', '228312', '228315'], 'Örnsköldsvik': ['228401', '228402', '228404', '228405', '228406', '228407', '228408', '228409', '228410', '228411', '228412'], 'Ragunda': ['230301', '230302', '230303', '230304'], 'Bräcke': ['230501', '230503', '230506'], 'Krokom': ['230901', '230902', '230903', '230904', '230906', '230908', '230910'], 'Strömsund': ['231301', '231303', '231304', '231305', '231306', '231307', '231308'], 'Åre': ['232101', '232103', '232104', '232105'], 'Berg': ['232601', '232602', '232603', '232606', '232608'], 'Härjedalen': ['236101', '236105', '236107', '236109'], 'Östersund': ['238001', '238002', '238004', '238005', '238006', '238007', '238009'], 'Nordmaling': ['240102'], 'Bjurholm': ['240301'], 'Vindeln': ['240401'], 'Robertsfors': ['240901'], 'Norsjö': ['241702'], 'Malå': ['241801'], 'Storuman': ['242101', '242103'], 'Sorsele': ['242201'], 'Dorotea': ['242501'], 'Vännäs': ['246001'], 'Vilhelmina': ['246201'], 'Åsele': ['246301'], 'Umeå': ['248001', '248002', '248003', '248004', '248005', '248006', '248007', '248009', '248011'], 'Lycksele': ['248101'], 'Skellefteå': ['248201', '248202', '248203', '248204', '248205', '248206', '248207', '248210', '248211'], 'Arvidsjaur': ['250502'], 'Arjeplog': ['250602'], 'Jokkmokk': ['251002'], 'Överkalix': ['251301'], 'Kalix': ['251401'], 'Övertorneå': ['251801'], 'Pajala': ['252101'], 'Gällivare': ['252301'], 'Älvsbyn': ['256002'], 'Luleå': ['258002', '258003', '258004'], 'Piteå': ['258102', '258103', '258105'], 'Boden': ['258201', '258202', '258203', '258204'], 'Haparanda': ['258301'], 'Kiruna': ['258401', '258402', '258403']}\n"
     ]
    }
   ],
   "source": [
    "df = pd.read_csv(\"variable_data/downloaded_data/forsamlingsnamn-kommun.csv\")\n",
    "kommun_codes = list(df.Kommun.unique())\n",
    "\n",
    "swedish_kommun2 = swedish_kommun[0:188] + swedish_kommun[189:]\n",
    "for i in range(len(swedish_kommun2)):\n",
    "    if swedish_kommun2[i] == \"Munkfors\":\n",
    "        print(i)\n",
    "\n",
    "codes = dict(zip(kommun_codes, swedish_kommun2))\n",
    "\n",
    "\n",
    "for k, v in codes.items():\n",
    "    df = df.replace(k, v)\n",
    "\n",
    "df = df.drop(columns=[\"Unnamed: 4\", \"Unnamed: 5\", \"Unnamed: 6\"])\n",
    "df['Län'] = df['Län'].astype(str).apply(lambda x: '0' + x if len(x) == 1 else x)\n",
    "\n",
    "df['Församling'] = df['Församling'].astype(str).apply(lambda x: '0' + x if len(x) == 5 else x)\n",
    "df.head()\n",
    "\n",
    "# Create an empty dictionary to store the grouped items\n",
    "kommuners_forsamlingskoder = {}\n",
    "\n",
    "# Iterate over the DataFrame and group items based on the 'number_column'\n",
    "for index, row in df.iterrows():\n",
    "    Kommun = row['Kommun']\n",
    "    value = row['Församling']\n",
    "\n",
    "    if Kommun in kommuners_forsamlingskoder:\n",
    "        # Append to existing key's list\n",
    "        kommuners_forsamlingskoder[Kommun].append(value)\n",
    "    else:\n",
    "        # Create a new key with a list containing the current value\n",
    "        kommuners_forsamlingskoder[Kommun] = [value]\n",
    "\n",
    "print(kommuners_forsamlingskoder)"
   ]
  },
  {
   "cell_type": "code",
   "execution_count": 7,
   "metadata": {},
   "outputs": [],
   "source": [
    "distrikt = pd.read_csv(\"variable_data/downloaded_data/distriktkoder2015.csv\")\n",
    "distrikt = distrikt[['Distriktskod', 'Forsamlingskod']]\n",
    "distrikt.dropna(inplace=True)\n",
    "forsamlingskoder = list(kommuners_forsamlingskoder.values())\n",
    "forsamlingskoder_i_distrikt = list(distrikt.Forsamlingskod.unique())\n",
    "missing_codes = ['018090', '018092', '018093', '038022', '048422', '048423', '058038', '058039', '061704', '068524', '098075', '098079', '108002', '148025', '238004']\n",
    "\n",
    "for missing_code in missing_codes:\n",
    "    for k,v in kommuners_forsamlingskoder.items():\n",
    "        if missing_code in v:\n",
    "            kommuners_forsamlingskoder[k].remove(missing_code)\n",
    "\n",
    "with open('variable_data/selfmade_dictionaries/forsamling_dict.json', 'w') as json_file:\n",
    "    json.dump(kommuners_forsamlingskoder, json_file)\n",
    "\n",
    "# Create an empty dictionary to store the grouped items\n",
    "districtcodes_from_Forsamling = {}\n",
    "\n",
    "# Iterate over the DataFrame and group items based on the 'number_column'\n",
    "for index, row in distrikt.iterrows():\n",
    "    number = str(row['Forsamlingskod'])\n",
    "    value = str(int(row['Distriktskod']))\n",
    "\n",
    "    if number in districtcodes_from_Forsamling:\n",
    "        # Append to existing key's list\n",
    "        districtcodes_from_Forsamling[number].append(value)\n",
    "    else:\n",
    "        # Create a new key with a list containing the current value\n",
    "        districtcodes_from_Forsamling[number] = [value]\n",
    "\n",
    "with open('variable_data/selfmade_dictionaries/district_codes_from_Forsamling_dict.json', 'w') as json_file:\n",
    "    json.dump(districtcodes_from_Forsamling, json_file)"
   ]
  },
  {
   "cell_type": "code",
   "execution_count": 8,
   "metadata": {},
   "outputs": [
    {
     "name": "stdout",
     "output_type": "stream",
     "text": [
      "Index(['6', 'Länskod', 'Länsnamn', 'Kommunkod', 'Kommunnamn', 'Tätortskod',\n",
      "       'Beteckning på tätort', 'Del av tätort i annan kommun: 1=Ja',\n",
      "       'Befolkning 2020-12-31',\n",
      "       'Andel av total befolkning i kommun 2020-12-31', 'Landareal i hektar',\n",
      "       'Andel av total landareal kommun '],\n",
      "      dtype='object')\n",
      "{'Upplands Väsby': ['Löwenströmska lasarettet', 'Båtbyggartorp och Harva', 'Upplands Väsby och Sollentuna'], 'Vallentuna': ['Brottby', 'Ekskogen, Älgeby och Långsjötorp', 'Ekskogen', 'Johannesudd', 'Karby', 'Kårsta', 'Lindholmen', 'Vallentuna'], 'Täby': ['Vallentuna', 'Arninge', 'Stockholm'], 'Österåker': ['Bammarboda', 'Laggarsvik och Linanäs', 'Täljö', 'Rydbo', 'Solberga', 'Nyhagen och Översättra', 'Stava', 'Nolsjö och Mellansjö', 'Svinninge', 'Spånlöt', 'Näs', 'Åkersberga'], 'Värmdö': ['Björnömalmen och Klacknäset', 'Grönskan, Vedhamn och Baldersnäs', 'Brunn', 'Betsede', 'Djurö', 'Fågelvikshöjden', 'Norra Ingaröstrand och Skälsmara', 'Kopparmora', 'Långvik', 'Norra Lagnö', 'Lugnet och Skälsmara', 'Stavsnäs', 'Strömma', 'Koviksudde och Skeviksstrand', 'Ängsvik', 'Älvsala', 'Norra Vindö', 'Västra Älvsala', 'Södra Vindö', 'Gustavsberg'], 'Ekerö': ['Drottningholm', 'Ekerö sommarstad', 'Parksidan och Solsidan', 'Hilleshögby', 'Kungsberga', 'Lilla Stenby', 'Lurudden', 'Sundby', 'Stenhamra', 'Söderby', 'Tureholm', 'Älvnäs', 'Ölsta', 'Ekeby tomtområde', 'Slottshagen, Bona, Helgö bol och Kungens täppa', 'Sånga Säby', 'Jungfrusund', 'Ekerö'], 'Huddinge': ['Gladö kvarn', 'Vidja', 'Östorp och Ådran', 'Stockholm'], 'Haninge': ['Östorp och Ådran', 'Dalarö', 'Jordbro', 'Muskö', 'Norra Muskö', 'Väländan', 'Västerhaninge', 'Gansta och Söderby', 'Årsta Havsbad', 'Stockholm'], 'Botkyrka': ['Norra Riksten', 'Sibble', 'Kagghamra tomtområde', 'Tumba', 'Stockholm'], 'Salem': ['Tumba', 'Viksäter och Viksberg', 'Södertälje'], 'Upplands-Bro': ['Bro', 'Brunna', 'Håbo-Tibble kyrkby', 'Rättarboda', 'Jursta', 'Smidö', 'Kungsängen'], 'Nykvarn': ['Finkarby', 'Nygårds hagar', 'Stensättra tomtområde', 'Turinge och Vidbynäs', 'Rimsjöhöjden', 'Nykvarn'], 'Danderyd': ['Tranholmen', 'Stockholm'], 'Sollentuna': ['Upplands Väsby och Sollentuna', 'Stockholm'], 'Stockholm': ['Upplands Väsby och Sollentuna', 'Stockholm'], 'Solna': ['Upplands Väsby och Sollentuna', 'Stockholm'], 'Järfälla': ['Stockholm'], 'Tyresö': ['Stockholm'], 'Nacka': ['Stockholm', 'Fisksätra', 'Hästhagen', 'Kil', 'Saltsjöbaden', 'Älgö'], 'Sundbyberg': ['Stockholm'], 'Södertälje': ['Ekeby', 'Hölö', 'Järna', 'Mölnbo', 'Pershagen', 'Aska, Tuna och Sandviken', 'Nibble', 'Vattubrinken', 'Viksäter och Viksberg', 'Kallfors', 'Södertälje'], 'Lidingö': ['Sticklinge udde', 'Storholmen', 'Lidingö'], 'Vaxholm': ['Rindö', 'Resarö', 'Tynningö', 'Skarpö', 'Vaxholm'], 'Norrtälje': ['Bergshamra', 'Blidö', 'Edsbro', 'Finsta', 'Grisslehamn', 'Hallstavik', 'Herräng', 'Nabbo, Gräddö och Rävsnäs', 'Riala', 'Rimbo', 'Rånäs', 'Skebobruk', 'Spillersboda', 'Nysättra', 'Svanberga', 'Söderby-Karl', 'Södersvik', 'Sättra', 'Älmsta', 'Hästängen och Mora', 'Oxhalsö', 'Hattudden, Björnösund och Björknäs', 'Malstaby', 'Husby', 'Grovstanäs, Hysingsvik och Solö', 'Tranvik och Ekebyholmshöjden', 'Norrtälje'], 'Sigtuna': ['Granby', 'Rosersberg', 'Sigtuna', 'Ölsta och Steningehöjden', 'Steninge', 'Venngarn', 'Märsta'], 'Nynäshamn': ['Landfjärden', 'Lidatorp och Klövsta', 'Sorunda', 'Segersäng', 'Stora Vika', 'Grödby', 'Oxnö och Svärdsö', 'Ösmo', 'Nynäshamn'], 'Håbo': ['Vibyäng', 'Häggeby och Vreta', 'Krägga', 'Råby', 'Slottsskogen', 'Söderskogen', 'Kivinge', 'Bålsta'], 'Älvkarleby': ['Gårdskär', 'Marma', 'Älvkarleby', 'Älvkarleö', 'Skutskär'], 'Gävle': ['Skutskär', 'Berg', 'Bergby', 'Björke', 'Forsby', 'Forsbacka', 'Furuvik', 'Hedesunda', 'Lund', 'Norrsundet', 'Sälgsjön', 'Trödje', 'Valbo', 'Harkskär och Utvalnäs', 'Åbyggeby', 'Överhärde', 'Gävle'], 'Knivsta': ['Alsike', 'Edeby', 'Knivsta'], 'Heby': ['Harbo', 'Morgongåva', 'Tärnsjö', 'Vittinge', 'Östervåla', 'Heby'], 'Tierp': ['Karlholmsbruk', 'Mehedeby', 'Månkarbo', 'Skärplinge', 'Söderfors', 'Tobo', 'Upplanda', 'Örbyhus', 'Tierp'], 'Uppsala': ['Almunge', 'Björklinge', 'Jälla', 'Vänge', 'Bälinge', 'Bärby', 'Danmark', 'Funbo', 'Gunsta', 'Gåvsta', 'Håga', 'Järlåsa', 'Knutby', 'Läby', 'Länna', 'Lövstalöt', 'Selknä och Marielund', 'Ramstalund', 'Skyttorp', 'Skölsta', 'Storvreta', 'Sävja', 'Blackstalund', 'Ultuna', 'Vattholma', 'Ytternäs och Vreta', 'Vångelsta', 'Sydöstra Fullerö', 'Uppsala', 'Skoby'], 'Enköping': ['Fjärdhundra', 'Grillby', 'Haga', 'Hummelsta', 'Lillkyrka', 'Bredsand', 'Örsundsbro', 'Örsundsbro norra', 'Märsön', 'Skolsta', 'Enköping', 'Kärsta och Bredsdal'], 'Östhammar': ['Alunda', 'Dannemora', 'Gimo', 'Hargshamn', 'Skoby', 'Öregrund', 'Österbybruk', 'Östhammar'], 'Vingåker': ['Baggetorp', 'Högsjö', 'Marmorbyn', 'Läppe', 'Vingåker'], 'Katrineholm': ['Baggetorp', 'Bie', 'Björkvik', 'Djulö kvarn', 'Forssjö', 'Sköldinge', 'Strångsjö', 'Valla', 'Äsköping', 'Katrineholm'], 'Örebro': ['Läppe', 'Vintrosa', 'Askersby', 'Ervalla', 'Ekeby-Almby', 'Garphyttan', 'Glanshammar', 'Hampetorp', 'Hovsta', 'Kilsmo', 'Latorpsbruk', 'Norra Bro', 'Odensbacken', 'Stora Mellösa', 'Ölmbrotorp', 'Sjöboviken', 'Örebro', 'Ekeby'], 'Gnesta': ['Björnlunda', 'Stjärnhov', 'Gnesta', 'Kvegerö'], 'Nyköping': ['Bergshammar', 'Buskhyttan', 'Enstaberga', 'Jönåker', 'Kvegerö', 'Nävekvarn', 'Sjösa', 'Skeppsvik och Sjöskogen', 'Stavsjö', 'Stigtomta', 'Svalsta', 'Tystberga', 'Vrena', 'Ålberga', 'Örstig', 'Nyköping'], 'Trosa': ['Kvegerö', 'Vagnhärad', 'Sund', 'Västerljung', 'Åda', 'Lagnöviken', 'Stensund', 'Trosa'], 'Oxelösund': ['Inskogen', 'Oxelösund'], 'Flen': ['Bettna', 'Hälleforsnäs', 'Malmköping', 'Mellösa', 'Orrhammar', 'Skebokvarn', 'Sparreholm', 'Flen'], 'Eskilstuna': ['Alberga', 'Bälgviken', 'Hållsta', 'Hällberga', 'Hällbybrunn', 'Kullersta, Kolsta och Hensta', 'Kjulaås', 'Skiftinge', 'Sundbyholm', 'Torshälla', 'Tumbo', 'Udden', 'Ärla', 'Gredbylund och Odlaren', 'Eskilstuna', 'Kvicksund'], 'Strängnäs': ['Abborrberget', 'Sanda', 'Härad', 'Kalkudden', 'Marielund', 'Mariefred', 'Merlänna', 'Stallarholmen', 'Husby och Tuna', 'Åkers styckebruk', 'Strängnäs'], 'Ödeshög': ['Hästholmen', 'Ödeshög'], 'Ydre': ['Hestra', 'Rydsnäs', 'Österbymo'], 'Kinda': ['Horn', 'Rimforsa', 'Kisa'], 'Boxholm': ['Strålsnäs', 'Boxholm'], 'Åtvidaberg': ['Berg', 'Björsäter', 'Falerum', 'Grebo', 'Åtvidaberg'], 'Finspång': ['Borggård', 'Falla', 'Grytgöl', 'Hällestad', 'Igelfors', 'Ljusfallshammar', 'Lotorp', 'Butbro', 'Rejmyre', 'Sonstorp', 'Finspång', 'Svärtinge'], 'Valdemarsvik': ['Gryt', 'Gusum', 'Ringarum', 'Valdemarsvik'], 'Linköping': ['Askeby', 'Bankekind', 'Bergs slussar', 'Bestorp', 'Brokind', 'Ekängen', 'Gistad', 'Kränge', 'Linghem', 'Ljungsbro', 'Malmslätt', 'Nykil', 'Rappestad', 'Sjögestad', 'Skeda udde', 'Slaka', 'Sturefors', 'Tallboda', 'Vikingstad', 'Västerlösa', 'Maspelösa', 'Linköping'], 'Norrköping': ['Eksund', 'Djurön', 'Graversfors', 'Herstadberg', 'Kimstad', 'Krokek', 'Lindö', 'Ljunga', 'Marby och Marbystrand', 'Norsholm', 'Simonstorp', 'Skärblacka', 'Svärtinge', 'Vånga', 'Åby', 'Öbonäs', 'Östra Husby', 'Lundby och Malm', 'Kartlandet och Ringstadmo', 'Sidus', 'Norrköping'], 'Söderköping': ['Luddingsbo', 'Snöveltorp', 'Mogata', 'Västra Husby', 'Östra Ryd', 'Söderköping'], 'Motala': ['Borensberg', 'Fornåsa', 'Fågelsta', 'Klockrike', 'Nykyrka', 'Tjällmo', 'Österstad', 'Södra Freberga', 'Motala'], 'Vadstena': ['Vadstena'], 'Mjölby': ['Hogstad', 'Mantorp', 'Skänninge', 'Spångsholm', 'Sya', 'Väderstad', 'Mjölby'], 'Aneby': ['Frinnaryd', 'Sundhultsbrunn', 'Aneby'], 'Gnosjö': ['Hillerstorp', 'Kulltorp', 'Nissafors', 'Törestorp', 'Gnosjö', 'Lanna'], 'Mullsjö': ['Sandhem', 'Mullsjö'], 'Habo': ['Mullsjö', 'Rödån', 'Fagerhult', 'Furusjö', 'Habo', 'Bankeryd'], 'Gislaved': ['Anderstorp', 'Broaryd', 'Burseryd', 'Hestra', 'Reftele', 'Skeppshult', 'Smålandsstenar', 'Gislaved'], 'Vaggeryd': ['Bondstorp', 'Hok', 'Klevshult', 'Skillingaryd', 'Vaggeryd'], 'Jönköping': ['Bankeryd', 'Bottnaryd', 'Ölmstad', 'Bosgård, Rudu och Gissebo', 'Gränna', 'Kaxholmen', 'Kortebo', 'Lekeryd', 'Barnarp och Odensjö', 'Ryd', 'Skärstad', 'Taberg', 'Tenhult', 'Tunnerstad', 'Öggestorp', 'Örserum', 'Tovrida udde', 'Hulukvarn, Ulvstorp, Västersjön och Hedenstorp', 'Jönköping'], 'Nässjö': ['Anneberg', 'Bodafors', 'Flisby', 'Forserum', 'Fredriksdal', 'Grimstorp', 'Malmbäck', 'Ormaryd', 'Solberga', 'Stensjön', 'Äng', 'Nässjö'], 'Värnamo': ['Bor', 'Bredaryd', 'Forsheda', 'Horda', 'Hånger', 'Kärda', 'Lanna', 'Rydaholm', 'Åminne', 'Ekenhaga', 'Värnamo'], 'Sävsjö': ['Rörvik', 'Stockaryd', 'Vrigstad', 'Sävsjö'], 'Vetlanda': ['Björköby', 'Ekenässjön', 'Holsbybrunn', 'Kvillsfors', 'Landsbro', 'Myresjö', 'Pauliström', 'Sjunnen', 'Skede', 'Korsberga', 'Vetlanda'], 'Eksjö': ['Bruzaholm', 'Hjältevad', 'Hult', 'Ingatorp', 'Mariannelund', 'Eksjö'], 'Tranås': ['Gripenberg', 'Hätte, Seglarvik och Sandvik', 'Sommen', 'Norraby', 'Tranås'], 'Uppvidinge': ['Alstermo', 'Lenhovda', 'Norrhult-Klavreström', 'Älghult', 'Åseda'], 'Växjö': ['Norrhult-Klavreström', 'Braås', 'Furuby', 'Gemla', 'Ingelstad', 'Lammhult', 'Nöbbele', 'Rottne', 'Tävelsås', 'Åby', 'Åryd', 'Öja', 'Växjö'], 'Lessebo': ['Hovmantorp', 'Kosta', 'Skruv', 'Lessebo'], 'Tingsryd': ['Konga', 'Linneryd', 'Ryd', 'Rävemåla', 'Urshult', 'Väckelsång', 'Tingsryd'], 'Alvesta': ['Grimslöv', 'Hjortsberga', 'Moheda', 'Torpsbruk', 'Vislanda', 'Alvesta'], 'Älmhult': ['Delary', 'Diö', 'Eneryda', 'Liatorp', 'Älmhult'], 'Markaryd': ['Strömsnäsbruk', 'Traryd', 'Markaryd'], 'Ljungby': ['Agunnaryd', 'Angelstad', 'Kånna', 'Lagan', 'Lidhult', 'Ryssby', 'Vittaryd', 'Ljungby'], 'Högsby': ['Berga', 'Fågelfors', 'Ruda', 'Högsby'], 'Torsås': ['Bergkvara', 'Söderåkra', 'Torsås'], 'Mörbylånga': ['Algutsrum', 'Degerhamn', 'Färjestaden', 'Glömminge och Strandskogen', 'Gårdby', 'Kastlösa', 'Skogsby', 'Vickleby', 'Stora Frö och Haga park', 'Mörbylånga'], 'Hultsfred': ['Järnforsen', 'Målilla', 'Mörlunda', 'Rosenfors', 'Silverdalen', 'Vena', 'Virserum', 'Hultsfred'], 'Mönsterås': ['Blomstermåla', 'Fliseryd', 'Oknö', 'Timmernabben', 'Mönsterås', 'Emsfors'], 'Emmaboda': ['Johansfors', 'Långasjö', 'Vissefjärda', 'Emmaboda'], 'Kalmar': ['Dunö', 'Hagby', 'Halltorp', 'Lindsdal', 'Ljungbyholm', 'Läckeby', 'Påryd', 'Rinkabyholm', 'Rockneby', 'Smedby', 'Drag', 'Trekanten', 'Tvärskog', 'Vassmolösa', 'Åmunnen', 'Revsudden', 'Kalmar'], 'Nybro': ['Alsterbro', 'Bäckebo', 'Flerohopp', 'Flygsfors', 'Kristvallabrunn', 'Orrefors', 'Örsjö', 'Nybro'], 'Oskarshamn': ['Bockara', 'Emsfors', 'Figeholm', 'Fårbo', 'Kristdala', 'Påskallavik', 'Stångehamn', 'Oskarshamn'], 'Västervik': ['Ankarsrum', 'Edsbruk', 'Gamleby', 'Gunnebo', 'Hjorted', 'Loftahammar', 'Piperskärr', 'Totebo', 'Överum', 'Västervik'], 'Vimmerby': ['Frödinge', 'Gullringen', 'Storebro', 'Södra Vi', 'Tuna', 'Vimmerby'], 'Borgholm': ['Rälla', 'Löttorp', 'Böda', 'Borgholm'], 'Gotland': ['Burgsvik', 'Fårösund', 'Norra Visby', 'Havdhem', 'Hemse', 'Klintehamn', 'Lärbro', 'Romakloster', 'Slite', 'Brissund och Själsö', 'Stånga', 'Tingstäde', 'Tofta', 'Vibble', 'Väskinde', 'Västerhejde', 'Visby'], 'Olofström': ['Gränum', 'Jämshög', 'Kyrkhult', 'Vilshult', 'Olofström'], 'Karlskrona': ['Drottningskär', 'Fridlevstad', 'Fågelmara', 'Gängletorp', 'Hasslö', 'Holmsjö', 'Jämjö', 'Kättilsmåla', 'Nättraby', 'Nävragöl', 'Ramdala', 'Rödeby', 'Skavkulla och Skillingenäs', 'Sturkö', 'Sjuhalla', 'Spjutsbygd', 'Torhamn', 'Tving', 'Färmanstorp och Skavkulla brygga', 'Stensnäset och Trummenäs', 'Karlskrona'], 'Ronneby': ['Färmanstorp och Skavkulla brygga', 'Backaryd', 'Bräkne-Hoby', 'Eringsboda', 'Hallabro', 'Johannishus', 'Kallinge', 'Bökenäs, Korsanäs och Kuggeboda', 'Listerby', 'Ronnebyhamn', 'Spjälkö och Saxemara', 'Ronneby'], 'Karlshamn': ['Hällaryd', 'Mörrum', 'Svängsta', 'Horsaryd och Stilleryd', 'Åryd', 'Karlshamn', 'Pukavik'], 'Sölvesborg': ['Hällevik', 'Hörvik', 'Lörby', 'Mjällby', 'Norje', 'Pukavik', 'Ysane', 'Ljungaviken', 'Sölvesborg', 'Valje'], 'Svalöv': ['Billeberga', 'Kågeröd', 'Röstånga', 'Teckomatorp', 'Tågarp', 'Svalöv', 'Ekeby', 'Bjuv'], 'Landskrona': ['Tågarp', 'Tuna', 'Annelöv', 'Asmundtorp', 'Glumslöv', 'Häljarp', 'Härslöv', 'Kvärlöv', 'Saxtorpsskogen', 'Landskrona', 'Rydebäck', 'Vallåkra'], 'Staffanstorp': ['Bergströmshusen', 'Hjärup', 'Kyrkheddinge', 'Nordanå', 'Staffanstorp', 'Åkarp', 'Lund'], 'Lund': ['Bergströmshusen', 'Humlamaden och Hemmestorps björke, boke och fure', 'Dalby', 'Genarp', 'Torna Hällestad', 'Revingeby', 'Stångby', 'Södra Sandby', 'Vallkärra', 'Veberöd', 'Lund'], 'Burlöv': ['Nordanå', 'Burlövs egnahem', 'Åkarp', 'Malmö'], 'Lomma': ['Åkarp', 'Bjärred', 'Flädie', 'Lomma', 'Malmö'], 'Vellinge': ['Arrie', 'Gessie Villastad', 'Hököpinge', 'Höllviken och Ljunghusen', 'Skanör med Falsterbo', 'Västra Ingelstad', 'Östra Grevie', 'Vellinge'], 'Östra Göinge': ['Glimåkra', 'Hanaskog', 'Hjärsås', 'Immeln', 'Knislinge', 'Sibbhult', 'Broby'], 'Örkelljunga': ['Eket', 'Skånes-Fagerhult', 'Åsljunga', 'Örkelljunga'], 'Bjuv': ['Ekeby', 'Gunnarstorp', 'Bjuv', 'Åstorp'], 'Kävlinge': ['Järavallen', 'Barsebäck', 'Barsebäckshamn', 'Dösjebro', 'Furulund', 'Hofterup', 'Lilla Harrie', 'Löddeköpinge', 'Sandskogen', 'Västra Karaby', 'Kävlinge', 'Saxtorpsskogen'], 'Eslöv': ['Lilla Harrie', 'Billinge', 'Flyinge', 'Gårdstånga', 'Harlösa', 'Hurva', 'Kungshult', 'Löberöd', 'Marieholm', 'Stehag', 'Örtofta', 'Väggarp', 'Eslöv'], 'Svedala': ['Bara', 'Holmeja', 'Klågerup', 'Svedala', 'Oxie'], 'Skurup': ['Abbekås', 'Rydsgård', 'Skivarp', 'Skurup', 'Rynge och Vallösa', 'Trunnerup, Bleckstorp och Rögla', 'Beddingestrand'], 'Sjöbo': ['Karups sommarby', 'Bjärsjölagård', 'Blentarp', 'Lövestad', 'Sövde', 'Vollsjö', 'Äsperöd', 'Humlamaden och Hemmestorps björke, boke och fure', 'Sjöbo'], 'Hörby': ['Osbyholm', 'Önneköp', 'Hörby', 'Höör'], 'Höör': ['Jularp och Sjunnerup', 'Norra Rörum', 'Snogeröd', 'Tjörnarp', 'Höör', 'Löberöd'], 'Tomelilla': ['Brösarp', 'Lunnarp', 'Onslunda', 'Skåne-Tranås', 'Smedstorp', 'Spjutstorp', 'Tomelilla'], 'Bromölla': ['Gualöv', 'Nymölla', 'Näsum', 'Valje', 'Bromölla'], 'Osby': ['Killeberg', 'Lönsboda', 'Osby'], 'Perstorp': ['Perstorp'], 'Klippan': ['Klippans bruk', 'Ljungbyhed', 'Östra Ljungby', 'Klippan'], 'Åstorp': ['Björnås', 'Hyllinge', 'Kvidinge', 'Åstorp'], 'Ängelholm': ['Åstorp', 'Hasslarp', 'Hjärnarp', 'Lerbäckshult och Tullstorp', 'Margretetorp', 'Munka-Ljungby', 'Strövelstorp', 'Svenstorp', 'Toarp och Tåstarp', 'Össjö', 'Ängelholm'], 'Båstad': ['Förslöv', 'Grevie', 'Torekov', 'Västra Karup', 'Östra Karup', 'Båstad', 'Ängelholm'], 'Laholm': ['Östra Karup', 'Båstad', 'Genevad', 'Hasslöv', 'Hishult', 'Knäred', 'Lilla Tjärby', 'Mellbystrand', 'Ränneslöv', 'Skottorp', 'Vallberga', 'Veinge', 'Våxtorp', 'Ysby', 'Laholm'], 'Malmö': ['Bunkeflostrand', 'Oxie', 'Skumparp', 'Tygelsjö', 'Vintrie', 'Malmö'], 'Helsingborg': ['Fleninge', 'Allerum', 'Domsten', 'Gantofta', 'Hasslarp', 'Hittarp', 'Kattarp', 'Mörarp', 'Påarp', 'Rydebäck', 'Tånga och Rögle', 'Utvälinge', 'Vallåkra', 'Ödåkra', 'Helsingborg', 'Viken'], 'Höganäs': ['Farhult', 'Arild', 'Ingelsträde', 'Jonstorp', 'Mjöhult', 'Mölle', 'Viken', 'Höganäs'], 'Ystad': ['Rynge och Vallösa', 'Glemmingebro', 'Hedeskoga', 'Köpingebro', 'Löderup', 'Nybrostrand', 'Stora Herrestad', 'Svarte', 'Sövestad', 'Trunnerup, Bleckstorp och Rögla', 'Ystad'], 'Trelleborg': ['Alstad', 'Anderslöv', 'Beddingestrand', 'Klagstorp', 'Kurland', 'Skegrie', 'Smygehamn', 'Västra Tommarp', 'Trelleborg'], 'Kristianstad': ['Arkelstorp', 'Balsby', 'Bäckaskog', 'Degeberga', 'Everöd', 'Fjälkinge', 'Färlöv', 'Gärds Köpinge', 'Hammar', 'Huaröd', 'Linderöd', 'Nyehusen och Furuboda', 'Rinkaby', 'Tollarp', 'Vanneberga', 'Viby', 'Vittskövle', 'Vånga', 'Yngsjö', 'Åhus', 'Önnestad', 'Österslöv', 'Östra Sönnarslöv', 'Bjärlöv', 'Skepparslöv', 'Kristianstad'], 'Simrishamn': ['Baskemölla', 'Borrby', 'Brantevik', 'Gärsnäs', 'Hammenhög', 'Kivik', 'Sankt Olof', 'Skillinge', 'Vik', 'Vitaby', 'Östra Tommarp', 'Östra Vemmerlöv', 'Simrishamn'], 'Hässleholm': ['Ballingslöv', 'Bjärnum', 'Emmaljunga', 'Finja', 'Hästveda', 'Hörja', 'Mala', 'Sjörröd', 'Stoby', 'Sösdala', 'Tormestorp', 'Tyringe', 'Vankiva', 'Vinslöv', 'Vittsjö', 'Västra Torup', 'Hässleholm'], 'Hylte': ['Kinnared', 'Landeryd', 'Rydöbruk', 'Torup', 'Unnaryd', 'Hyltebruk'], 'Halmstad': ['Eldsberga', 'Frösakull', 'Getinge', 'Gullbrandstorp', 'Gullbranna', 'Harplinge', 'Haverdal', 'Holm', 'Kvibille', 'Laxvik', 'Oskarström', 'Sennan', 'Simlångsdalen', 'Skedala', 'Steninge', 'Trönninge', 'Villshärad', 'Åled', 'Halmstad'], 'Falkenberg': ['Steninge', 'Bergagård', 'Fegen', 'Glommen', 'Heberg', 'Köinge', 'Långås', 'Långasand och Ugglarp', 'Morup', 'Slöinge', 'Ullared', 'Vessigebro', 'Vinberg', 'Årstad', 'Älvsered', 'Ätran', 'Olofsbo', 'Falkenberg'], 'Varberg': ['Bua', 'Getterön', 'Himle', 'Hunnestad', 'Kungsäter', 'Nordvära och Källstorp', 'Rolfstorp', 'Skällinge', 'Tofta', 'Bläshammar och Trönningenäs', 'Tvååker', 'Tångaberg', 'Valinge', 'Veddige', 'Väröbacka', 'Årnäs', 'Åsby', 'Moarna', 'Ringhals, Skällåkra och Lingome', 'Varberg', 'Frillesås'], 'Kungsbacka': ['Röda holme', 'Buerås', 'Fjärås kyrkby', 'Fjärås station', 'Frillesås', 'Halla Heberg', 'Hjälm', 'Kläppa', 'Kungsbacka', 'Onsala', 'Östra Hanhals och Torkelstorp', 'Vallda', 'Åsa', 'Västra Hagen', 'Västra Hanhals', 'Göteborg'], 'Härryda': ['Eskilsby och Snugga', 'Hällingsjö', 'Hindås', 'Härryda', 'Landvetter', 'Nya Långenäs', 'Rya', 'Rävlanda', 'Stora Bugärde', 'Mölnlycke'], 'Mark': ['Eskilsby och Snugga', 'Ubbhult norra', 'Berghem', 'Björketorp', 'Fritsla', 'Horred', 'Hyssna', 'Rydal', 'Sätila', 'Torestorp', 'Öxabäck', 'Fotskäl', 'Flygsnäs och Hägnen', 'Kinna'], 'Mölndal': ['Eskilsby och Snugga', 'Mölnlycke', 'Göteborg', 'Hällesåker', 'Björnåsen', 'Västra Balltorp'], 'Bollebygd': ['Hindås', 'Hultafors', 'Olsfors', 'Töllsjö', 'Dammkullen, Fjällastorp och Stenaskjum', 'Bollebygd'], 'Partille': ['Mölnlycke', 'Jonsered', 'Kåhög', 'Öjersjö', 'Göteborg'], 'Lerum': ['Jonsered', 'Slätthult', 'Björboholm', 'Gråbo', 'Sjövik', 'Tollered', 'Öxeryd', 'Ytterstad', 'Sandkullen och Sågarehagen', 'Lerum', 'Stenared', 'Ingared'], 'Öckerö': ['Björkö', 'Fotö', 'Hälsö', 'Hönö', 'Kalvsund', 'Källö-Knippla', 'Rörö'], 'Stenungsund': ['Jörlanda', 'Stora Höga', 'Svartehallen', 'Svenshögen', 'Ucklum', 'Spekeröd', 'Ödsmål', 'Stenungsund', 'Aröd och Timmervik'], 'Uddevalla': ['Svenshögen', 'Ammenäs', 'Fagerhult', 'Hogstorp', 'Kurveröd', 'Lanesund och Överby', 'Ljungskile', 'Strandskogen, Restenäs och Ulvesund', 'Smedseröd', 'Sjöskogen och Strand', 'Kristevik och Sundsandvik', 'Utby', 'Sundsstrand', 'Ljungs Berg', 'Uddevalla'], 'Tjörn': ['Bleket och Klädesholmen', 'Djupvik och Fagerfjäll', 'Valsäng', 'Kyrkesund', 'Kållekärr', 'Höviksnäs', 'Rönnäng', 'Hjälteby', 'Skärhamn'], 'Orust': ['Ellös', 'Höggeröd', 'Mollösund', 'Svanesund', 'Varekil', 'Henån'], 'Sotenäs': ['Bovallstrand', 'Hunnebostrand', 'Malmön', 'Smögen, Kungshamn och Väjern'], 'Munkedal': ['Dingle', 'Hedekas', 'Hällevadsholm', 'Torreby', 'Munkedal'], 'Tanum': ['Fjällbacka', 'Grebbestad', 'Hamburgsund', 'Rabbalshede', 'Östad', 'Tanumshede'], 'Dals-Ed': ['Ed'], 'Färgelanda': ['Högsäter', 'Stigen', 'Ödeborg', 'Färgelanda'], 'Ale': ['Alvhem', 'Skepplanda', 'Surte', 'Älvängen', 'Nödinge-Nol'], 'Lilla Edet': ['Alvhem', 'Lilla Edet västra', 'Göta', 'Hjärtum', 'Lödöse', 'Nygård', 'Groröd, Svenseröd, Torskog och Källeröd', 'Lilla Edet', 'Signehög och Norrmannebo'], 'Göteborg': ['Ytterstad', 'Angered', 'Asperö', 'Björlanda', 'Brännö', 'Nordöstra Göteborg', 'Låssby', 'Tumlehed', 'Nolvik', 'Torslanda', 'Olofstorp', 'Stenared', 'Styrsö och Donsö', 'Säve', 'Vrångö', 'Assmundtorp och Skändla', 'Göteborg', 'Kungälv'], 'Vårgårda': ['Horla', 'Östadkulle', 'Vårgårda'], 'Grästorp': ['Grästorp'], 'Essunga': ['Främmestad', 'Jonslund', 'Nossebro'], 'Karlsborg': ['Forsvik', 'Mölltorp', 'Undenäs', 'Karlsborg'], 'Gullspång': ['Otterbäcken', 'Gullspång', 'Hova', 'Älgarås'], 'Tranemo': ['Ambjörnarp', 'Dalstorp', 'Grimsås', 'Limmared', 'Ljungsarp', 'Länghem', 'Rosenlund', 'Uddebo', 'Nittorp', 'Tranemo'], 'Bengtsfors': ['Billingsfors', 'Bäckefors', 'Dals Långed', 'Skåpafors', 'Bengtsfors'], 'Mellerud': ['Dals Rostock', 'Åsensbruk', 'Mellerud'], 'Svenljunga': ['Hillared', 'Holsljunga', 'Mjöbäck', 'Sexdrega', 'Östra Frölunda', 'Överlida', 'Sandsjön och Sågbacken', 'Svenljunga'], 'Borås': ['Sandsjön och Sågbacken', 'Bosnäs', 'Aplared', 'Borgstena', 'Bredared', 'Dalsjöfors', 'Dannike', 'Fristad', 'Frufällan', 'Gånghester och Målsryd', 'Hedared', 'Kinnarumma', 'Rydboholm', 'Rångedala', 'Sjömarken och Viared', 'Sandhult', 'Viskafors', 'Äspered', 'Funningen', 'Sandared', 'Borås'], 'Herrljunga': ['Ljung och Annelund', 'Herrljunga'], 'Vara': ['Arentorp', 'Emtunga', 'Jung', 'Kvänum', 'Larv', 'Stora Levene', 'Tråvad', 'Vedum', 'Vara'], 'Götene': ['Hällekis', 'Källby', 'Lundsbrunn', 'Götene'], 'Tibro': ['Fagersanna', 'Bråbacka', 'Tibro'], 'Töreboda': ['Moholm', 'Älgarås', 'Töreboda'], 'Kungälv': ['Diseröd', 'Kyrkeby och Nereby', 'Kode', 'Kovikshamn och Åkerhög', 'Kareby och Ringby', 'Kärna', 'Lundby och Rogstorp', 'Marstrand', 'Arvidsvik', 'Risby', 'Signehög och Norrmannebo', 'Duvesjön', 'Tjuvkil', 'Ödsmål och Åsebyberg', 'Rörtången och Ödsmåls mosse', 'Aröd och Timmervik', 'Lycke och Bremnäs', 'Hålta och Vävra', 'Kungälv'], 'Lysekil': ['Brastad', 'Fiskebäckskil', 'Grundsund', 'Rixö och Ryk', 'Lysekil'], 'Strömstad': ['Kebal', 'Skee', 'Rossö', 'Strömstad'], 'Vänersborg': ['Brålanda', 'Frändefors', 'Nordkroken', 'Vargön', 'Vänersborg', 'Trollhättan'], 'Trollhättan': ['Sjuntorp', 'Velanda', 'Upphärad', 'Väne-Åsaka', 'Trollhättan'], 'Alingsås': ['Långared', 'Magra', 'Hästeryd och Ryd', 'Färgens östra strand', 'Gräfsnäs', 'Hjälmared', 'Ingared', 'Sollebrunn', 'Stora Mellby', 'Västerbodarna', 'Alingsås'], 'Ulricehamn': ['Blidsberg', 'Dalum', 'Gällstad', 'Hulu', 'Hökerum', 'Marbäck', 'Nitta', 'Rånnaväg', 'Timmele', 'Trädet', 'Vegby', 'Ulricehamn'], 'Åmål': ['Fengersfors', 'Tösse', 'Åmål'], 'Mariestad': ['Lugnås', 'Lyrestad', 'Sjötorp', 'Ullervad', 'Mariestad'], 'Lidköping': ['Lidköping norra', 'Filsbäck', 'Järpås', 'Saleby', 'Vinninga', 'Örslösa', 'Mellby', 'Lidköping'], 'Skara': ['Ardala', 'Axvall', 'Eggby', 'Varnhem', 'Skara'], 'Skövde': ['Igelstorp', 'Lerdala', 'Skultorp', 'Stöpen', 'Tidan', 'Timmersdala', 'Ulvåker', 'Väring', 'Värsås', 'Skövde'], 'Hjo': ['Korsberga', 'Hjo'], 'Tidaholm': ['Ekedalen', 'Madängsholm', 'Tidaholm'], 'Falköping': ['Floby', 'Gudhem', 'Kinnarp', 'Kättilstorp', 'Odensberg', 'Stenstorp', 'Torbjörntorp', 'Vartofta', 'Åsarp', 'Falköping'], 'Kil': ['Fagerås', 'Högboda', 'Östra Stenåsen', 'Kil'], 'Eda': ['Eda Glasbruk', 'Koppom', 'Åmotfors', 'Charlottenberg'], 'Arvika': ['Åmotfors', 'Edane', 'Gunnarskog', 'Jössefors', 'Klässbol', 'Sulvik', 'Arvika'], 'Torsby': ['Oleby', 'Stöllet', 'Sysslebäck', 'Torsby'], 'Storfors': ['Kyrksten', 'Storfors'], 'Hammarö': ['Rud', 'Tye', 'Vidöåsen', 'Skoghall'], 'Hagfors': ['Munkfors', 'Bergsäng', 'Geijersholm', 'Ekshärad', 'Råda', 'Sunnemo', 'Uddeholm', 'Hagfors'], 'Forshaga': ['Deje', 'Dyvelsten', 'Forshaga'], 'Grums': ['Segmon', 'Slottsbron', 'Grums'], 'Årjäng': ['Töcksfors', 'Årjäng'], 'Sunne': ['Lysvik', 'Rottneros', 'Uddheden', 'Västra Ämtervik', 'Sunne'], 'Karlstad': ['Alster', 'Edsvalla', 'Edsvalla Övre bruket', 'Molkom', 'Norsbron', 'Älvåker och Råtorp', 'Skattkärr', 'Skåre', 'Vallargärdet', 'Vålberg', 'Väse', 'Karlstad'], 'Kristinehamn': ['Björneborg', 'Bäckhammar', 'Ölme', 'Kristinehamn'], 'Filipstad': ['Lesjöfors', 'Nykroppa', 'Persberg', 'Filipstad'], 'Säffle': ['Svanskog', 'Värmlandsbro', 'Säffle'], 'Lekeberg': ['Gropen', 'Mullhyttan', 'Vintrosa', 'Fjugesta'], 'Laxå': ['Finnerödja', 'Hasselfors', 'Laxå'], 'Hallsberg': ['Hjortkvarn', 'Pålsboda', 'Sköllersta', 'Vretstorp', 'Östansjö', 'Hallsberg'], 'Kumla': ['Hallsberg', 'Ekeby', 'Åbytorp', 'Kumla'], 'Degerfors': ['Svartå', 'Degerfors'], 'Hällefors': ['Grythyttan', 'Hällefors'], 'Ljusnarsberg': ['Ställdalen', 'Kopparberg'], 'Askersund': ['Hammar', 'Olshammar', 'Sänna', 'Zinkgruvan', 'Åmmeberg', 'Åsbro', 'Askersund'], 'Karlskoga': ['Valåsen och Labbsand', 'Karlskoga'], 'Nora': ['Gyttorp', 'Striberg', 'Ås', 'Nora'], 'Lindesberg': ['Fellingsbro', 'Frövi', 'Gusselby', 'Ramsberg', 'Rockhammar', 'Storå', 'Stråssa', 'Vedevåg', 'Lindesberg'], 'Skinnskatteberg': ['Riddarhyttan', 'Skinnskatteberg'], 'Surahammar': ['Ramnäs', 'Virsbo', 'Surahammar'], 'Kungsör': ['Valskog', 'Kungsör'], 'Hallstahammar': ['Kolbäck', 'Strömsholm', 'Sörstafors', 'Södra Hallstahammar', 'Västra Hallstahammar', 'Hallstahammar'], 'Norberg': ['Norberg'], 'Västerås': ['Kvicksund', 'Barkarö', 'Dingtuna', 'Enhagen-Ekbacken', 'Harkie', 'Lycksta', 'Kärsta och Bredsdal', 'Malmen', 'Munga', 'Skultuna', 'Tidö-Lindö', 'Tillberga', 'Tortuna', 'Irsta', 'Örtagården', 'Hustahöjden', 'Västerås'], 'Sala': ['Möklinta', 'Ransta', 'Salbohed', 'Sätra Brunn', 'Västerfärnebo', 'Sala'], 'Fagersta': ['Fagersta'], 'Köping': ['Kolsva', 'Munktorp', 'Köping'], 'Arboga': ['Götlunda', 'Medåker', 'Arboga'], 'Vansbro': ['Järna', 'Heden och Skansbacken', 'Skålö', 'Äppelbo', 'Vansbro'], 'Malung-Sälen': ['Lima', 'Limedsforsen', 'Malungsfors', 'Sälen', 'Transtrand', 'Malung'], 'Gagnef': ['Björbo', 'Bäsna', 'Floda / Dala-Floda', 'Djurås', 'Mockfjärd', 'Sifferbo', 'Gagnef'], 'Borlänge': ['Sifferbo', 'Halvarsgårdarna', 'Norr Amsberg', 'Ornäs', 'Repbäcken', 'Torsång', 'Borlänge'], 'Leksand': ['Alvik', 'Djura', 'Hjortnäs och Sunnanäng', 'Häradsbygden', 'Insjön', 'Siljansnäs', 'Tällberg', 'Västanvik', 'Leksand'], 'Rättvik': ['Nittsjö, Sätra och Backa', 'Boda', 'Furudal', 'Gulleråsen', 'Nedre Gärdsjö', 'Vikarbyn', 'Rättvik'], 'Orsa': ['Skattungbyn', 'Orsa'], 'Mora': ['Orsa', 'Bonäs', 'Gesunda', 'Nusnäs', 'Selja', 'Sollerön', 'Venjan', 'Stenis och Vika', 'Vinäs', 'Våmhus', 'Mora'], 'Älvdalen': ['Brunnsberg', 'Evertsberg', 'Idre', 'Rot', 'Särna', 'Västermyckeläng', 'Älvdalen'], 'Smedjebacken': ['Gubbo', 'Hagge', 'Söderbärke', 'Vad', 'Smedjebacken', 'Ludvika'], 'Falun': ['Aspeboda', 'Bengtsheden', 'Bjursås', 'Karlsbyheden och Blixbo', 'Gamla Berget och Korsgården', 'Danholn', 'Enviken', 'Grycksbo', 'Sundborn', 'Svärdsjö', 'Sågmyra', 'Toftbyn', 'Vika', 'Övertänger', 'Österå, Uggelviken och Hökviken', 'Falun'], 'Säter': ['Enbacka och Mora', 'Solvarbo', 'Skedvi kyrkby', 'Naglarby, Lisselhaga och Storhaga', 'Säter'], 'Hedemora': ['Husby', 'Garpenberg', 'Långshyttan', 'Vikmanshyttan', 'Västerby', 'Hedemora'], 'Avesta': ['Folkärna', 'Fors', 'Horndal', 'Nordanö', 'Avesta'], 'Ludvika': ['Blötberget', 'Fredriksberg', 'Gonäs', 'Grängesberg västra', 'Grängesberg', 'Håksberg', 'Nyhammar', 'Saxdalen', 'Sunnansjö', 'Sörvik', 'Norrbo och Västansjö', 'Ludvika'], 'Ockelbo': ['Lingbo', 'Åmot', 'Ockelbo'], 'Hofors': ['Robertsholm', 'Torsåker', 'Hofors'], 'Ovanåker': ['Alfta', 'Roteberg', 'Runemo', 'Viksjöfors', 'Edsbyn'], 'Nordanstig': ['Gnarp', 'Harmånger', 'Ilsbo', 'Jättendal', 'Hassela', 'Stocka', 'Strömsbruk', 'Bergsjö'], 'Ljusdal': ['Färila', 'Hybo', 'Järvsö', 'Lillhaga', 'Los', 'Tallåsen', 'Ljusdal'], 'Sandviken': ['Hammarby', 'Hillsta och Se', 'Jäderfors', 'Järbo', 'Kungsgården', 'Storvik', 'Västerberg', 'Årsunda', 'Åshammar', 'Österfärnebo', 'Östanå', 'Sandviken'], 'Söderhamn': ['Bergvik', 'Ljusne', 'Marmaverken', 'Marmaskogen', 'Mohed', 'Sandarne', 'Vallvik', 'Vannsätter', 'Klapparvik, Malenedal och Källvik', 'Söderhamn'], 'Bollnäs': ['Arbrå', 'Freluga', 'Kilafors', 'Lottefors', 'Rengsjö', 'Segersta', 'Sibo', 'Vallsta', 'Bollnäs'], 'Hudiksvall': ['Delsbo', 'Enånger', 'Friggesund', 'Edsta', 'Iggesund', 'Njutånger', 'Näsviken', 'Sörforsa', 'Tomta, Näsbyn och Hagen', 'Hudiksvall'], 'Ånge': ['Alby', 'Ljungaverk och Fränsta', 'Torpshammar', 'Ånge'], 'Timrå': ['Bergeforsen', 'Laggarberg', 'Stavreviken', 'Söråker', 'Timrå'], 'Härnösand': ['Ramvik', 'Älandsbro', 'Härnösand'], 'Sundsvall': ['Klingsta och Allsta', 'Vi', 'Hartungviken och Spikarna', 'Hovid', 'Indal', 'Kovland', 'Kvissleby', 'Liden', 'Lucksta', 'Matfors', 'Nedansjö', 'Njurundabommen', 'Selånger', 'Vikarbodarna och Skatan', 'Stockvik', 'Stöde', 'Svartvik', 'Viforsen och Tunbyn', 'Vattjom', 'Ås, Slädaviken och Bullås', 'Sundsvall'], 'Kramfors': ['Bollstabruk', 'Docksta', 'Herrskog', 'Klockestrand', 'Lugnvik', 'Lunde', 'Mjällom', 'Nordingrå', 'Nyland', 'Sandslån', 'Ullånger', 'Kramfors'], 'Sollefteå': ['Junsele', 'Långsele', 'Näsåker', 'Ramsele', 'Sollefteå'], 'Örnsköldsvik': ['Billsta', 'Bjästa', 'Björna', 'Bredbyn', 'Gideå', 'Gottne', 'Husum', 'Köpmanholmen', 'Långviksmon', 'Mellansel', 'Moliden', 'Sidensjö', 'Åmynnet', 'Örnsköldsvik'], 'Ragunda': ['Östra Bispgården', 'Västra Bispgården', 'Stugun', 'Hammarstrand'], 'Bräcke': ['Gällö', 'Kälarne', 'Pilgrimstad', 'Bräcke'], 'Krokom': ['Aspås', 'Åssjöns norra strand', 'Dvärsätt', 'Föllinge', 'Hissmofors', 'Nälden', 'Trångsviken', 'Vaplan', 'Ås', 'Änge', 'Krokom', 'Östersund'], 'Strömsund': ['Backe', 'Gäddede', 'Hammerdal', 'Hoting', 'Näsviken', 'Rossön', 'Strömsund'], 'Åre': ['Björnänge', 'Hallen', 'Mörsil', 'Undersåker', 'Åre', 'Järpen'], 'Berg': ['Hackås', 'Hoverberg', 'Klövsjö', 'Myrviken', 'Åsarne', 'Svenstavik'], 'Härjedalen': ['Funäsdalen', 'Hede', 'Lillhärdal', 'Norr-Hede', 'Ulvkälla', 'Vemdalen', 'Ytterhogdal', 'Bruksvallarna/Våålleh', 'Sveg'], 'Östersund': ['Fåker, Ålsta och Månsta', 'Hara', 'Häggenås', 'Lunne', 'Lit', 'Marieby', 'Målsta, Genvalla och Fillsta', 'Orrviken', 'Tandsbyn', 'Ängsmon', 'Slandrom', 'Östersund'], 'Nordmaling': ['Lögdeå', 'Rundvik', 'Nordmaling'], 'Bjurholm': ['Bjurholm'], 'Vindeln': ['Hällnäs', 'Tvärålund', 'Vindeln'], 'Robertsfors': ['Bygdeå', 'Ånäset', 'Robertsfors'], 'Norsjö': ['Bastuträsk', 'Norsjö'], 'Malå': ['Malå'], 'Storuman': ['Hemavan/Bierke', 'Stensele', 'Tärnaby', 'Storuman'], 'Sorsele': ['Sorsele'], 'Dorotea': ['Dorotea'], 'Vännäs': ['Vännäsby', 'Vännäs'], 'Vilhelmina': ['Vilhelmina'], 'Åsele': ['Åsele'], 'Umeå': ['Botsmark', 'Brännäset och Boviken', 'Brännland', 'Bullmark', 'Flurkmark', 'Hissjön', 'Holmsund', 'Hörnefors', 'Innertavle', 'Norrmjöle', 'Obbola', 'Röbäck', 'Stöcke', 'Stöcksjö', 'Sävar', 'Sörfors', 'Sörmjöle', 'Tavelsjö', 'Täfteå', 'Ersmark', 'Yttersjö', 'Överboda', 'Kassjö', 'Umeå'], 'Lycksele': ['Hedlunda', 'Rusksele', 'Lycksele'], 'Skellefteå': ['Boliden', 'Bureå', 'Burträsk', 'Bygdsiljum', 'Byske', 'Ersmark', 'Jörn', 'Klutmark', 'Kusmark', 'Kåge', 'Lövånger', 'Medle', 'Myckle', 'Ostvik', 'Skelleftehamn', 'Ursviken', 'Drängsmark', 'Södra Bergsbyn och Stackgrönnan', 'Örviken', 'Frostkåge', 'Skellefteå'], 'Arvidsjaur': ['Glommersträsk', 'Arvidsjaur'], 'Arjeplog': ['Arjeplog'], 'Jokkmokk': ['Porjus', 'Vuollerim', 'Jokkmokk'], 'Överkalix': ['Svartbyn', 'Tallvik', 'Överkalix'], 'Kalix': ['Bredviken', 'Båtskärsnäs', 'Gammelgården', 'Påläng', 'Risögrund', 'Sangis', 'Töre', 'Nyborg', 'Kalix'], 'Övertorneå': ['Hedenäset', 'Juoksengi', 'Svanstein', 'Övertorneå'], 'Pajala': ['Junosuando', 'Kangos', 'Korpilombolo', 'Pajala'], 'Gällivare': ['Hakkas', 'Koskullskulle', 'Malmberget östra', 'Malmberget västra', 'Tjautjas/Cavccas', 'Repisvaara', 'Gällivare'], 'Älvsbyn': ['Korsträsk', 'Vidsel', 'Vistträsk', 'Älvsbyn'], 'Luleå': ['Antnäs', 'Bensbyn', 'Bergnäset', 'Brändön', 'Bälinge', 'Ersnäs', 'Gammelstaden', 'Jämtön', 'Kallax', 'Karlsvik', 'Klöverträsk', 'Måttsund', 'Persön', 'Rutvik', 'Råneå', 'Sundom', 'Hällbäcken och Sinksundet', 'Södra Sunderbyn', 'Ängesbyn', 'Södra Hertsölandet', 'Luleå'], 'Piteå': ['Bergsviken', 'Blåsmark', 'Böle', 'Hemmingsmark', 'Hortlax', 'Jävre', 'Lillpite', 'Norrfjärden', 'Roknäs', 'Rosvik', 'Sjulsmark', 'Svensbyn', 'Övermarken, Skatan och Maran', 'Piteå'], 'Boden': ['Harads', 'Sävast', 'Trångforsen och Heden', 'Unbyn', 'Vittjärv', 'Boden'], 'Haparanda': ['Karungi', 'Nikkala', 'Seskarö', 'Haparanda'], 'Kiruna': ['Jukkasjärvi', 'Karesuando', 'Kuttainen', 'Svappavaara', 'Vittangi', 'Laxforsen/Lintanen', 'Kiruna']}\n"
     ]
    }
   ],
   "source": [
    "tatorter = pd.read_csv(\"variable_data/downloaded_data/tatorter2020.csv\")\n",
    "print(tatorter.columns)\n",
    "tatorter = tatorter[['Kommunnamn', 'Beteckning på tätort']]\n",
    "tatorter.head()\n",
    "tatorter['Beteckning på tätort'] = tatorter['Beteckning på tätort'].apply(lambda x: str(x).replace('*', ''))\n",
    "# Create an empty dictionary to store the grouped items\n",
    "tatorter_in_municipals = {}\n",
    "\n",
    "# Iterate over the DataFrame and group items based on the 'number_column'\n",
    "for index, row in tatorter.iterrows():\n",
    "    key = row['Kommunnamn']\n",
    "    value = row['Beteckning på tätort']\n",
    "\n",
    "    if key in tatorter_in_municipals:\n",
    "        # Append to existing key's list\n",
    "        tatorter_in_municipals[key].append(value)\n",
    "    else:\n",
    "        # Create a new key with a list containing the current value\n",
    "        tatorter_in_municipals[key] = [value]\n",
    "\n",
    "print(tatorter_in_municipals)\n",
    "\n",
    "# with open('variable_data/selfmade_dictionaries/tatorter_in_municipals_dict.json', 'w') as json_file:\n",
    "#     json.dump(tatorter_in_municipals, json_file)"
   ]
  },
  {
   "cell_type": "code",
   "execution_count": 9,
   "metadata": {},
   "outputs": [],
   "source": [
    "scbinternal_fastlopnr = {}\n",
    "numbers = [str(x) for x in range(10)]\n",
    "\n",
    "with open('variable_data/selfmade_dictionaries/county_dict.json', 'r') as json_file:\n",
    "    counties_with_municipals = json.load(json_file)\n",
    "\n",
    "with open('variable_data/selfmade_dictionaries/tatorter_in_municipals_dict.json', 'r') as json_file:\n",
    "    tatorter_in_municipals = json.load(json_file)\n",
    "\n",
    "with open('variable_data/selfmade_dictionaries/forsamling_dict.json', 'r') as json_file:\n",
    "    forsamlingar_in_municipals = json.load(json_file)\n",
    "\n",
    "with open('variable_data/selfmade_dictionaries/district_codes_from_Forsamling_dict.json', 'r') as json_file:\n",
    "    districtcodes_from_Forsamling = json.load(json_file)\n",
    "\n",
    "\n",
    "def generate_syntethic_FastBet(municipal_name):\n",
    "    tatorter = tatorter_in_municipals[municipal_name]\n",
    "    tatort = tatorter[random.randint(0, len(tatorter)-1)] #Chooses randomly which \"Tätort\" the person lives in of the ones available to that municipal\n",
    "    number = str(random.randint(1, 400))\n",
    "    if random.randint(0, 100) > 30: #It is quite likely that there are numbers followed by the first one\n",
    "        number += \":\" + str(random.randint(1, 400))\n",
    "\n",
    "    FastBet = f\"{municipal_name} {tatort} {number}\"\n",
    "    return FastBet\n",
    "\n",
    "def generate_synthetic_FastLopNr(FastBet):\n",
    "    if FastBet in scbinternal_fastlopnr: #If there are people in the same new FastBet then they should have the same FastLopNr as well\n",
    "        return scbinternal_fastlopnr[FastBet]\n",
    "    else:\n",
    "        FastLopNr = \"\" #If the FastBet does not already exist then we should make a new FastLopNr\n",
    "        taken_values = set(scbinternal_fastlopnr.values())\n",
    "        \n",
    "        while True:\n",
    "            for _ in range(5):\n",
    "                FastLopNr = FastLopNr + numbers[random.randint(0, 9)]\n",
    "            if FastLopNr not in taken_values: #Making sure we don't make the same FastLopNr for different FastBet\n",
    "                scbinternal_fastlopnr[FastBet] = FastLopNr\n",
    "                return FastLopNr\n",
    "\n",
    "def generate_synthetic_Distriktskod(Forsamling):\n",
    "    possible_districts = districtcodes_from_Forsamling[Forsamling]\n",
    "    return possible_districts[random.randint(0, len(possible_districts)-1)]"
   ]
  },
  {
   "cell_type": "code",
   "execution_count": 10,
   "metadata": {},
   "outputs": [],
   "source": [
    "def generate_synthetic_geographical_proximity():\n",
    "    counties = list(counties_with_municipals.keys())\n",
    "    Lan = counties[random.randint(0, len(counties)-1)] #Chooses a random Lan to begin with\n",
    "    municipals = counties_with_municipals[Lan]\n",
    "    Kommun = municipals[random.randint(0, len(municipals)-1)] #Chooses a random Kommun in that county\n",
    "    forsamlingar = forsamlingar_in_municipals[Kommun]\n",
    "    Forsamling = forsamlingar[random.randint(0, len(forsamlingar)-1)] #Chooses a random municipal in that county\n",
    "\n",
    "\n",
    "    Distriktskod = generate_synthetic_Distriktskod(Forsamling) #Chooses a random district_code based on the Forsamling\n",
    "    FastBet = generate_syntethic_FastBet(Kommun) #Generates a random Fastighetsbeteckning based on municipal and places to live in that municipal\n",
    "    FastLopNr = generate_synthetic_FastLopNr(FastBet) #Generates a random FastLopNr that is unique to that FastBet or returns the already existing if the FastBet already exists\n",
    "    geographical_data = {\n",
    "                        'Lan'           : [Lan],\n",
    "                        'Kommun'        : [Kommun],\n",
    "                        'Forsamling'    : [Forsamling],\n",
    "                        'Distriktskod'  : [Distriktskod],\n",
    "                        'FastLopNr'     : [FastLopNr],\n",
    "                        'FastBet'       : [FastBet]\n",
    "                        }\n",
    "    data = pd.DataFrame.from_dict(geographical_data)\n",
    "    return data"
   ]
  },
  {
   "cell_type": "code",
   "execution_count": 11,
   "metadata": {},
   "outputs": [],
   "source": [
    "for _ in range(100): #10000 generated people with no errors\n",
    "    data = generate_synthetic_geographical_proximity()\n",
    "    data.head()"
   ]
  },
  {
   "cell_type": "code",
   "execution_count": 15,
   "metadata": {},
   "outputs": [],
   "source": [
    "from variable_functions.generate_all_variables import generate_data\n",
    "\n",
    "pretty_good_family_data = generate_data(10000)"
   ]
  },
  {
   "cell_type": "code",
   "execution_count": 16,
   "metadata": {},
   "outputs": [],
   "source": [
    "pretty_good_family_data = pretty_good_family_data.reset_index(drop=True)\n",
    "pretty_good_family_data.to_csv('pretty_good_family_data.csv')"
   ]
  }
 ],
 "metadata": {
  "kernelspec": {
   "display_name": "base",
   "language": "python",
   "name": "python3"
  },
  "language_info": {
   "codemirror_mode": {
    "name": "ipython",
    "version": 3
   },
   "file_extension": ".py",
   "mimetype": "text/x-python",
   "name": "python",
   "nbconvert_exporter": "python",
   "pygments_lexer": "ipython3",
   "version": "3.12.0"
  }
 },
 "nbformat": 4,
 "nbformat_minor": 2
}
