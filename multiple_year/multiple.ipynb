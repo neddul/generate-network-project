{
 "cells": [
  {
   "cell_type": "code",
   "execution_count": null,
   "metadata": {},
   "outputs": [
    {
     "name": "stdout",
     "output_type": "stream",
     "text": [
      "Creating data for 1 households in the year 1990 - 1991\n",
      "Creating start data for year 1990\n",
      "0/1\n",
      "Turning data into csv(s)\n",
      "1/1\n",
      "--------------------------\n",
      "\n",
      "Simulating data for year 1991\n",
      "{'Sun2000niva_old': 91489, 'SUN2000niva': '412', 'SUN2000Inr': '1', 'SUN2000Grp': 'Minst 30 högskolepoäng inom pedagogik och lärarutbildning, ej examen', 'Barn0_3': 1, 'Barn4_6': 0, 'Barn7_10': 0, 'Barn11_15': 0, 'Barn16_17': 0, 'Barn18plus': 0, 'Barn18_19': 0, 'Barn20plus': 0, 'PersonNr': '19400405-2698', 'FamId': '19400405-2698', 'Lan': 'Östergötland county', 'Kommun': 'Söderköping', 'Forsamling': '058204', 'Distriktskod': '108094', 'FastLopNr': '770537793', 'FastBet': 'Söderköping Luddingsbo 246318379', 'FodelseAr': '1940', 'DodDatum': None, 'Alder': 51, 'Kon': 1, 'InvUtvLand': None, 'InvUtvManad': None, 'PostTyp': None, 'FodelseLandnamn': 'Sweden', 'FodelseTidMor': '19820102', 'FodelseLandnamnMor': 'Sweden', 'FodelseTidFar': '19790102', 'FodelseLandnamnFar': 'Sweden', 'UtlSvBakg': 22, 'SyssStat': 1, 'ArbTid': 5, 'YrkStalln': 0, 'KU1lnk': 2497, 'KU2lnk': 1084, 'KU3lnk': 0, 'Raks_SummaInk': 3581, 'Raks_Huvudanknytning': 7, 'Raks_EtablGrad': 'NULL', 'Raks_Forvink': 0, 'CfarNr_LISA': '855673154', 'ArbstId': '85567315466216Linköping400405-2698', 'AstNr_LISA': '66216', 'AstKommun': 'Linköping', 'AstLan': 'Östergötland county', 'KU1PeOrgNr': '400405-2698', 'KU1CfarNr': '855673154', 'KU1AstNr': '66216', 'KU1AstKommun': 'Linköping', 'KU1AstLan': 'Östergötland county', 'KU1YrkStalln': '1', 'KU2PeOrgNr': '397223-0597', 'KU2CfarNr': '810884084', 'KU2AstNr': '31271', 'KU2AstKommun': 'Boxholm', 'KU2AstLan': 'Östergötland county', 'KU2YrkStalln': '1', 'KU3PeOrgNr': '-', 'KU3CfarNr': '-', 'KU3AstNr': '-', 'KU3AstKommun': '0000', 'KU3AstLan': '00', 'KU3YrkStalln': '-', 'kid_info': {2: 1, 0: 1}}\n",
      "\n",
      "{'Sun2000niva_old': 42728, 'SUN2000niva': '3', 'SUN2000Inr': '213', 'SUN2000Grp': 'Gymnasial utbildning för medieproduktion', 'Barn0_3': 1, 'Barn4_6': 0, 'Barn7_10': 0, 'Barn11_15': 0, 'Barn16_17': 0, 'Barn18plus': 0, 'Barn18_19': 0, 'Barn20plus': 0, 'PersonNr': '19530207-7255', 'FamId': '19400405-2698', 'Lan': 'Östergötland county', 'Kommun': 'Söderköping', 'Forsamling': '058204', 'Distriktskod': '108094', 'FastLopNr': '770537793', 'FastBet': 'Söderköping Luddingsbo 246318379', 'FodelseAr': '1953', 'DodDatum': None, 'Alder': 38, 'Kon': 1, 'InvUtvLand': None, 'InvUtvManad': None, 'PostTyp': None, 'FodelseLandnamn': 'Sweden', 'FodelseTidMor': '19820102', 'FodelseLandnamnMor': 'Sweden', 'FodelseTidFar': '19790102', 'FodelseLandnamnFar': 'Sweden', 'UtlSvBakg': 22, 'SyssStat': 1, 'ArbTid': 5, 'YrkStalln': 1, 'KU1lnk': 1841, 'KU2lnk': 1789, 'KU3lnk': 0, 'Raks_SummaInk': 3630, 'Raks_Huvudanknytning': 5, 'Raks_EtablGrad': 'NULL', 'Raks_Forvink': 0, 'CfarNr_LISA': '297678265', 'ArbstId': '29767826589046Ödeshög309269-1762', 'AstNr_LISA': '89046', 'AstKommun': 'Ödeshög', 'AstLan': 'Östergötland county', 'KU1PeOrgNr': '309269-1762', 'KU1CfarNr': '297678265', 'KU1AstNr': '89046', 'KU1AstKommun': 'Ödeshög', 'KU1AstLan': 'Östergötland county', 'KU1YrkStalln': '1', 'KU2PeOrgNr': '977975-1464', 'KU2CfarNr': '248311999', 'KU2AstNr': '48212', 'KU2AstKommun': 'Linköping', 'KU2AstLan': 'Östergötland county', 'KU2YrkStalln': '1', 'KU3PeOrgNr': '-', 'KU3CfarNr': '-', 'KU3AstNr': '-', 'KU3AstKommun': '0000', 'KU3AstLan': '00', 'KU3YrkStalln': '-', 'kid_info': {2: 1, 0: 1}}\n",
      "\n",
      "-----------------------------\n",
      "\n",
      "People in the same household\n",
      "{'Sun2000niva_old': 91489, 'SUN2000niva': '412', 'SUN2000Inr': '1', 'SUN2000Grp': 'Minst 30 högskolepoäng inom pedagogik och lärarutbildning, ej examen', 'Barn0_3': 1, 'Barn4_6': 0, 'Barn7_10': 0, 'Barn11_15': 0, 'Barn16_17': 0, 'Barn18plus': 0, 'Barn18_19': 0, 'Barn20plus': 0, 'PersonNr': '19400405-2698', 'FamId': '19400405-2698', 'Lan': 'Östergötland county', 'Kommun': 'Söderköping', 'Forsamling': '058204', 'Distriktskod': '108094', 'FastLopNr': '770537793', 'FastBet': 'Söderköping Luddingsbo 246318379', 'FodelseAr': '1940', 'DodDatum': None, 'Alder': 51, 'Kon': 1, 'InvUtvLand': None, 'InvUtvManad': None, 'PostTyp': None, 'FodelseLandnamn': 'Sweden', 'FodelseTidMor': '19820102', 'FodelseLandnamnMor': 'Sweden', 'FodelseTidFar': '19790102', 'FodelseLandnamnFar': 'Sweden', 'UtlSvBakg': 22, 'SyssStat': 1, 'ArbTid': 5, 'YrkStalln': 0, 'KU1lnk': 2497, 'KU2lnk': 1084, 'KU3lnk': 0, 'Raks_SummaInk': 3581, 'Raks_Huvudanknytning': 7, 'Raks_EtablGrad': 'NULL', 'Raks_Forvink': 0, 'CfarNr_LISA': '855673154', 'ArbstId': '85567315466216Linköping400405-2698', 'AstNr_LISA': '66216', 'AstKommun': 'Linköping', 'AstLan': 'Östergötland county', 'KU1PeOrgNr': '400405-2698', 'KU1CfarNr': '855673154', 'KU1AstNr': '66216', 'KU1AstKommun': 'Linköping', 'KU1AstLan': 'Östergötland county', 'KU1YrkStalln': '1', 'KU2PeOrgNr': '397223-0597', 'KU2CfarNr': '810884084', 'KU2AstNr': '31271', 'KU2AstKommun': 'Boxholm', 'KU2AstLan': 'Östergötland county', 'KU2YrkStalln': '1', 'KU3PeOrgNr': '-', 'KU3CfarNr': '-', 'KU3AstNr': '-', 'KU3AstKommun': '0000', 'KU3AstLan': '00', 'KU3YrkStalln': '-', 'kid_info': {2: 1, 0: 1}}\n",
      "\n",
      "{'Sun2000niva_old': 42728, 'SUN2000niva': '3', 'SUN2000Inr': '213', 'SUN2000Grp': 'Gymnasial utbildning för medieproduktion', 'Barn0_3': 1, 'Barn4_6': 0, 'Barn7_10': 0, 'Barn11_15': 0, 'Barn16_17': 0, 'Barn18plus': 0, 'Barn18_19': 0, 'Barn20plus': 0, 'PersonNr': '19530207-7255', 'FamId': '19400405-2698', 'Lan': 'Östergötland county', 'Kommun': 'Söderköping', 'Forsamling': '058204', 'Distriktskod': '108094', 'FastLopNr': '770537793', 'FastBet': 'Söderköping Luddingsbo 246318379', 'FodelseAr': '1953', 'DodDatum': None, 'Alder': 38, 'Kon': 1, 'InvUtvLand': None, 'InvUtvManad': None, 'PostTyp': None, 'FodelseLandnamn': 'Sweden', 'FodelseTidMor': '19820102', 'FodelseLandnamnMor': 'Sweden', 'FodelseTidFar': '19790102', 'FodelseLandnamnFar': 'Sweden', 'UtlSvBakg': 22, 'SyssStat': 1, 'ArbTid': 5, 'YrkStalln': 1, 'KU1lnk': 1841, 'KU2lnk': 1789, 'KU3lnk': 0, 'Raks_SummaInk': 3630, 'Raks_Huvudanknytning': 5, 'Raks_EtablGrad': 'NULL', 'Raks_Forvink': 0, 'CfarNr_LISA': '297678265', 'ArbstId': '29767826589046Ödeshög309269-1762', 'AstNr_LISA': '89046', 'AstKommun': 'Ödeshög', 'AstLan': 'Östergötland county', 'KU1PeOrgNr': '309269-1762', 'KU1CfarNr': '297678265', 'KU1AstNr': '89046', 'KU1AstKommun': 'Ödeshög', 'KU1AstLan': 'Östergötland county', 'KU1YrkStalln': '1', 'KU2PeOrgNr': '977975-1464', 'KU2CfarNr': '248311999', 'KU2AstNr': '48212', 'KU2AstKommun': 'Linköping', 'KU2AstLan': 'Östergötland county', 'KU2YrkStalln': '1', 'KU3PeOrgNr': '-', 'KU3CfarNr': '-', 'KU3AstNr': '-', 'KU3AstKommun': '0000', 'KU3AstLan': '00', 'KU3YrkStalln': '-', 'kid_info': {2: 1, 0: 1}}\n",
      "\n",
      "\n",
      "Kids in household\n",
      "\n",
      "-----------------------------\n",
      "Turning data into csv(s)\n",
      "1/1\n",
      "Finished year 1991\n",
      "--------------------------\n",
      "\n",
      "Program finished\n"
     ]
    },
    {
     "data": {
      "text/plain": [
       "True"
      ]
     },
     "execution_count": 143,
     "metadata": {},
     "output_type": "execute_result"
    }
   ],
   "source": [
    "a = 100"
   ]
  }
 ],
 "metadata": {
  "kernelspec": {
   "display_name": "Python 3",
   "language": "python",
   "name": "python3"
  },
  "language_info": {
   "codemirror_mode": {
    "name": "ipython",
    "version": 3
   },
   "file_extension": ".py",
   "mimetype": "text/x-python",
   "name": "python",
   "nbconvert_exporter": "python",
   "pygments_lexer": "ipython3",
   "version": "3.12.0"
  }
 },
 "nbformat": 4,
 "nbformat_minor": 2
}
