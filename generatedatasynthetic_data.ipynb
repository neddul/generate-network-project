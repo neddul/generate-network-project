{
 "cells": [
  {
   "cell_type": "code",
   "execution_count": 2,
   "metadata": {},
   "outputs": [
    {
     "name": "stdout",
     "output_type": "stream",
     "text": [
      "Note: you may need to restart the kernel to use updated packages.\n"
     ]
    }
   ],
   "source": [
    "%pip install -q pyscbwrapper"
   ]
  },
  {
   "cell_type": "code",
   "execution_count": 3,
   "metadata": {},
   "outputs": [],
   "source": [
    "from pyscbwrapper import SCB\n",
    "scb = SCB('sv')"
   ]
  },
  {
   "cell_type": "code",
   "execution_count": 4,
   "metadata": {},
   "outputs": [
    {
     "data": {
      "text/plain": [
       "[{'id': 'AA', 'type': 'l', 'text': 'Ämnesövergripande statistik'},\n",
       " {'id': 'AM', 'type': 'l', 'text': 'Arbetsmarknad'},\n",
       " {'id': 'BE', 'type': 'l', 'text': 'Befolkning'},\n",
       " {'id': 'BO', 'type': 'l', 'text': 'Boende, byggande och bebyggelse'},\n",
       " {'id': 'EN', 'type': 'l', 'text': 'Energi'},\n",
       " {'id': 'FM', 'type': 'l', 'text': 'Finansmarknad'},\n",
       " {'id': 'HA', 'type': 'l', 'text': 'Handel med varor och tjänster'},\n",
       " {'id': 'HE', 'type': 'l', 'text': 'Hushållens ekonomi'},\n",
       " {'id': 'HS', 'type': 'l', 'text': 'Hälso- och sjukvård'},\n",
       " {'id': 'JO', 'type': 'l', 'text': 'Jord- och skogsbruk, fiske'},\n",
       " {'id': 'KU', 'type': 'l', 'text': 'Kultur och fritid'},\n",
       " {'id': 'LE', 'type': 'l', 'text': 'Levnadsförhållanden'},\n",
       " {'id': 'ME', 'type': 'l', 'text': 'Demokrati'},\n",
       " {'id': 'MI', 'type': 'l', 'text': 'Miljö'},\n",
       " {'id': 'NR', 'type': 'l', 'text': 'Nationalräkenskaper'},\n",
       " {'id': 'NV', 'type': 'l', 'text': 'Näringsverksamhet'},\n",
       " {'id': 'OE', 'type': 'l', 'text': 'Offentlig ekonomi'},\n",
       " {'id': 'PR', 'type': 'l', 'text': 'Priser och konsumtion'},\n",
       " {'id': 'SO', 'type': 'l', 'text': 'Socialtjänst'},\n",
       " {'id': 'TK', 'type': 'l', 'text': 'Transporter och kommunikationer'},\n",
       " {'id': 'UF', 'type': 'l', 'text': 'Utbildning och forskning'}]"
      ]
     },
     "execution_count": 4,
     "metadata": {},
     "output_type": "execute_result"
    }
   ],
   "source": [
    "scb.info()"
   ]
  },
  {
   "cell_type": "code",
   "execution_count": 5,
   "metadata": {},
   "outputs": [
    {
     "data": {
      "text/plain": [
       "[{'id': 'BE0701', 'type': 'l', 'text': 'Demografisk analys (Demografi)'},\n",
       " {'id': 'BE0101', 'type': 'l', 'text': 'Befolkningsstatistik'},\n",
       " {'id': 'BE0205',\n",
       "  'type': 'l',\n",
       "  'text': 'Tidigare folk- och bostadsräkningar 1960-1990 (FoB)'},\n",
       " {'id': 'BE0001', 'type': 'l', 'text': 'Namnstatistik'},\n",
       " {'id': 'BE0401', 'type': 'l', 'text': 'Befolkningsframskrivningar'}]"
      ]
     },
     "execution_count": 5,
     "metadata": {},
     "output_type": "execute_result"
    }
   ],
   "source": [
    "scb.go_down('BE')\n",
    "scb.info()"
   ]
  },
  {
   "cell_type": "code",
   "execution_count": 6,
   "metadata": {},
   "outputs": [
    {
     "data": {
      "text/plain": [
       "[{'id': 'BE0101A', 'type': 'l', 'text': 'Folkmängd'},\n",
       " {'id': 'BE0101G', 'type': 'l', 'text': 'Befolkningsförändringar'},\n",
       " {'id': 'BE0101H', 'type': 'l', 'text': 'Födda'},\n",
       " {'id': 'BE0101I', 'type': 'l', 'text': 'Döda'},\n",
       " {'id': 'BE0101J', 'type': 'l', 'text': 'Flyttningar - inrikes och utrikes'},\n",
       " {'id': 'BE0101D', 'type': 'l', 'text': 'Medelfolkmängd'},\n",
       " {'id': 'BE0101E', 'type': 'l', 'text': 'Utrikes födda'},\n",
       " {'id': 'BE0101F', 'type': 'l', 'text': 'Utländska medborgare'},\n",
       " {'id': 'BE0101Q', 'type': 'l', 'text': 'Utländsk/svensk bakgrund'},\n",
       " {'id': 'BE0101N', 'type': 'l', 'text': 'Medborgarskapsbyten'},\n",
       " {'id': 'BE0101B', 'type': 'l', 'text': 'Medelålder'},\n",
       " {'id': 'BE0101L', 'type': 'l', 'text': 'Gifta, Skilda och Änka/änkling'},\n",
       " {'id': 'BE0101O', 'type': 'l', 'text': 'Partnerskap'},\n",
       " {'id': 'BE0101S', 'type': 'l', 'text': 'Hushåll'},\n",
       " {'id': 'BE0101K', 'type': 'l', 'text': 'Adopterade'},\n",
       " {'id': 'BE0101M',\n",
       "  'type': 'l',\n",
       "  'text': 'Cirkulär migration – Äldre tabeller som inte längre uppdateras'},\n",
       " {'id': 'BE0101P', 'type': 'l', 'text': 'Asylsökande'},\n",
       " {'id': 'BE0101C', 'type': 'l', 'text': 'Befolkningstäthet'},\n",
       " {'id': 'BE0101X', 'type': 'l', 'text': 'Nyckeltal'},\n",
       " {'id': 'BE0101Y', 'type': 'l', 'text': 'DeSO'}]"
      ]
     },
     "execution_count": 6,
     "metadata": {},
     "output_type": "execute_result"
    }
   ],
   "source": [
    "scb.go_down('BE0101')\n",
    "scb.info()"
   ]
  },
  {
   "cell_type": "code",
   "execution_count": 7,
   "metadata": {},
   "outputs": [
    {
     "data": {
      "text/plain": [
       "[{'id': 'BefolkningNy',\n",
       "  'type': 't',\n",
       "  'text': 'Folkmängden efter region, civilstånd, ålder och kön. År 1968 - 2022',\n",
       "  'updated': '2023-02-22T08:00:00'},\n",
       " {'id': 'FolkmangdNov',\n",
       "  'type': 't',\n",
       "  'text': 'Folkmängden den 1 november efter region, ålder och kön. År 2002 - 2022',\n",
       "  'updated': '2022-12-09T08:00:00'},\n",
       " {'id': 'FolkmangdDistrikt',\n",
       "  'type': 't',\n",
       "  'text': 'Folkmängden per distrikt, landskap, landsdel eller riket efter kön. År 2015 - 2022',\n",
       "  'updated': '2023-03-22T08:00:00'},\n",
       " {'id': 'BefolkManad',\n",
       "  'type': 't',\n",
       "  'text': 'Folkmängden per månad efter region, ålder och kön. År 2000M01 - 2023M08',\n",
       "  'updated': '2023-10-09T08:00:00'},\n",
       " {'id': 'BefolkningR1860N',\n",
       "  'type': 't',\n",
       "  'text': 'Folkmängden efter ålder och kön . År 1860 - 2022',\n",
       "  'updated': '2023-02-22T08:00:00'}]"
      ]
     },
     "execution_count": 7,
     "metadata": {},
     "output_type": "execute_result"
    }
   ],
   "source": [
    "scb.go_down('BE0101A')\n",
    "scb.info()"
   ]
  },
  {
   "cell_type": "code",
   "execution_count": 8,
   "metadata": {},
   "outputs": [],
   "source": [
    "befolkningNy = SCB('en', 'BE', 'BE0101', 'BE0101A', 'BefolkningNy')\n",
    "befolkningNy.info()\n",
    "lan = befolkningNy.get_variables()"
   ]
  },
  {
   "cell_type": "code",
   "execution_count": 9,
   "metadata": {},
   "outputs": [
    {
     "name": "stdout",
     "output_type": "stream",
     "text": [
      "['Sweden', 'Stockholm county', 'Upplands Väsby', 'Vallentuna', 'Österåker', 'Värmdö', 'Järfälla', 'Ekerö', 'Huddinge', 'Botkyrka', 'Salem', 'Haninge', 'Tyresö', 'Upplands-Bro', 'Nykvarn', 'Täby', 'Danderyd', 'Sollentuna', 'Stockholm', 'Södertälje', 'Nacka', 'Sundbyberg', 'Solna', 'Lidingö', 'Vaxholm', 'Norrtälje', 'Sigtuna', 'Nynäshamn', 'Uppsala county', 'Håbo', 'Älvkarleby', 'Knivsta', 'Heby', 'Tierp', 'Uppsala', 'Enköping', 'Östhammar', 'Södermanland county', 'Vingåker', 'Gnesta', 'Nyköping', 'Oxelösund', 'Flen', 'Katrineholm', 'Eskilstuna', 'Strängnäs', 'Trosa', 'Östergötland county', 'Ödeshög', 'Ydre', 'Kinda', 'Boxholm', 'Åtvidaberg', 'Finspång', 'Valdemarsvik', 'Linköping', 'Norrköping', 'Söderköping', 'Motala', 'Vadstena', 'Mjölby', 'Jönköping county', 'Aneby', 'Gnosjö', 'Mullsjö', 'Habo', 'Gislaved', 'Vaggeryd', 'Jönköping', 'Nässjö', 'Värnamo', 'Sävsjö', 'Vetlanda', 'Eksjö', 'Tranås', 'Kronoberg county', 'Uppvidinge', 'Lessebo', 'Tingsryd', 'Alvesta', 'Älmhult', 'Markaryd', 'Växjö', 'Ljungby', 'Kalmar county', 'Högsby', 'Torsås', 'Mörbylånga', 'Hultsfred', 'Mönsterås', 'Emmaboda', 'Kalmar', 'Nybro', 'Oskarshamn', 'Västervik', 'Vimmerby', 'Borgholm', 'Gotland county', 'Gotland', 'Blekinge county', 'Olofström', 'Karlskrona', 'Ronneby', 'Karlshamn', 'Sölvesborg', 'Skåne county', 'Svalöv', 'Staffanstorp', 'Burlöv', 'Vellinge', 'Östra Göinge', 'Örkelljunga', 'Bjuv', 'Kävlinge', 'Lomma', 'Svedala', 'Skurup', 'Sjöbo', 'Hörby', 'Höör', 'Tomelilla', 'Bromölla', 'Osby', 'Perstorp', 'Klippan', 'Åstorp', 'Båstad', 'Malmö', 'Lund', 'Landskrona', 'Helsingborg', 'Höganäs', 'Eslöv', 'Ystad', 'Trelleborg', 'Kristianstad', 'Simrishamn', 'Ängelholm', 'Hässleholm', 'Halland county', 'Hylte', 'Halmstad', 'Laholm', 'Falkenberg', 'Varberg', 'Kungsbacka', 'Västra Götaland county', 'Härryda', 'Partille', 'Öckerö', 'Stenungsund', 'Tjörn', 'Orust', 'Sotenäs', 'Munkedal', 'Tanum', 'Dals-Ed', 'Färgelanda', 'Ale', 'Lerum', 'Vårgårda', 'Bollebygd', 'Grästorp', 'Essunga', 'Karlsborg', 'Gullspång', 'Tranemo', 'Bengtsfors', 'Mellerud', 'Lilla Edet', 'Mark', 'Svenljunga', 'Herrljunga', 'Vara', 'Götene', 'Tibro', 'Töreboda', 'Göteborg', 'Mölndal', 'Kungälv', 'Lysekil', 'Uddevalla', 'Strömstad', 'Vänersborg', 'Trollhättan', 'Alingsås', 'Borås', 'Ulricehamn', 'Åmål', 'Mariestad', 'Lidköping', 'Skara', 'Skövde', 'Hjo', 'Tidaholm', 'Falköping', 'Värmland county', 'Kil', 'Eda', 'Torsby', 'Storfors', 'Hammarö', 'Munkfors', 'Forshaga', 'Grums', 'Årjäng', 'Sunne', 'Karlstad', 'Kristinehamn', 'Filipstad', 'Hagfors', 'Arvika', 'Säffle', 'Örebro county', 'Lekeberg', 'Laxå', 'Hallsberg', 'Degerfors', 'Hällefors', 'Ljusnarsberg', 'Örebro', 'Kumla', 'Askersund', 'Karlskoga', 'Nora', 'Lindesberg', 'Västmanland county', 'Skinnskatteberg', 'Surahammar', 'Kungsör', 'Hallstahammar', 'Norberg', 'Västerås', 'Sala', 'Fagersta', 'Köping', 'Arboga', 'Dalarna county', 'Vansbro', 'Malung-Sälen', 'Gagnef', 'Leksand', 'Rättvik', 'Orsa', 'Älvdalen', 'Smedjebacken', 'Mora', 'Falun', 'Borlänge', 'Säter', 'Hedemora', 'Avesta', 'Ludvika', 'Gävleborg county', 'Ockelbo', 'Hofors', 'Ovanåker', 'Nordanstig', 'Ljusdal', 'Gävle', 'Sandviken', 'Söderhamn', 'Bollnäs', 'Hudiksvall', 'Västernorrland county', 'Ånge', 'Timrå', 'Härnösand', 'Sundsvall', 'Kramfors', 'Sollefteå', 'Örnsköldsvik', 'Jämtland county', 'Ragunda', 'Bräcke', 'Krokom', 'Strömsund', 'Åre', 'Berg', 'Härjedalen', 'Östersund', 'Västerbotten county', 'Nordmaling', 'Bjurholm', 'Vindeln', 'Robertsfors', 'Norsjö', 'Malå', 'Storuman', 'Sorsele', 'Dorotea', 'Vännäs', 'Vilhelmina', 'Åsele', 'Umeå', 'Lycksele', 'Skellefteå', 'Norrbotten county', 'Arvidsjaur', 'Arjeplog', 'Jokkmokk', 'Överkalix', 'Kalix', 'Övertorneå', 'Pajala', 'Gällivare', 'Älvsbyn', 'Luleå', 'Piteå', 'Boden', 'Haparanda', 'Kiruna']\n",
      "['Stockholm county', 'Upplands Väsby', 'Vallentuna', 'Österåker', 'Värmdö', 'Järfälla', 'Ekerö', 'Huddinge', 'Botkyrka', 'Salem', 'Haninge', 'Tyresö', 'Upplands-Bro', 'Nykvarn', 'Täby', 'Danderyd', 'Sollentuna', 'Stockholm', 'Södertälje', 'Nacka', 'Sundbyberg', 'Solna', 'Lidingö', 'Vaxholm', 'Norrtälje', 'Sigtuna', 'Nynäshamn', 'Uppsala county', 'Håbo', 'Älvkarleby', 'Knivsta', 'Heby', 'Tierp', 'Uppsala', 'Enköping', 'Östhammar', 'Södermanland county', 'Vingåker', 'Gnesta', 'Nyköping', 'Oxelösund', 'Flen', 'Katrineholm', 'Eskilstuna', 'Strängnäs', 'Trosa', 'Östergötland county', 'Ödeshög', 'Ydre', 'Kinda', 'Boxholm', 'Åtvidaberg', 'Finspång', 'Valdemarsvik', 'Linköping', 'Norrköping', 'Söderköping', 'Motala', 'Vadstena', 'Mjölby', 'Jönköping county', 'Aneby', 'Gnosjö', 'Mullsjö', 'Habo', 'Gislaved', 'Vaggeryd', 'Jönköping', 'Nässjö', 'Värnamo', 'Sävsjö', 'Vetlanda', 'Eksjö', 'Tranås', 'Kronoberg county', 'Uppvidinge', 'Lessebo', 'Tingsryd', 'Alvesta', 'Älmhult', 'Markaryd', 'Växjö', 'Ljungby', 'Kalmar county', 'Högsby', 'Torsås', 'Mörbylånga', 'Hultsfred', 'Mönsterås', 'Emmaboda', 'Kalmar', 'Nybro', 'Oskarshamn', 'Västervik', 'Vimmerby', 'Borgholm', 'Gotland county', 'Gotland', 'Blekinge county', 'Olofström', 'Karlskrona', 'Ronneby', 'Karlshamn', 'Sölvesborg', 'Skåne county', 'Svalöv', 'Staffanstorp', 'Burlöv', 'Vellinge', 'Östra Göinge', 'Örkelljunga', 'Bjuv', 'Kävlinge', 'Lomma', 'Svedala', 'Skurup', 'Sjöbo', 'Hörby', 'Höör', 'Tomelilla', 'Bromölla', 'Osby', 'Perstorp', 'Klippan', 'Åstorp', 'Båstad', 'Malmö', 'Lund', 'Landskrona', 'Helsingborg', 'Höganäs', 'Eslöv', 'Ystad', 'Trelleborg', 'Kristianstad', 'Simrishamn', 'Ängelholm', 'Hässleholm', 'Halland county', 'Hylte', 'Halmstad', 'Laholm', 'Falkenberg', 'Varberg', 'Kungsbacka', 'Västra Götaland county', 'Härryda', 'Partille', 'Öckerö', 'Stenungsund', 'Tjörn', 'Orust', 'Sotenäs', 'Munkedal', 'Tanum', 'Dals-Ed', 'Färgelanda', 'Ale', 'Lerum', 'Vårgårda', 'Bollebygd', 'Grästorp', 'Essunga', 'Karlsborg', 'Gullspång', 'Tranemo', 'Bengtsfors', 'Mellerud', 'Lilla Edet', 'Mark', 'Svenljunga', 'Herrljunga', 'Vara', 'Götene', 'Tibro', 'Töreboda', 'Göteborg', 'Mölndal', 'Kungälv', 'Lysekil', 'Uddevalla', 'Strömstad', 'Vänersborg', 'Trollhättan', 'Alingsås', 'Borås', 'Ulricehamn', 'Åmål', 'Mariestad', 'Lidköping', 'Skara', 'Skövde', 'Hjo', 'Tidaholm', 'Falköping', 'Värmland county', 'Kil', 'Eda', 'Torsby', 'Storfors', 'Hammarö', 'Munkfors', 'Forshaga', 'Grums', 'Årjäng', 'Sunne', 'Karlstad', 'Kristinehamn', 'Filipstad', 'Hagfors', 'Arvika', 'Säffle', 'Örebro county', 'Lekeberg', 'Laxå', 'Hallsberg', 'Degerfors', 'Hällefors', 'Ljusnarsberg', 'Örebro', 'Kumla', 'Askersund', 'Karlskoga', 'Nora', 'Lindesberg', 'Västmanland county', 'Skinnskatteberg', 'Surahammar', 'Kungsör', 'Hallstahammar', 'Norberg', 'Västerås', 'Sala', 'Fagersta', 'Köping', 'Arboga', 'Dalarna county', 'Vansbro', 'Malung-Sälen', 'Gagnef', 'Leksand', 'Rättvik', 'Orsa', 'Älvdalen', 'Smedjebacken', 'Mora', 'Falun', 'Borlänge', 'Säter', 'Hedemora', 'Avesta', 'Ludvika', 'Gävleborg county', 'Ockelbo', 'Hofors', 'Ovanåker', 'Nordanstig', 'Ljusdal', 'Gävle', 'Sandviken', 'Söderhamn', 'Bollnäs', 'Hudiksvall', 'Västernorrland county', 'Ånge', 'Timrå', 'Härnösand', 'Sundsvall', 'Kramfors', 'Sollefteå', 'Örnsköldsvik', 'Jämtland county', 'Ragunda', 'Bräcke', 'Krokom', 'Strömsund', 'Åre', 'Berg', 'Härjedalen', 'Östersund', 'Västerbotten county', 'Nordmaling', 'Bjurholm', 'Vindeln', 'Robertsfors', 'Norsjö', 'Malå', 'Storuman', 'Sorsele', 'Dorotea', 'Vännäs', 'Vilhelmina', 'Åsele', 'Umeå', 'Lycksele', 'Skellefteå', 'Norrbotten county', 'Arvidsjaur', 'Arjeplog', 'Jokkmokk', 'Överkalix', 'Kalix', 'Övertorneå', 'Pajala', 'Gällivare', 'Älvsbyn', 'Luleå', 'Piteå', 'Boden', 'Haparanda', 'Kiruna']\n",
      "['Stockholm county', 'Uppsala county', 'Södermanland county', 'Östergötland county', 'Jönköping county', 'Kronoberg county', 'Kalmar county', 'Gotland county', 'Blekinge county', 'Skåne county', 'Halland county', 'Västra Götaland county', 'Värmland county', 'Örebro county', 'Västmanland county', 'Dalarna county', 'Gävleborg county', 'Västernorrland county', 'Jämtland county', 'Västerbotten county', 'Norrbotten county']\n",
      "['Upplands Väsby', 'Vallentuna', 'Österåker', 'Värmdö', 'Järfälla', 'Ekerö', 'Huddinge', 'Botkyrka', 'Salem', 'Haninge', 'Tyresö', 'Upplands-Bro', 'Nykvarn', 'Täby', 'Danderyd', 'Sollentuna', 'Stockholm', 'Södertälje', 'Nacka', 'Sundbyberg', 'Solna', 'Lidingö', 'Vaxholm', 'Norrtälje', 'Sigtuna', 'Nynäshamn', 'Håbo', 'Älvkarleby', 'Knivsta', 'Heby', 'Tierp', 'Uppsala', 'Enköping', 'Östhammar', 'Vingåker', 'Gnesta', 'Nyköping', 'Oxelösund', 'Flen', 'Katrineholm', 'Eskilstuna', 'Strängnäs', 'Trosa', 'Ödeshög', 'Ydre', 'Kinda', 'Boxholm', 'Åtvidaberg', 'Finspång', 'Valdemarsvik', 'Linköping', 'Norrköping', 'Söderköping', 'Motala', 'Vadstena', 'Mjölby', 'Aneby', 'Gnosjö', 'Mullsjö', 'Habo', 'Gislaved', 'Vaggeryd', 'Jönköping', 'Nässjö', 'Värnamo', 'Sävsjö', 'Vetlanda', 'Eksjö', 'Tranås', 'Uppvidinge', 'Lessebo', 'Tingsryd', 'Alvesta', 'Älmhult', 'Markaryd', 'Växjö', 'Ljungby', 'Högsby', 'Torsås', 'Mörbylånga', 'Hultsfred', 'Mönsterås', 'Emmaboda', 'Kalmar', 'Nybro', 'Oskarshamn', 'Västervik', 'Vimmerby', 'Borgholm', 'Gotland', 'Olofström', 'Karlskrona', 'Ronneby', 'Karlshamn', 'Sölvesborg', 'Svalöv', 'Staffanstorp', 'Burlöv', 'Vellinge', 'Östra Göinge', 'Örkelljunga', 'Bjuv', 'Kävlinge', 'Lomma', 'Svedala', 'Skurup', 'Sjöbo', 'Hörby', 'Höör', 'Tomelilla', 'Bromölla', 'Osby', 'Perstorp', 'Klippan', 'Åstorp', 'Båstad', 'Malmö', 'Lund', 'Landskrona', 'Helsingborg', 'Höganäs', 'Eslöv', 'Ystad', 'Trelleborg', 'Kristianstad', 'Simrishamn', 'Ängelholm', 'Hässleholm', 'Hylte', 'Halmstad', 'Laholm', 'Falkenberg', 'Varberg', 'Kungsbacka', 'Härryda', 'Partille', 'Öckerö', 'Stenungsund', 'Tjörn', 'Orust', 'Sotenäs', 'Munkedal', 'Tanum', 'Dals-Ed', 'Färgelanda', 'Ale', 'Lerum', 'Vårgårda', 'Bollebygd', 'Grästorp', 'Essunga', 'Karlsborg', 'Gullspång', 'Tranemo', 'Bengtsfors', 'Mellerud', 'Lilla Edet', 'Mark', 'Svenljunga', 'Herrljunga', 'Vara', 'Götene', 'Tibro', 'Töreboda', 'Göteborg', 'Mölndal', 'Kungälv', 'Lysekil', 'Uddevalla', 'Strömstad', 'Vänersborg', 'Trollhättan', 'Alingsås', 'Borås', 'Ulricehamn', 'Åmål', 'Mariestad', 'Lidköping', 'Skara', 'Skövde', 'Hjo', 'Tidaholm', 'Falköping', 'Kil', 'Eda', 'Torsby', 'Storfors', 'Hammarö', 'Munkfors', 'Forshaga', 'Grums', 'Årjäng', 'Sunne', 'Karlstad', 'Kristinehamn', 'Filipstad', 'Hagfors', 'Arvika', 'Säffle', 'Lekeberg', 'Laxå', 'Hallsberg', 'Degerfors', 'Hällefors', 'Ljusnarsberg', 'Örebro', 'Kumla', 'Askersund', 'Karlskoga', 'Nora', 'Lindesberg', 'Skinnskatteberg', 'Surahammar', 'Kungsör', 'Hallstahammar', 'Norberg', 'Västerås', 'Sala', 'Fagersta', 'Köping', 'Arboga', 'Vansbro', 'Malung-Sälen', 'Gagnef', 'Leksand', 'Rättvik', 'Orsa', 'Älvdalen', 'Smedjebacken', 'Mora', 'Falun', 'Borlänge', 'Säter', 'Hedemora', 'Avesta', 'Ludvika', 'Ockelbo', 'Hofors', 'Ovanåker', 'Nordanstig', 'Ljusdal', 'Gävle', 'Sandviken', 'Söderhamn', 'Bollnäs', 'Hudiksvall', 'Ånge', 'Timrå', 'Härnösand', 'Sundsvall', 'Kramfors', 'Sollefteå', 'Örnsköldsvik', 'Ragunda', 'Bräcke', 'Krokom', 'Strömsund', 'Åre', 'Berg', 'Härjedalen', 'Östersund', 'Nordmaling', 'Bjurholm', 'Vindeln', 'Robertsfors', 'Norsjö', 'Malå', 'Storuman', 'Sorsele', 'Dorotea', 'Vännäs', 'Vilhelmina', 'Åsele', 'Umeå', 'Lycksele', 'Skellefteå', 'Arvidsjaur', 'Arjeplog', 'Jokkmokk', 'Överkalix', 'Kalix', 'Övertorneå', 'Pajala', 'Gällivare', 'Älvsbyn', 'Luleå', 'Piteå', 'Boden', 'Haparanda', 'Kiruna']\n"
     ]
    }
   ],
   "source": [
    "print(lan['region'])\n",
    "\n",
    "orter = lan['region']\n",
    "orter = orter[1:]\n",
    "print(orter)\n",
    "\n",
    "swedish_lan = [s for s in orter if \"county\" in s.lower()]\n",
    "swedish_kommun = [s for s in orter if \"county\" not in s.lower()]\n",
    "print(swedish_lan)\n",
    "print(swedish_kommun)\n"
   ]
  },
  {
   "cell_type": "code",
   "execution_count": 10,
   "metadata": {},
   "outputs": [
    {
     "name": "stdout",
     "output_type": "stream",
     "text": [
      "{'Stockholm county': ['Upplands Väsby', 'Vallentuna', 'Österåker', 'Värmdö', 'Järfälla', 'Ekerö', 'Huddinge', 'Botkyrka', 'Salem', 'Haninge', 'Tyresö', 'Upplands-Bro', 'Nykvarn', 'Täby', 'Danderyd', 'Sollentuna', 'Stockholm', 'Södertälje', 'Nacka', 'Sundbyberg', 'Solna', 'Lidingö', 'Vaxholm', 'Norrtälje', 'Sigtuna', 'Nynäshamn'], 'Uppsala county': ['Håbo', 'Älvkarleby', 'Knivsta', 'Heby', 'Tierp', 'Uppsala', 'Enköping', 'Östhammar'], 'Södermanland county': ['Vingåker', 'Gnesta', 'Nyköping', 'Oxelösund', 'Flen', 'Katrineholm', 'Eskilstuna', 'Strängnäs', 'Trosa'], 'Östergötland county': ['Ödeshög', 'Ydre', 'Kinda', 'Boxholm', 'Åtvidaberg', 'Finspång', 'Valdemarsvik', 'Linköping', 'Norrköping', 'Söderköping', 'Motala', 'Vadstena', 'Mjölby'], 'Jönköping county': ['Aneby', 'Gnosjö', 'Mullsjö', 'Habo', 'Gislaved', 'Vaggeryd', 'Jönköping', 'Nässjö', 'Värnamo', 'Sävsjö', 'Vetlanda', 'Eksjö', 'Tranås'], 'Kronoberg county': ['Uppvidinge', 'Lessebo', 'Tingsryd', 'Alvesta', 'Älmhult', 'Markaryd', 'Växjö', 'Ljungby'], 'Kalmar county': ['Högsby', 'Torsås', 'Mörbylånga', 'Hultsfred', 'Mönsterås', 'Emmaboda', 'Kalmar', 'Nybro', 'Oskarshamn', 'Västervik', 'Vimmerby', 'Borgholm'], 'Gotland county': ['Gotland'], 'Blekinge county': ['Olofström', 'Karlskrona', 'Ronneby', 'Karlshamn', 'Sölvesborg'], 'Skåne county': ['Svalöv', 'Staffanstorp', 'Burlöv', 'Vellinge', 'Östra Göinge', 'Örkelljunga', 'Bjuv', 'Kävlinge', 'Lomma', 'Svedala', 'Skurup', 'Sjöbo', 'Hörby', 'Höör', 'Tomelilla', 'Bromölla', 'Osby', 'Perstorp', 'Klippan', 'Åstorp', 'Båstad', 'Malmö', 'Lund', 'Landskrona', 'Helsingborg', 'Höganäs', 'Eslöv', 'Ystad', 'Trelleborg', 'Kristianstad', 'Simrishamn', 'Ängelholm', 'Hässleholm'], 'Halland county': ['Hylte', 'Halmstad', 'Laholm', 'Falkenberg', 'Varberg', 'Kungsbacka'], 'Västra Götaland county': ['Härryda', 'Partille', 'Öckerö', 'Stenungsund', 'Tjörn', 'Orust', 'Sotenäs', 'Munkedal', 'Tanum', 'Dals-Ed', 'Färgelanda', 'Ale', 'Lerum', 'Vårgårda', 'Bollebygd', 'Grästorp', 'Essunga', 'Karlsborg', 'Gullspång', 'Tranemo', 'Bengtsfors', 'Mellerud', 'Lilla Edet', 'Mark', 'Svenljunga', 'Herrljunga', 'Vara', 'Götene', 'Tibro', 'Töreboda', 'Göteborg', 'Mölndal', 'Kungälv', 'Lysekil', 'Uddevalla', 'Strömstad', 'Vänersborg', 'Trollhättan', 'Alingsås', 'Borås', 'Ulricehamn', 'Åmål', 'Mariestad', 'Lidköping', 'Skara', 'Skövde', 'Hjo', 'Tidaholm', 'Falköping'], 'Värmland county': ['Kil', 'Eda', 'Torsby', 'Storfors', 'Hammarö', 'Munkfors', 'Forshaga', 'Grums', 'Årjäng', 'Sunne', 'Karlstad', 'Kristinehamn', 'Filipstad', 'Hagfors', 'Arvika', 'Säffle'], 'Örebro county': ['Lekeberg', 'Laxå', 'Hallsberg', 'Degerfors', 'Hällefors', 'Ljusnarsberg', 'Örebro', 'Kumla', 'Askersund', 'Karlskoga', 'Nora', 'Lindesberg'], 'Västmanland county': ['Skinnskatteberg', 'Surahammar', 'Kungsör', 'Hallstahammar', 'Norberg', 'Västerås', 'Sala', 'Fagersta', 'Köping', 'Arboga'], 'Dalarna county': ['Vansbro', 'Malung-Sälen', 'Gagnef', 'Leksand', 'Rättvik', 'Orsa', 'Älvdalen', 'Smedjebacken', 'Mora', 'Falun', 'Borlänge', 'Säter', 'Hedemora', 'Avesta', 'Ludvika'], 'Gävleborg county': ['Ockelbo', 'Hofors', 'Ovanåker', 'Nordanstig', 'Ljusdal', 'Gävle', 'Sandviken', 'Söderhamn', 'Bollnäs', 'Hudiksvall'], 'Västernorrland county': ['Ånge', 'Timrå', 'Härnösand', 'Sundsvall', 'Kramfors', 'Sollefteå', 'Örnsköldsvik'], 'Jämtland county': ['Ragunda', 'Bräcke', 'Krokom', 'Strömsund', 'Åre', 'Berg', 'Härjedalen', 'Östersund'], 'Västerbotten county': ['Nordmaling', 'Bjurholm', 'Vindeln', 'Robertsfors', 'Norsjö', 'Malå', 'Storuman', 'Sorsele', 'Dorotea', 'Vännäs', 'Vilhelmina', 'Åsele', 'Umeå', 'Lycksele', 'Skellefteå'], 'Norrbotten county': ['Arvidsjaur', 'Arjeplog', 'Jokkmokk', 'Överkalix', 'Kalix', 'Övertorneå', 'Pajala', 'Gällivare', 'Älvsbyn', 'Luleå', 'Piteå', 'Boden', 'Haparanda', 'Kiruna']}\n"
     ]
    }
   ],
   "source": [
    "county_dict = {}\n",
    "current_key = None\n",
    "\n",
    "for item in orter:\n",
    "    if \"county\" in item.lower():\n",
    "        current_key = item\n",
    "        county_dict[current_key] = []\n",
    "    elif current_key is not None:\n",
    "        county_dict[current_key].append(item)\n",
    "\n",
    "print(county_dict)"
   ]
  },
  {
   "cell_type": "code",
   "execution_count": 11,
   "metadata": {},
   "outputs": [],
   "source": [
    "import json\n",
    "\n",
    "with open('county_dict.json', 'w') as json_file:\n",
    "    json.dump(county_dict, json_file)\n"
   ]
  },
  {
   "cell_type": "code",
   "execution_count": 16,
   "metadata": {},
   "outputs": [
    {
     "data": {
      "text/plain": [
       "[{'id': 'AA', 'type': 'l', 'text': 'Ämnesövergripande statistik'},\n",
       " {'id': 'AM', 'type': 'l', 'text': 'Arbetsmarknad'},\n",
       " {'id': 'BE', 'type': 'l', 'text': 'Befolkning'},\n",
       " {'id': 'BO', 'type': 'l', 'text': 'Boende, byggande och bebyggelse'},\n",
       " {'id': 'EN', 'type': 'l', 'text': 'Energi'},\n",
       " {'id': 'FM', 'type': 'l', 'text': 'Finansmarknad'},\n",
       " {'id': 'HA', 'type': 'l', 'text': 'Handel med varor och tjänster'},\n",
       " {'id': 'HE', 'type': 'l', 'text': 'Hushållens ekonomi'},\n",
       " {'id': 'HS', 'type': 'l', 'text': 'Hälso- och sjukvård'},\n",
       " {'id': 'JO', 'type': 'l', 'text': 'Jord- och skogsbruk, fiske'},\n",
       " {'id': 'KU', 'type': 'l', 'text': 'Kultur och fritid'},\n",
       " {'id': 'LE', 'type': 'l', 'text': 'Levnadsförhållanden'},\n",
       " {'id': 'ME', 'type': 'l', 'text': 'Demokrati'},\n",
       " {'id': 'MI', 'type': 'l', 'text': 'Miljö'},\n",
       " {'id': 'NR', 'type': 'l', 'text': 'Nationalräkenskaper'},\n",
       " {'id': 'NV', 'type': 'l', 'text': 'Näringsverksamhet'},\n",
       " {'id': 'OE', 'type': 'l', 'text': 'Offentlig ekonomi'},\n",
       " {'id': 'PR', 'type': 'l', 'text': 'Priser och konsumtion'},\n",
       " {'id': 'SO', 'type': 'l', 'text': 'Socialtjänst'},\n",
       " {'id': 'TK', 'type': 'l', 'text': 'Transporter och kommunikationer'},\n",
       " {'id': 'UF', 'type': 'l', 'text': 'Utbildning och forskning'}]"
      ]
     },
     "execution_count": 16,
     "metadata": {},
     "output_type": "execute_result"
    }
   ],
   "source": [
    "scb.go_up()\n",
    "scb.info()"
   ]
  },
  {
   "cell_type": "code",
   "execution_count": 32,
   "metadata": {},
   "outputs": [
    {
     "data": {
      "text/plain": [
       "[{'id': 'BO0406', 'type': 'l', 'text': 'Hyror i bostadslägenheter'},\n",
       " {'id': 'BO0301',\n",
       "  'type': 'l',\n",
       "  'text': 'Intäkts- och kostnadsundersökning för flerbostadshus (IKU)'},\n",
       " {'id': 'BO0101', 'type': 'l', 'text': 'Bygglov, nybyggnad och ombyggnad'},\n",
       " {'id': 'BO0303',\n",
       "  'type': 'l',\n",
       "  'text': 'Outhyrda bostadslägenheter i flerbostadshus'},\n",
       " {'id': 'BO0501', 'type': 'l', 'text': 'Fastighetspriser och lagfarter'},\n",
       " {'id': 'BO0104', 'type': 'l', 'text': 'Bostadsbestånd'},\n",
       " {'id': 'BO0404',\n",
       "  'type': 'l',\n",
       "  'text': 'Avgifter/hyror för nybyggda lägenheter'},\n",
       " {'id': 'BO0601', 'type': 'l', 'text': 'Fastighetstaxeringar'},\n",
       " {'id': 'BO0201', 'type': 'l', 'text': 'Priser för nyproducerade bostäder'}]"
      ]
     },
     "execution_count": 32,
     "metadata": {},
     "output_type": "execute_result"
    }
   ],
   "source": [
    "scb.go_down('BO')\n",
    "scb.info()"
   ]
  },
  {
   "cell_type": "code",
   "execution_count": 31,
   "metadata": {},
   "outputs": [
    {
     "data": {
      "text/plain": [
       "[{'id': 'AA', 'type': 'l', 'text': 'Ämnesövergripande statistik'},\n",
       " {'id': 'AM', 'type': 'l', 'text': 'Arbetsmarknad'},\n",
       " {'id': 'BE', 'type': 'l', 'text': 'Befolkning'},\n",
       " {'id': 'BO', 'type': 'l', 'text': 'Boende, byggande och bebyggelse'},\n",
       " {'id': 'EN', 'type': 'l', 'text': 'Energi'},\n",
       " {'id': 'FM', 'type': 'l', 'text': 'Finansmarknad'},\n",
       " {'id': 'HA', 'type': 'l', 'text': 'Handel med varor och tjänster'},\n",
       " {'id': 'HE', 'type': 'l', 'text': 'Hushållens ekonomi'},\n",
       " {'id': 'HS', 'type': 'l', 'text': 'Hälso- och sjukvård'},\n",
       " {'id': 'JO', 'type': 'l', 'text': 'Jord- och skogsbruk, fiske'},\n",
       " {'id': 'KU', 'type': 'l', 'text': 'Kultur och fritid'},\n",
       " {'id': 'LE', 'type': 'l', 'text': 'Levnadsförhållanden'},\n",
       " {'id': 'ME', 'type': 'l', 'text': 'Demokrati'},\n",
       " {'id': 'MI', 'type': 'l', 'text': 'Miljö'},\n",
       " {'id': 'NR', 'type': 'l', 'text': 'Nationalräkenskaper'},\n",
       " {'id': 'NV', 'type': 'l', 'text': 'Näringsverksamhet'},\n",
       " {'id': 'OE', 'type': 'l', 'text': 'Offentlig ekonomi'},\n",
       " {'id': 'PR', 'type': 'l', 'text': 'Priser och konsumtion'},\n",
       " {'id': 'SO', 'type': 'l', 'text': 'Socialtjänst'},\n",
       " {'id': 'TK', 'type': 'l', 'text': 'Transporter och kommunikationer'},\n",
       " {'id': 'UF', 'type': 'l', 'text': 'Utbildning och forskning'}]"
      ]
     },
     "execution_count": 31,
     "metadata": {},
     "output_type": "execute_result"
    }
   ],
   "source": [
    "scb.go_up()\n",
    "scb.info()"
   ]
  },
  {
   "cell_type": "code",
   "execution_count": 35,
   "metadata": {},
   "outputs": [
    {
     "data": {
      "text/html": [
       "<div>\n",
       "<style scoped>\n",
       "    .dataframe tbody tr th:only-of-type {\n",
       "        vertical-align: middle;\n",
       "    }\n",
       "\n",
       "    .dataframe tbody tr th {\n",
       "        vertical-align: top;\n",
       "    }\n",
       "\n",
       "    .dataframe thead th {\n",
       "        text-align: right;\n",
       "    }\n",
       "</style>\n",
       "<table border=\"1\" class=\"dataframe\">\n",
       "  <thead>\n",
       "    <tr style=\"text-align: right;\">\n",
       "      <th></th>\n",
       "      <th>Avdelningen för social statistik och analys</th>\n",
       "      <th>Unnamed: 1</th>\n",
       "      <th>2023-02-23 00:00:00</th>\n",
       "    </tr>\n",
       "  </thead>\n",
       "  <tbody>\n",
       "    <tr>\n",
       "      <th>7</th>\n",
       "      <td>Församlingskod</td>\n",
       "      <td>Församlingsnamn</td>\n",
       "      <td>Befolkning</td>\n",
       "    </tr>\n",
       "    <tr>\n",
       "      <th>8</th>\n",
       "      <td>011401</td>\n",
       "      <td>Ed</td>\n",
       "      <td>8992</td>\n",
       "    </tr>\n",
       "    <tr>\n",
       "      <th>9</th>\n",
       "      <td>011402</td>\n",
       "      <td>Hammarby</td>\n",
       "      <td>26918</td>\n",
       "    </tr>\n",
       "    <tr>\n",
       "      <th>10</th>\n",
       "      <td>011403</td>\n",
       "      <td>Fresta</td>\n",
       "      <td>13177</td>\n",
       "    </tr>\n",
       "    <tr>\n",
       "      <th>11</th>\n",
       "      <td>011501</td>\n",
       "      <td>Vallentuna</td>\n",
       "      <td>29758</td>\n",
       "    </tr>\n",
       "  </tbody>\n",
       "</table>\n",
       "</div>"
      ],
      "text/plain": [
       "   Avdelningen för social statistik och analys       Unnamed: 1  \\\n",
       "7                               Församlingskod  Församlingsnamn   \n",
       "8                                       011401               Ed   \n",
       "9                                       011402         Hammarby   \n",
       "10                                      011403           Fresta   \n",
       "11                                      011501       Vallentuna   \n",
       "\n",
       "   2023-02-23 00:00:00  \n",
       "7           Befolkning  \n",
       "8                 8992  \n",
       "9                26918  \n",
       "10               13177  \n",
       "11               29758  "
      ]
     },
     "execution_count": 35,
     "metadata": {},
     "output_type": "execute_result"
    }
   ],
   "source": [
    "beforsamling = pd.read_excel(\"befolkning-per-forsamling_from_2015_230223.xlsx\")\n",
    "beforsamling.dropna(inplace=True)\n",
    "beforsamling.head()"
   ]
  },
  {
   "cell_type": "code",
   "execution_count": 41,
   "metadata": {},
   "outputs": [],
   "source": [
    "import pandas as pd\n",
    "\n",
    "forsamling = pd.read_excel('fors2022.xls')"
   ]
  },
  {
   "cell_type": "code",
   "execution_count": 42,
   "metadata": {},
   "outputs": [
    {
     "data": {
      "text/html": [
       "<div>\n",
       "<style scoped>\n",
       "    .dataframe tbody tr th:only-of-type {\n",
       "        vertical-align: middle;\n",
       "    }\n",
       "\n",
       "    .dataframe tbody tr th {\n",
       "        vertical-align: top;\n",
       "    }\n",
       "\n",
       "    .dataframe thead th {\n",
       "        text-align: right;\n",
       "    }\n",
       "</style>\n",
       "<table border=\"1\" class=\"dataframe\">\n",
       "  <thead>\n",
       "    <tr style=\"text-align: right;\">\n",
       "      <th></th>\n",
       "      <th>Unnamed: 0</th>\n",
       "      <th>Unnamed: 1</th>\n",
       "      <th>Unnamed: 2</th>\n",
       "      <th>Unnamed: 3</th>\n",
       "      <th>Unnamed: 4</th>\n",
       "      <th>Unnamed: 5</th>\n",
       "      <th>Unnamed: 6</th>\n",
       "    </tr>\n",
       "  </thead>\n",
       "  <tbody>\n",
       "    <tr>\n",
       "      <th>0</th>\n",
       "      <td>NaN</td>\n",
       "      <td>NaN</td>\n",
       "      <td>NaN</td>\n",
       "      <td>NaN</td>\n",
       "      <td>NaN</td>\n",
       "      <td>NaN</td>\n",
       "      <td>Juni 2021</td>\n",
       "    </tr>\n",
       "    <tr>\n",
       "      <th>1</th>\n",
       "      <td>NaN</td>\n",
       "      <td>NaN</td>\n",
       "      <td>NaN</td>\n",
       "      <td>NaN</td>\n",
       "      <td>NaN</td>\n",
       "      <td>NaN</td>\n",
       "      <td>NaN</td>\n",
       "    </tr>\n",
       "    <tr>\n",
       "      <th>2</th>\n",
       "      <td>NaN</td>\n",
       "      <td>NaN</td>\n",
       "      <td>NaN</td>\n",
       "      <td>NaN</td>\n",
       "      <td>NaN</td>\n",
       "      <td>NaN</td>\n",
       "      <td>NaN</td>\n",
       "    </tr>\n",
       "    <tr>\n",
       "      <th>3</th>\n",
       "      <td>NaN</td>\n",
       "      <td>NaN</td>\n",
       "      <td>NaN</td>\n",
       "      <td>NaN</td>\n",
       "      <td>NaN</td>\n",
       "      <td>NaN</td>\n",
       "      <td>NaN</td>\n",
       "    </tr>\n",
       "    <tr>\n",
       "      <th>4</th>\n",
       "      <td>RM/UT</td>\n",
       "      <td>NaN</td>\n",
       "      <td>NaN</td>\n",
       "      <td>NaN</td>\n",
       "      <td>NaN</td>\n",
       "      <td>NaN</td>\n",
       "      <td>NaN</td>\n",
       "    </tr>\n",
       "  </tbody>\n",
       "</table>\n",
       "</div>"
      ],
      "text/plain": [
       "  Unnamed: 0 Unnamed: 1 Unnamed: 2 Unnamed: 3  Unnamed: 4  Unnamed: 5  \\\n",
       "0        NaN        NaN        NaN        NaN         NaN         NaN   \n",
       "1        NaN        NaN        NaN        NaN         NaN         NaN   \n",
       "2        NaN        NaN        NaN        NaN         NaN         NaN   \n",
       "3        NaN        NaN        NaN        NaN         NaN         NaN   \n",
       "4      RM/UT        NaN        NaN        NaN         NaN         NaN   \n",
       "\n",
       "  Unnamed: 6  \n",
       "0  Juni 2021  \n",
       "1        NaN  \n",
       "2        NaN  \n",
       "3        NaN  \n",
       "4        NaN  "
      ]
     },
     "execution_count": 42,
     "metadata": {},
     "output_type": "execute_result"
    }
   ],
   "source": [
    "forsamling.head()"
   ]
  },
  {
   "cell_type": "code",
   "execution_count": 22,
   "metadata": {},
   "outputs": [],
   "source": [
    "forsamling.to_csv(\"data.csv\", index=False)"
   ]
  },
  {
   "cell_type": "code",
   "execution_count": 25,
   "metadata": {},
   "outputs": [],
   "source": [
    "df = pd.read_csv(\"data.csv\")\n",
    "df.head()\n",
    "df.drop(columns=['x', 'y', 'Unnamed: 6'], inplace=True)"
   ]
  },
  {
   "cell_type": "code",
   "execution_count": 26,
   "metadata": {},
   "outputs": [
    {
     "data": {
      "text/html": [
       "<div>\n",
       "<style scoped>\n",
       "    .dataframe tbody tr th:only-of-type {\n",
       "        vertical-align: middle;\n",
       "    }\n",
       "\n",
       "    .dataframe tbody tr th {\n",
       "        vertical-align: top;\n",
       "    }\n",
       "\n",
       "    .dataframe thead th {\n",
       "        text-align: right;\n",
       "    }\n",
       "</style>\n",
       "<table border=\"1\" class=\"dataframe\">\n",
       "  <thead>\n",
       "    <tr style=\"text-align: right;\">\n",
       "      <th></th>\n",
       "      <th>Län</th>\n",
       "      <th>Kommun</th>\n",
       "      <th>Församling</th>\n",
       "      <th>Församlingsnamn</th>\n",
       "    </tr>\n",
       "  </thead>\n",
       "  <tbody>\n",
       "    <tr>\n",
       "      <th>0</th>\n",
       "      <td>1</td>\n",
       "      <td>114</td>\n",
       "      <td>11401</td>\n",
       "      <td>Ed</td>\n",
       "    </tr>\n",
       "    <tr>\n",
       "      <th>1</th>\n",
       "      <td>1</td>\n",
       "      <td>114</td>\n",
       "      <td>11402</td>\n",
       "      <td>Hammarby</td>\n",
       "    </tr>\n",
       "    <tr>\n",
       "      <th>2</th>\n",
       "      <td>1</td>\n",
       "      <td>114</td>\n",
       "      <td>11403</td>\n",
       "      <td>Fresta</td>\n",
       "    </tr>\n",
       "    <tr>\n",
       "      <th>3</th>\n",
       "      <td>1</td>\n",
       "      <td>115</td>\n",
       "      <td>11501</td>\n",
       "      <td>Vallentuna</td>\n",
       "    </tr>\n",
       "    <tr>\n",
       "      <th>4</th>\n",
       "      <td>1</td>\n",
       "      <td>115</td>\n",
       "      <td>11507</td>\n",
       "      <td>Össeby</td>\n",
       "    </tr>\n",
       "  </tbody>\n",
       "</table>\n",
       "</div>"
      ],
      "text/plain": [
       "   Län  Kommun  Församling Församlingsnamn\n",
       "0    1     114       11401              Ed\n",
       "1    1     114       11402        Hammarby\n",
       "2    1     114       11403          Fresta\n",
       "3    1     115       11501      Vallentuna\n",
       "4    1     115       11507          Össeby"
      ]
     },
     "execution_count": 26,
     "metadata": {},
     "output_type": "execute_result"
    }
   ],
   "source": [
    "df.head()"
   ]
  },
  {
   "cell_type": "code",
   "execution_count": 43,
   "metadata": {},
   "outputs": [
    {
     "name": "stdout",
     "output_type": "stream",
     "text": [
      "{114: ['011401', '011402', '011403'], 115: ['011501', '011507'], 117: ['011702', '011703'], 120: ['012001', '012003', '012006'], 123: ['012304'], 125: ['012501', '012503', '012504', '012509'], 126: ['012601', '012602', '012603', '012604'], 127: ['012701', '012702'], 128: ['012801'], 136: ['013601', '013605', '013606'], 138: ['013801'], 139: ['013901', '013903'], 140: ['014001'], 160: ['016001'], 162: ['016201'], 163: ['016301'], 180: ['018001', '018004', '018005', '018006', '018007', '018009', '018010', '018011', '018013', '018014', '018015', '018017', '018019', '018021', '018023', '018025', '018027', '018029', '018031', '018034', '018036', '018038', '018039', '018040', '018041', '018090', '018092', '018093'], 181: ['018101', '018102', '018104', '018106', '018107', '018108', '018110'], 182: ['018201', '018202', '018203'], 183: ['018301'], 184: ['018401'], 186: ['018601'], 187: ['018701'], 188: ['018801', '018803', '018805', '018808', '018809', '018810', '018812', '018814', '018815', '018817', '018818', '018820', '018822', '018823', '018824', '018825', '018826'], 191: ['019101', '019106', '019108', '019109', '019112'], 192: ['019201', '019202', '019204'], 305: ['030501', '030503', '030504', '030505'], 319: ['031902'], 330: ['033001', '033002', '033003', '033004', '033005', '033006'], 331: ['033101', '033102', '033103', '033104', '033105', '033106', '033107'], 360: ['036001', '036003', '036005', '036007', '036008'], 380: ['038001', '038002', '038003', '038004', '038005', '038007', '038008', '038009', '038010', '038011', '038012', '038014', '038021', '038022', '038023', '038024', '038025', '038026', '038027', '038028', '038030', '038031', '038038', '038039', '038040', '038041'], 381: ['038101', '038105', '038107', '038111', '038114', '038117', '038130', '038131'], 382: ['038204', '038207', '038209', '038210', '038211', '038213'], 428: ['042801', '042802'], 461: ['046101', '046104'], 480: ['048002', '048005', '048007', '048010', '048019', '048020'], 481: ['048101'], 482: ['048201', '048205', '048207', '048208'], 483: ['048301', '048302'], 484: ['048402', '048403', '048410', '048413', '048417', '048418', '048420', '048421', '048422', '048423'], 486: ['048601', '048604', '048606', '048607', '048614'], 488: ['048802'], 509: ['050902'], 512: ['051201', '051203', '051204'], 513: ['051301', '051302', '051303', '051304', '051305', '051309'], 560: ['056002'], 561: ['056101'], 562: ['056201'], 563: ['056301', '056302'], 580: ['058001', '058002', '058003', '058004', '058005', '058008', '058009', '058010', '058011', '058012', '058018', '058019', '058024', '058033', '058034', '058035', '058036', '058037', '058038', '058039'], 581: ['058102', '058104', '058105', '058106', '058119', '058125', '058127'], 582: ['058201', '058204'], 583: ['058301', '058303', '058304', '058306', '058307', '058309', '058322', '058324'], 584: ['058401', '058408'], 586: ['058601', '058603', '058612', '058616', '058618'], 604: ['060402', '060403', '060405', '060406', '060408'], 617: ['061701', '061702', '061703', '061704', '061705'], 642: ['064203'], 643: ['064301', '064302', '064303'], 662: ['066201', '066202', '066203', '066204', '066208', '066209', '066210', '066216'], 665: ['066501', '066503', '066506'], 680: ['068002', '068005', '068006', '068007', '068008', '068009', '068010', '068014', '068015', '068016', '068019', '068020', '068021'], 682: ['068201', '068203', '068204', '068205', '068207', '068209', '068210'], 683: ['068301', '068302', '068306', '068309', '068310', '068311', '068312', '068313'], 684: ['068401', '068403', '068406'], 685: ['068501', '068503', '068504', '068509', '068514', '068515', '068519', '068520', '068521', '068524'], 686: ['068601', '068602', '068605', '068606', '068608', '068609'], 687: ['068701', '068702', '068703'], 760: ['076001', '076003', '076004', '076005'], 761: ['076102'], 763: ['076301', '076302', '076303', '076304', '076305', '076306', '076307'], 764: ['076401', '076405', '076406', '076407', '076409', '076410', '076411'], 765: ['076501', '076503', '076504', '076505', '076506', '076507'], 767: ['076701', '076702', '076703'], 780: ['078001', '078003', '078006', '078007', '078008', '078012', '078013', '078015', '078016', '078018', '078020', '078021', '078024'], 781: ['078101', '078102', '078103', '078104', '078107', '078108', '078109', '078110', '078111', '078112', '078114', '078115', '078116', '078117', '078118', '078119', '078120'], 821: ['082101', '082102', '082103', '082104'], 834: ['083401', '083402', '083404'], 840: ['084001', '084003', '084005', '084008', '084014', '084015', '084016'], 860: ['086001', '086002', '086003', '086004', '086005', '086006', '086008'], 861: ['086101', '086102', '086103'], 862: ['086201', '086202', '086203', '086204'], 880: ['088001', '088002', '088003', '088004', '088005', '088006', '088008', '088009', '088011', '088013', '088015', '088016', '088017', '088018'], 881: ['088101', '088102', '088103', '088104', '088105', '088106', '088108', '088109'], 882: ['088201', '088203', '088205'], 883: ['088301', '088302', '088303', '088305', '088306', '088307', '088308', '088309', '088310', '088311', '088312', '088314', '088315'], 884: ['088401', '088403', '088404', '088405', '088406', '088408', '088409'], 885: ['088501', '088502', '088507', '088509', '088510', '088514'], 980: ['098001', '098002', '098004', '098005', '098010', '098015', '098018', '098025', '098029', '098030', '098031', '098032', '098033', '098034', '098035', '098036', '098040', '098047', '098048', '098050', '098055', '098057', '098059', '098060', '098061', '098062', '098063', '098064', '098065', '098071', '098073', '098074', '098075', '098076', '098079', '098080', '098081', '098084', '098089'], 1060: ['106002', '106003'], 1080: ['108001', '108002', '108004', '108006', '108008', '108009', '108010', '108011', '108012', '108014', '108015', '108018'], 1081: ['108101', '108110'], 1082: ['108201', '108205', '108206'], 1083: ['108301', '108304'], 1214: ['121402', '121405', '121408', '121410'], 1230: ['123006', '123013'], 1231: ['123101'], 1233: ['123304', '123305', '123309'], 1256: ['125601', '125603', '125604', '125606'], 1257: ['125701', '125702', '125703'], 1260: ['126001'], 1261: ['126101', '126103', '126104', '126112'], 1262: ['126201', '126205'], 1263: ['126301', '126307'], 1264: ['126401', '126406', '126412'], 1265: ['126503', '126505', '126510', '126511'], 1266: ['126602'], 1267: ['126702', '126704'], 1270: ['127005', '127009', '127014'], 1272: ['127201', '127203'], 1273: ['127301', '127302', '127303'], 1275: ['127501'], 1276: ['127601', '127605', '127607'], 1277: ['127701', '127703'], 1278: ['127801', '127802', '127804', '127806'], 1280: ['128002', '128006', '128007', '128008', '128010', '128016'], 1281: ['128101', '128102', '128104', '128105', '128113', '128116', '128120', '128121', '128124', '128125', '128127'], 1282: ['128201', '128204'], 1283: ['128301', '128302', '128303', '128305', '128306', '128307', '128309', '128316'], 1284: ['128401', '128402', '128403', '128404', '128405'], 1285: ['128501', '128502', '128511'], 1286: ['128601', '128605', '128611', '128617'], 1287: ['128701', '128706', '128715', '128721', '128731'], 1290: ['129001', '129002', '129005', '129007', '129008', '129009', '129014', '129015', '129024', '129029', '129032', '129035'], 1291: ['129101', '129107', '129119'], 1292: ['129201', '129205', '129206', '129209', '129211'], 1293: ['129301', '129305', '129310', '129311', '129312', '129313', '129314', '129315', '129319'], 1315: ['131501', '131504', '131505', '131506', '131507'], 1380: ['138002', '138003', '138005', '138009', '138011', '138014', '138015', '138019'], 1381: ['138101', '138103', '138105', '138107', '138109', '138111'], 1382: ['138201', '138202', '138206', '138208', '138209', '138211', '138213', '138217', '138218', '138219', '138220', '138221', '138222', '138223', '138224'], 1383: ['138301', '138302', '138305', '138310', '138311', '138312', '138313', '138319', '138320'], 1384: ['138401', '138402', '138403', '138404', '138405', '138406', '138407', '138408', '138409', '138410', '138412', '138414', '138415'], 1401: ['140101', '140102', '140103', '140104'], 1402: ['140201', '140203', '140204'], 1407: ['140701'], 1415: ['141502', '141503', '141504', '141505'], 1419: ['141901', '141902', '141903', '141905'], 1421: ['142101', '142102', '142103', '142104', '142105', '142106', '142110'], 1427: ['142701', '142705', '142706'], 1430: ['143001'], 1435: ['143502', '143503', '143504', '143506', '143507', '143508', '143509'], 1438: ['143803'], 1439: ['143901'], 1440: ['144001', '144003', '144005'], 1441: ['144101', '144102', '144103', '144104'], 1442: ['144201', '144206', '144208', '144210', '144214'], 1443: ['144301', '144302'], 1444: ['144403', '144408', '144409', '144410', '144412'], 1445: ['144502', '144504'], 1446: ['144601', '144602', '144603', '144604'], 1447: ['144701'], 1452: ['145201', '145206', '145208'], 1460: ['146001', '146003', '146005', '146006'], 1461: ['146101', '146103', '146107', '146109'], 1462: ['146201', '146204', '146206', '146207'], 1463: ['146301', '146303', '146304', '146305', '146307', '146312', '146313', '146314', '146315', '146316', '146317', '146318'], 1465: ['146501', '146503', '146506', '146512'], 1466: ['146606'], 1470: ['147001'], 1471: ['147101', '147102', '147112', '147118'], 1472: ['147201', '147202'], 1473: ['147301', '147302', '147307', '147313'], 1480: ['148001', '148004', '148005', '148006', '148007', '148008', '148009', '148010', '148011', '148012', '148013', '148016', '148017', '148020', '148021', '148022', '148023', '148024', '148025', '148028', '148031', '148032', '148033', '148034', '148036', '148037', '148038', '148041'], 1481: ['148101', '148102', '148103', '148104'], 1482: ['148201', '148203', '148204', '148205', '148206', '148208', '148209', '148210', '148211'], 1484: ['148401', '148402', '148403', '148404', '148405'], 1485: ['148501', '148503', '148509', '148510', '148511', '148512', '148513'], 1486: ['148601', '148602', '148606'], 1487: ['148701', '148703', '148704', '148705', '148706', '148707', '148709'], 1488: ['148801', '148803', '148804', '148805', '148807'], 1489: ['148901', '148908', '148909', '148910'], 1490: ['149001', '149002', '149003', '149006', '149011', '149016', '149019', '149020'], 1491: ['149101', '149105', '149110', '149116', '149120', '149128', '149129'], 1492: ['149201'], 1493: ['149301', '149303', '149312', '149318'], 1494: ['149401', '149403', '149405', '149413', '149424', '149431'], 1495: ['149501', '149508', '149516'], 1496: ['149601', '149608', '149614', '149615', '149617', '149620', '149624', '149627'], 1497: ['149701', '149704', '149706', '149708'], 1498: ['149801', '149803', '149807', '149812', '149816'], 1499: ['149901', '149902', '149905', '149916', '149921', '149924', '149928', '149933', '149934', '149941', '149947', '149951'], 1715: ['171501', '171502', '171503'], 1730: ['173001', '173003', '173005'], 1737: ['173701', '173702', '173703', '173705', '173708'], 1760: ['176001'], 1761: ['176101'], 1763: ['176301'], 1764: ['176401', '176403', '176404'], 1765: ['176501', '176502', '176503', '176505', '176506', '176507', '176508', '176509'], 1766: ['176601', '176602', '176603', '176604', '176605'], 1780: ['178001', '178002', '178003', '178006', '178008', '178009', '178011'], 1781: ['178101', '178103', '178104', '178105', '178106'], 1782: ['178201'], 1783: ['178301', '178302', '178304'], 1784: ['178401', '178402', '178403', '178405', '178407', '178408', '178409', '178410', '178411'], 1785: ['178501', '178502', '178503', '178504', '178508', '178509', '178510', '178511', '178512'], 1814: ['181402', '181405'], 1860: ['186001', '186002', '186004'], 1861: ['186101', '186102', '186104'], 1862: ['186201'], 1863: ['186301', '186302'], 1864: ['186401'], 1880: ['188001', '188002', '188003', '188004', '188005', '188008', '188013', '188015', '188016', '188027', '188030', '188031'], 1881: ['188101', '188102', '188103'], 1882: ['188201', '188203', '188204'], 1883: ['188301'], 1884: ['188404'], 1885: ['188502', '188504', '188505'], 1904: ['190402'], 1907: ['190701'], 1960: ['196001'], 1961: ['196101'], 1962: ['196201'], 1980: ['198001', '198002', '198003', '198007', '198009', '198010', '198011', '198016', '198020', '198022', '198023', '198024', '198025'], 1981: ['198101', '198102', '198104', '198105', '198106', '198107', '198108'], 1982: ['198201'], 1983: ['198301', '198304'], 1984: ['198401'], 2021: ['202101'], 2023: ['202302', '202303'], 2026: ['202601', '202602', '202603'], 2029: ['202901', '202902', '202903', '202904'], 2031: ['203101', '203103', '203104'], 2034: ['203402'], 2039: ['203902', '203905'], 2061: ['206101', '206102'], 2062: ['206201'], 2080: ['208001', '208002', '208003', '208004', '208006', '208007', '208008', '208010', '208011'], 2081: ['208102', '208103'], 2082: ['208201'], 2083: ['208301'], 2084: ['208401', '208403', '208404', '208406'], 2085: ['208501', '208503'], 2101: ['210102'], 2104: ['210401', '210402'], 2121: ['212101'], 2132: ['213202', '213205'], 2161: ['216101', '216103', '216104', '216107'], 2180: ['218001', '218003', '218004', '218005', '218006'], 2181: ['218101', '218102', '218103', '218104'], 2182: ['218201', '218203', '218204', '218205', '218206', '218209'], 2183: ['218303', '218304', '218306', '218309'], 2184: ['218401', '218405', '218408', '218409', '218411'], 2260: ['226002', '226004'], 2262: ['226201', '226202', '226203', '226204'], 2280: ['228001', '228002', '228003', '228004', '228005', '228006', '228007'], 2281: ['228101', '228103', '228104', '228105', '228106', '228107', '228108', '228110', '228111', '228112', '228113'], 2282: ['228201', '228202', '228204', '228205', '228206', '228207', '228208', '228209', '228210', '228211'], 2283: ['228301', '228302', '228303', '228304', '228305', '228306', '228307', '228308', '228309', '228311', '228312', '228315'], 2284: ['228401', '228402', '228404', '228405', '228406', '228407', '228408', '228409', '228410', '228411', '228412'], 2303: ['230301', '230302', '230303', '230304'], 2305: ['230501', '230503', '230506'], 2309: ['230901', '230902', '230903', '230904', '230906', '230908', '230910'], 2313: ['231301', '231303', '231304', '231305', '231306', '231307', '231308'], 2321: ['232101', '232103', '232104', '232105'], 2326: ['232601', '232602', '232603', '232606', '232608'], 2361: ['236101', '236105', '236107', '236109'], 2380: ['238001', '238002', '238004', '238005', '238006', '238007', '238009'], 2401: ['240102'], 2403: ['240301'], 2404: ['240401'], 2409: ['240901'], 2417: ['241702'], 2418: ['241801'], 2421: ['242101', '242103'], 2422: ['242201'], 2425: ['242501'], 2460: ['246001'], 2462: ['246201'], 2463: ['246301'], 2480: ['248001', '248002', '248003', '248004', '248005', '248006', '248007', '248009', '248011'], 2481: ['248101'], 2482: ['248201', '248202', '248203', '248204', '248205', '248206', '248207', '248210', '248211'], 2505: ['250502'], 2506: ['250602'], 2510: ['251002'], 2513: ['251301'], 2514: ['251401'], 2518: ['251801'], 2521: ['252101'], 2523: ['252301'], 2560: ['256002'], 2580: ['258002', '258003', '258004'], 2581: ['258102', '258103', '258105'], 2582: ['258201', '258202', '258203', '258204'], 2583: ['258301'], 2584: ['258401', '258402', '258403']}\n"
     ]
    }
   ],
   "source": [
    "# Create an empty dictionary to store the grouped items\n",
    "grouped_dict = {}\n",
    "\n",
    "# Iterate over the DataFrame and group items based on the 'number_column'\n",
    "for index, row in df.iterrows():\n",
    "    number = row['Kommun']\n",
    "    number = str(number)\n",
    "    if len(number) == 3:\n",
    "        number = \"0\"+number\n",
    "    value = row['Församling']\n",
    "    value = str(value)\n",
    "    if len(value) == 5:\n",
    "        value = \"0\"+value\n",
    "\n",
    "    if number in grouped_dict:\n",
    "        # Append to existing key's list\n",
    "        grouped_dict[number].append(value)\n",
    "    else:\n",
    "        # Create a new key with a list containing the current value\n",
    "        grouped_dict[number] = [value]\n",
    "\n",
    "print(grouped_dict)\n"
   ]
  }
 ],
 "metadata": {
  "kernelspec": {
   "display_name": "base",
   "language": "python",
   "name": "python3"
  },
  "language_info": {
   "codemirror_mode": {
    "name": "ipython",
    "version": 3
   },
   "file_extension": ".py",
   "mimetype": "text/x-python",
   "name": "python",
   "nbconvert_exporter": "python",
   "pygments_lexer": "ipython3",
   "version": "3.10.9"
  }
 },
 "nbformat": 4,
 "nbformat_minor": 2
}
