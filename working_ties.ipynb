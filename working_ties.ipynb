{
 "cells": [
  {
   "cell_type": "code",
   "execution_count": 525,
   "metadata": {},
   "outputs": [],
   "source": [
    "import random\n",
    "import pandas as pd\n"
   ]
  },
  {
   "cell_type": "code",
   "execution_count": 526,
   "metadata": {},
   "outputs": [],
   "source": [
    "numbers = [str(x) for x in range(10)]\n",
    "CfarNumbers = set([])\n",
    "def generate_CfarNr_LISA(): #Will generate an arbitrary unique 8 digit number\n",
    "    while True:\n",
    "        CfarNr_LISA = \"\"\n",
    "        for _ in range(8):\n",
    "            CfarNr_LISA = CfarNr_LISA + numbers[random.randint(0, 9)]\n",
    "        if CfarNr_LISA not in CfarNumbers:\n",
    "            CfarNumbers.add(CfarNr_LISA)\n",
    "            return CfarNr_LISA\n",
    "\n",
    "# for _ in range(100):\n",
    "#     a = generate_CfarNr_LISA()\n",
    "# print(CfarNumbers)"
   ]
  },
  {
   "cell_type": "code",
   "execution_count": 527,
   "metadata": {},
   "outputs": [],
   "source": [
    "AstNumbers = set([])\n",
    "def generate_AstNr_LISA(): #Gives a number to specify what job the person has, like a contractor, teacher, accountant etc\n",
    "    not_allowed_number = [\"00000\"]\n",
    "    generate_new_AstNr = random.randint(1,100)\n",
    "    if generate_new_AstNr > 95: #5% of people have a number in these lines\n",
    "        special_numbers = [\"99980\",\"99981\",\"99982\",\"99983\",\"99984\",\"99985\",\"99986\",\"99987\",\"99988\",\"99989\",\"99990\",\"99991\",\"99992\",\"99993\",\"99994\",\"99996\",\"99998\",\"99999\"]\n",
    "        return special_numbers[random.randint(0,len(special_numbers)-1)]\n",
    "    else:\n",
    "        if generate_new_AstNr > 50 and len(AstNumbers)>0:\n",
    "            jobs = list(AstNumbers)\n",
    "            return jobs[random.randint(0, len(jobs)-1)]\n",
    "        else: \n",
    "            while True:\n",
    "                AstNr_LISA = \"\"\n",
    "                for _ in range(5):\n",
    "                    AstNr_LISA = AstNr_LISA + numbers[random.randint(0, 9)]\n",
    "                if AstNr_LISA not in AstNumbers and AstNr_LISA not in not_allowed_number:\n",
    "                    AstNumbers.add(AstNr_LISA)\n",
    "                    return AstNr_LISA\n",
    "\n",
    "# for _ in range(100):\n",
    "#     a = generate_AstNr_LISA()\n",
    "# print(AstNumbers)    "
   ]
  },
  {
   "cell_type": "code",
   "execution_count": 528,
   "metadata": {},
   "outputs": [],
   "source": [
    "PeOrgNumbers = set([])\n",
    "\n",
    "def generate_PeOrgNr(personnummer):\n",
    "    number = random.randint(0,10000)\n",
    "    existing_job_numbers = list(PeOrgNumbers)\n",
    "    if number > 87: #The person is a selfstarter and the organisation number is the person's personnumber\n",
    "        PeOrgNumbers.add(personnummer[2:])\n",
    "        return personnummer[2:]\n",
    "\n",
    "    elif number > 60 and len(existing_job_numbers) > 0: # Use an existing job number \n",
    "        return existing_job_numbers[random.randint(0, len(existing_job_numbers)-1)]\n",
    "    else: #Generate a new job\n",
    "        while True:\n",
    "            PeOrgNr = \"\"\n",
    "            for _ in range(6):\n",
    "                PeOrgNr = PeOrgNr + numbers[random.randint(0, 9)]\n",
    "            PeOrgNr = PeOrgNr +\"-\"\n",
    "            for _ in range(4):\n",
    "                PeOrgNr = PeOrgNr + numbers[random.randint(0, 9)]\n",
    "            if PeOrgNr not in PeOrgNumbers:\n",
    "                PeOrgNumbers.add(PeOrgNr)\n",
    "                return PeOrgNr\n",
    "        "
   ]
  },
  {
   "cell_type": "code",
   "execution_count": 529,
   "metadata": {},
   "outputs": [],
   "source": [
    "from variable_functions.generate_demographic_variables import generate_demographic\n",
    "from variable_functions.generate_economic_variables import generate_economic\n",
    "from variable_functions.generate_family_variables import generate_family\n",
    "from variable_functions.generate_geographical_variables import generate_geographical\n",
    "import variable_functions.generate_geographical_variables as ggv"
   ]
  },
  {
   "cell_type": "code",
   "execution_count": 530,
   "metadata": {},
   "outputs": [],
   "source": [
    "def generate_company(personnummer, kommunnamn, lansnamn, prefix=\"\", yrkstallning=\"\", no_income=False):\n",
    "    if no_income:\n",
    "        work_data = {\n",
    "                        f'{prefix}PeOrgNr'   : [None],\n",
    "                        f'{prefix}Cfar_nr'   : [None],\n",
    "                        f'{prefix}AstNr'     : [None],\n",
    "                        f'{prefix}AstKommun' : [None],\n",
    "                        f'{prefix}AstLan'    : [None],\n",
    "                        f'{prefix}YrkStalln' : [None],\n",
    "                        }     \n",
    "        work_data = pd.DataFrame.from_dict(work_data)\n",
    "\n",
    "    else:\n",
    "        PeOrgNr = generate_PeOrgNr(personnummer)\n",
    "        Cfar_Nr = generate_CfarNr_LISA()\n",
    "        AstNr = generate_AstNr_LISA()\n",
    "        work_data = {\n",
    "                        f'{prefix}PeOrgNr'   : [PeOrgNr],\n",
    "                        f'{prefix}Cfar_nr'   : [Cfar_Nr],\n",
    "                        f'{prefix}AstNr'     : [AstNr],\n",
    "                        f'{prefix}AstKommun' : [kommunnamn],\n",
    "                        f'{prefix}AstLan'    : [lansnamn],\n",
    "                        f'{prefix}YrkStalln' : [yrkstallning],\n",
    "                        }     \n",
    "        work_data = pd.DataFrame.from_dict(work_data)\n",
    "    return work_data"
   ]
  },
  {
   "cell_type": "code",
   "execution_count": 531,
   "metadata": {},
   "outputs": [],
   "source": [
    "def generate_working_ties(personnummer, county, economicstatus, yrkstallning):\n",
    "    Kommun = ggv.generate_municipal(county)\n",
    "    no_prefix_working_ties = generate_company(personnummer, Kommun, county, yrkstallning=str(yrkstallning))\n",
    "    if economicstatus[0] > 0:\n",
    "        Kommun = ggv.generate_municipal(county)\n",
    "        prefix_working_ties1 = generate_company(personnummer, Kommun, county, prefix=\"KU1\", yrkstallning=\"1\") #Yrkstallning hardcoded needs FIX\n",
    "    else:\n",
    "        prefix_working_ties1 = generate_company(personnummer, Kommun, county, prefix=\"KU1\", yrkstallning=\"1\", no_income=True) #Yrkstallning hardcoded needs FIX\n",
    "\n",
    "    if economicstatus[1] > 0:\n",
    "        Kommun = ggv.generate_municipal(county)\n",
    "        prefix_working_ties2 = generate_company(personnummer, Kommun, county, prefix=\"KU2\", yrkstallning=\"1\") #Yrkstallning hardcoded needs FIX\n",
    "    else:\n",
    "        prefix_working_ties2 = generate_company(personnummer, Kommun, county, prefix=\"KU2\", yrkstallning=\"1\", no_income=True) #Yrkstallning hardcoded needs FIX\n",
    "    if economicstatus[2] > 0:\n",
    "        Kommun = ggv.generate_municipal(county)\n",
    "        prefix_working_ties3 = generate_company(personnummer, Kommun, county, prefix=\"KU3\", yrkstallning=\"1\") #Yrkstallning hardcoded needs FIX\n",
    "    else:\n",
    "        prefix_working_ties3 = generate_company(personnummer, Kommun, county, prefix=\"KU3\", yrkstallning=\"1\", no_income=True) #Yrkstallning hardcoded needs FIX\n",
    "    \n",
    "    working_data = pd.concat([no_prefix_working_ties, prefix_working_ties1, prefix_working_ties2, prefix_working_ties3], axis=1)\n",
    "    return working_data\n"
   ]
  },
  {
   "cell_type": "code",
   "execution_count": 532,
   "metadata": {},
   "outputs": [],
   "source": [
    "sample_year = 2019\n",
    "amount = 1"
   ]
  },
  {
   "cell_type": "code",
   "execution_count": 533,
   "metadata": {},
   "outputs": [
    {
     "name": "stdout",
     "output_type": "stream",
     "text": [
      "\n",
      "1\n"
     ]
    }
   ],
   "source": [
    "Geographical = generate_geographical()\n",
    "Lan = Geographical.loc[0, 'Lan']\n",
    "\n",
    "Family = generate_family(sample_year, amount)\n",
    "PersonNr = Family.loc[0, 'PersonNr']\n",
    "\n",
    "Economic = generate_economic(amount, sample_year)\n",
    "income = [Economic.loc[0, 'KU1lnk'], Economic.loc[0, 'KU2lnk'], Economic.loc[0, 'KU3lnk']]\n",
    "yrks = Economic.loc[0, 'YrkStalln']\n",
    "\n",
    "Demographic = generate_demographic(PersonNr)\n",
    "Work = generate_working_ties(PersonNr, Lan, income, yrks)"
   ]
  },
  {
   "cell_type": "code",
   "execution_count": null,
   "metadata": {},
   "outputs": [],
   "source": []
  }
 ],
 "metadata": {
  "kernelspec": {
   "display_name": "base",
   "language": "python",
   "name": "python3"
  },
  "language_info": {
   "codemirror_mode": {
    "name": "ipython",
    "version": 3
   },
   "file_extension": ".py",
   "mimetype": "text/x-python",
   "name": "python",
   "nbconvert_exporter": "python",
   "pygments_lexer": "ipython3",
   "version": "3.10.9"
  }
 },
 "nbformat": 4,
 "nbformat_minor": 2
}
